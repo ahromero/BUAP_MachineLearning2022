{
 "cells": [
  {
   "cell_type": "markdown",
   "id": "20a31a4b",
   "metadata": {},
   "source": [
    "## Introduccion a Machine Learning\n",
    "\n",
    "## Facultad de Ingenieria\n",
    "\n",
    "## Benemerita Universidad Autonoma de Puebla (BUAP)"
   ]
  },
  {
   "cell_type": "markdown",
   "id": "1cead93f",
   "metadata": {},
   "source": [
    "### Preliminares:\n",
    "    \n",
    "> Instructor:  Aldo Humberto Romero\n",
    "\n",
    ">> Eberly Family Distinguished Professor, Physics Department, West Virginia University"
   ]
  },
  {
   "cell_type": "markdown",
   "id": "237d7a57",
   "metadata": {},
   "source": [
    "Modulos para hoy:\n",
    "    \n",
    "1. Introducción al curso (este modulo)\n",
    "\n",
    "2. Introdución a Python. Aqui yo voy a asumir que ustedes tienen una preparacion basica en programacion, aunque no es necesaria y espero que ustedes puedan seguir el curso, inclusive si no hay tenido experiencia en programación, la verdad es que sera un poquitín mas dificil, pero seguro que no tendran problema.\n",
    "\n",
    "3. Manipulacion de archivos.\n",
    "\n",
    "4. Funciones. Desde una linea, funciones lambda/map/reduce a mas complejas."
   ]
  },
  {
   "cell_type": "markdown",
   "id": "592e2593",
   "metadata": {},
   "source": [
    "Cada sesion que nos reuniremos tiene una tarea. Son pequeños proyectos en Python donde pondremos en practica lo que hemos aprendido en clase. \n",
    "\n",
    "Cada tarea sen entregara el dia anterior de nuestra clase (es decir cada viernes).\n",
    "\n",
    "Cada tarea ha sido ya creada, yo he creado una plantilla para cada tarea. Aunque no la tienen que usar, creo que les servira mucho porque en cada tarea yo doy instrucciones que les pueden ayudar a resolver el problema de manera mas facil.\n",
    "\n",
    "Cada tarea tiene cierto nombre. Por ejemplo **tarea1_BUAP_2002.ipynb**.\n",
    "Para enviar la tarea lo que ustedes tienen que hacer es cambiarle el nombre a la tarea de tal manera que el nuevo nombre es **tarea1_Romero.Aldo_BUAP_2002.ipynb**. Tambien observen que en la plantilla que hemos creado, en la primera celda, hay una parte donde ustedes tienen que poner su nombre.\n",
    "\n",
    "Observen que el nombre lo pueden cambiar directamente en jupyter notebook en la parte que dice \"rename\". "
   ]
  },
  {
   "cell_type": "code",
   "execution_count": null,
   "id": "62e93964",
   "metadata": {},
   "outputs": [],
   "source": []
  }
 ],
 "metadata": {
  "kernelspec": {
   "display_name": "Python 3 (ipykernel)",
   "language": "python",
   "name": "python3"
  },
  "language_info": {
   "codemirror_mode": {
    "name": "ipython",
    "version": 3
   },
   "file_extension": ".py",
   "mimetype": "text/x-python",
   "name": "python",
   "nbconvert_exporter": "python",
   "pygments_lexer": "ipython3",
   "version": "3.9.7"
  }
 },
 "nbformat": 4,
 "nbformat_minor": 5
}
