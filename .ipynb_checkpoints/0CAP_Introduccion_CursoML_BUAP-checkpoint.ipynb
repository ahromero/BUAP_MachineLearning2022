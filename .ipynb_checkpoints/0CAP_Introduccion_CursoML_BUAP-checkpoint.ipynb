{
 "cells": [
  {
   "cell_type": "markdown",
   "id": "20a31a4b",
   "metadata": {},
   "source": [
    "# Introduccion a Machine Learning\n",
    "\n",
    "## Facultad de Ingenieria\n",
    "\n",
    "## Benemerita Universidad Autonoma de Puebla (BUAP)"
   ]
  },
  {
   "cell_type": "markdown",
   "id": "1cead93f",
   "metadata": {},
   "source": [
    "### Preliminares:\n",
    "    \n",
    "> Instructor:  Aldo Humberto Romero\n",
    "\n",
    ">> Eberly Family Distinguished Professor, Physics Department, West Virginia University"
   ]
  },
  {
   "cell_type": "markdown",
   "id": "237d7a57",
   "metadata": {},
   "source": [
    "**Modulos para hoy**:\n",
    "    \n",
    "1. Introducción al curso (este modulo)\n",
    "\n",
    "2. Instalando GitHub\n",
    "\n",
    "3. Introdución a Python. Aqui yo voy a asumir que ustedes tienen una preparacion basica en programacion, aunque no es necesaria y espero que ustedes puedan seguir el curso, inclusive si no hay tenido experiencia en programación, la verdad es que sera un poquitín mas dificil, pero seguro que no tendran problema.\n",
    "\n",
    "4. Manipulacion de archivos.\n",
    "\n",
    "5. Funciones. "
   ]
  },
  {
   "cell_type": "markdown",
   "id": "592e2593",
   "metadata": {},
   "source": [
    "Cada sesion que nos reuniremos tiene una tarea. Son pequeños proyectos en Python donde pondremos en practica lo que hemos aprendido en clase. \n",
    "\n",
    "Cada tarea sen entregara el dia anterior de nuestra clase (es decir cada viernes).\n",
    "\n",
    "Cada tarea ha sido ya creada, yo he creado una plantilla para cada tarea. Aunque no la tienen que usar, creo que les servira mucho porque en cada tarea yo doy instrucciones que les pueden ayudar a resolver el problema de manera mas facil.\n",
    "\n",
    "Cada tarea tiene cierto nombre. Por ejemplo **tarea1_BUAP_2002.ipynb**.\n",
    "Para enviar la tarea lo que ustedes tienen que hacer es cambiarle el nombre a la tarea de tal manera que el nuevo nombre es **tarea1_Romero.Aldo_BUAP_2002.ipynb**. Tambien observen que en la plantilla que hemos creado, en la primera celda, hay una parte donde ustedes tienen que poner su nombre.\n",
    "\n",
    "Observen que el nombre lo pueden cambiar directamente en jupyter notebook en la parte que dice \"rename\". \n",
    "\n",
    "Las herramientas que vamos a usar, basicamente son\n",
    "\n",
    "**Python**\n",
    "\n",
    "**Jupyter notebooks**\n",
    "\n",
    "**Google colab**\n"
   ]
  },
  {
   "cell_type": "markdown",
   "id": "813af071",
   "metadata": {},
   "source": [
    "Antes que nada, ustedes tendran acceso a todos los notebooks, lo que les permitira usarlos. Para ello tendran que bajarlos a su computadora. Hay diferentes guias que les pueden ser utiles\n",
    "\n",
    "1) [Link 1](https://docs.github.com/en/desktop/installing-and-configuring-github-desktop/installing-and-authenticating-to-github-desktop/installing-github-desktop)\n",
    "\n",
    "2) [Link 2](https://github.com/git-guides/install-git)\n",
    "\n",
    "3) [Link 3](https://www.computerhope.com/issues/ch001927.htm). Este en particular tambien tiene una discusion de como usarlo. \n",
    "\n",
    "Al final luego de la instalacion, ustedes deben ser capaces de hacer copia del directorio donde mantendremos la informacion de la clase. Como es una clase que va progresando, probablemente tendran que ir haciendo \"updates\" del directorio con el comando\n",
    "\n",
    "```\n",
    "git pull\n",
    "```\n",
    "\n",
    "dentro del directorio donde tienen la informacion que hayan bajado.\n",
    "\n",
    "Yo les ire diciendo cuando haya hecho cambios de los notebooks."
   ]
  },
  {
   "cell_type": "markdown",
   "id": "934a55f0",
   "metadata": {},
   "source": [
    "## Instalacion de Python"
   ]
  },
  {
   "cell_type": "markdown",
   "id": "8ca8a688",
   "metadata": {},
   "source": [
    "Para esta clase tendremos dos maneras de usar Python. \n",
    "\n",
    "1. Instalacion local en su maquina. Esto si tienes experiencia en al parte tecnica de su computador. Si no sabes si lo quieres instalar, o si no tienes la destreza para hacerlo, ya hablaremos de esto.\n",
    "\n",
    "\n",
    "Instalacion en Windows. Desde su web browser y busque por\n",
    "\n",
    "*[miniconda](https://docs.conda.io/en/latest/miniconda.html)*\n",
    "\n",
    "Supongo que algunos de ustedes han escuchado del proceso de instalar python usando **anaconda**. La verdad es que este ultimo es el primo grande, y cuando lo instalas, instala todos los programas inimaginables de python, o al menos una gran mayoria, en cambio miniconda, solo lo estrictamente necesario. \n",
    "\n",
    "En el link de arriba ya tiene el link para el programa de instalacion. Deben bajarlo y seguir la instalacion.Tomen nota de donde es instalado, porque probablemente tengamos que usarlo mas adelante. Una recomendacion es aceptar el miniconda al PATH. Esto no deberia de tener problema a menos que ustedes tengan otro programa creado en Python que sea en una version mas vieja que la que estan instalando.\n",
    "\n",
    "Luego de este paso, miniconda esta instalado y el resto de la instalacion, en particular paquetes que vamos a necesitar en el curso, los tiene que instalar desde la linea de comandos (el tambien llamado command prompt).\n",
    "\n",
    "Ya podemos instalar otros paquetes con las siguientes lineas\n",
    "\n",
    "```\n",
    "conda install -u jupyter\n",
    "```\n",
    "\n",
    "Ahora, lo mejor para mantener bien las aplicaciones y sobre todo para que las aplicaciones not tengan problemas entre ellas (por ejemplo entre paquetes de astronomia con paquetes de redes neuronales), lo mejor es usar medios ambientes (environments).\n",
    "\n",
    "Cuando se instala anaconda uno tiene un \"base\", pero en general uno puede montar tantos environmentes como quiera.\n",
    "Esto se hace con el comando\n",
    "\n",
    "```\n",
    "conda create -name <nombre del environment deseado>\n",
    "``` \n",
    "\n",
    "Por ejemplo, Tensorflow es un paquete muy conocido en el area de Machine Learning, probablemente uno de los mas usado y para instalar el paquete, donde de un environment con todas sus dependencias solo tenes que \n",
    "\n",
    "```\n",
    "conda create --name tensorflow python=3.9\n",
    "```\n",
    "\n",
    "Esto sucede bien rapido y si todo sale bien, entonces ya solo tenemos es\n",
    "\n",
    "```\n",
    "conda activate tensorflow\n",
    "```\n",
    "\n",
    "tambien hay una paqueteria que es muy util \n",
    "\n",
    "```\n",
    "conda install nb_conda\n",
    "```\n",
    "\n",
    "Especialmente porque permite unir lo que hemos hecho a Jupyter Notebook\n",
    "\n",
    "Por ultimo, buena parte de este curso y en especial las tareas, vas a necesitar le paquete SciKit.\n",
    "\n",
    "Si vas a trabajar en Google Colab no tienes que hacer nada y ya veremos como importarlo directamente, pero si lo quieres montar en tu maquina, lo unico que tienes que hacer (si es que en los pasos pasado no lo has importado ya)\n",
    "\n",
    "```\n",
    "conda install -c anaconda scikit-learn \n",
    "```\n",
    "\n",
    "Este paquete esta muy bien documentado y ahi siempre puedes encontrar informacion de las cosas que necesitas. Siga el [link](https://scikit-learn.org/stable/).\n",
    "    \n",
    "2. Uso de Google Colab. Aqui vas a tener acceso a CPU or GPU y para nuestros propositos cumple perfectamente nuestras necesidades.\n",
    "\n",
    "Para esto, o puedes buscarlo en tu buscador o puedes seguir el [link](https://colab.research.google.com/?utm_source=scs-index)"
   ]
  },
  {
   "cell_type": "markdown",
   "id": "5a40faf2",
   "metadata": {},
   "source": [
    "Por ultimo, hay un link que es muy util en el area de data science, que es [Kaggle](https://www.kaggle.com). Este sitio contiene datos, contienes codigos para resolver problemas especificos, etc. Este sitio sera de utilidad para nosotros porque es de aqui de donde vamos a sacar los datos.\n",
    "\n",
    "Por ultimo esta el sitio en donde tengo todos los archivos, jupyter notebooks y demas del curso que vamos a seguir. Este lo puedes encontrar en el [sitio](https://github.com/ahromero/BUAP_MachineLearning2022).\n"
   ]
  }
 ],
 "metadata": {
  "kernelspec": {
   "display_name": "Python 3 (ipykernel)",
   "language": "python",
   "name": "python3"
  },
  "language_info": {
   "codemirror_mode": {
    "name": "ipython",
    "version": 3
   },
   "file_extension": ".py",
   "mimetype": "text/x-python",
   "name": "python",
   "nbconvert_exporter": "python",
   "pygments_lexer": "ipython3",
   "version": "3.9.7"
  }
 },
 "nbformat": 4,
 "nbformat_minor": 5
}
