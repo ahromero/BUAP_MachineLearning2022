{
 "cells": [
  {
   "cell_type": "markdown",
   "metadata": {},
   "source": [
    "# Machine Learning practico con la ayuda de Python\n",
    "# Capitulo 1: Introduccion a la sintaxis de Python\n",
    "\n",
    "## Aldo Humberto Romero \n",
    "\n",
    "### BUAP, Marzo, 2022"
   ]
  },
  {
   "cell_type": "markdown",
   "metadata": {},
   "source": [
    "## Contenido de este y siguientes capitulos (Python).\n",
    "\n",
    "Python is realmente un lenguaje de programacion para todo proposito. En este capitulo nos vamos a enfocar unicamente en la sintaxis de Python. Probablemente muchos de ustedes ya conocen este lenguaje de programacion, pero yo voy a asumir que su conocimientos no es muy profundo porque esto me permitira nivelar los conceptos de todos.\n",
    "\n",
    "\n",
    "Python es un lenguaje de programacion para todo proposition. Es interpretado linea por linea y es uno de esos lenguajes de programacion ideal para el trabajo interactivo y para hacer cosas relativamente formales, ya que se pueden crear una gran diversidad de aplicaciones. En el caso particular de Machine Learning (el cual de ahora en adelante lo vamos a denotar como ML), es uno de los lenguajes mas usados, a la par talvez con **R** y muy recientemente con **Julia**. Mi presentacion esta dirigiga a computacion cientifica y especialmente a tareas que son comunes en el area de ML.\n",
    "\n",
    "Lo que hablaremos de Python entonces sera\n",
    "\n",
    "  * **Sintaxis de Python \\[Este notebook\\]**\n",
    "  * La libreria standard de Python (Capitulo 2)\n",
    "  * Numpy (Capitulo 3)\n",
    "  * Matplotlib  (Capitulo 4)\n",
    "  * Pandas  (Capitulo 5)\n",
    "\n",
    "Luego de cubrir estos capitulos, lo que espero terminemos hoy, ustedes seran capaces de crear programas complejos y en particular en diferentes aplicaciones de ML.\n"
   ]
  },
  {
   "cell_type": "markdown",
   "metadata": {},
   "source": [
    "## Configuracion"
   ]
  },
  {
   "cell_type": "code",
   "execution_count": 1,
   "metadata": {},
   "outputs": [],
   "source": [
    "%load_ext watermark"
   ]
  },
  {
   "cell_type": "code",
   "execution_count": 2,
   "metadata": {
    "scrolled": false
   },
   "outputs": [
    {
     "name": "stdout",
     "output_type": "stream",
     "text": [
      "Last updated: 2022-03-19T19:16:42.243998+01:00\n",
      "\n",
      "Python implementation: CPython\n",
      "Python version       : 3.9.7\n",
      "IPython version      : 8.0.1\n",
      "\n",
      "Compiler    : Clang 11.1.0 \n",
      "OS          : Darwin\n",
      "Release     : 21.3.0\n",
      "Machine     : arm64\n",
      "Processor   : arm\n",
      "CPU cores   : 10\n",
      "Architecture: 64bit\n",
      "\n"
     ]
    }
   ],
   "source": [
    "%watermark"
   ]
  },
  {
   "cell_type": "markdown",
   "metadata": {},
   "source": [
    "Alguna de las celdas usan la funcion `input`. Si deseas probar todo el notebook sin que haga estas preguntas, entonces podemos desabilitarlas. Para lo que haremos en clase, no es tan importante."
   ]
  },
  {
   "cell_type": "code",
   "execution_count": 3,
   "metadata": {},
   "outputs": [],
   "source": [
    "use_input=False"
   ]
  },
  {
   "cell_type": "markdown",
   "metadata": {},
   "source": [
    "# Introduccion"
   ]
  },
  {
   "cell_type": "markdown",
   "metadata": {},
   "source": [
    "[Python](http://www.python.org/) es un lenguaje de programacion que se considerar que es multi-paradigma, que tiene un proposito general, que es de interpretacion de linea y es consideraro un lenguaje de programacion de alto nivel.\n",
    "\n",
    "Python es **multiparadigma** porque soporte multiples paradigmas de programacion como la inclusion de procedimientos, orientado a objetos y de programacion funcional. \n",
    "\n",
    "Python se hace linea por linea ya que tiene una libreria estandar muy bien formada y que es capaz de detectar error dentro de estas lineas de manera independiente. Tambien de denomina como de **proposito general** ya que es muy flexible para las diversas aplicaciones, inclusive se suele decir que viene con las baterias incluidas.\n",
    "\n",
    "Python es un lenguaje interpretado, lo que nos evita tener que compilar antes de ejecutas, porque Python hace la compilcacion en el fondo.\n",
    "\n",
    "Python es un **lenguaje de programacion de alto nivel** porque abstrae muchos de los detalles sofisticados de un codigo de programacion. Python se enfoca en la abstraccion, talve que puede ser entendido hasta por un principiante."
   ]
  },
  {
   "cell_type": "markdown",
   "metadata": {},
   "source": [
    "## Ahora si, manos a la obra parte I"
   ]
  },
  {
   "cell_type": "markdown",
   "metadata": {},
   "source": [
    "Ahora vamos a explorar un poco lo que se puede hacer con Python. Esta seccion tiene dos propositos, darles una vista muy rapidad de las cosas que se pueden hacer con Python a la vez que ustedes pueden hacerlo de manera directa. Aqui nos daremos cuenta tambien si algunas de las librerias estan montadas o no, y si hay que instalarlas. Es muy probable que si usan **Google colab** no haya nada que hacer, pero si lo has montado en tu maquina, hay una probabilidad de que esto pase."
   ]
  },
  {
   "cell_type": "code",
   "execution_count": 4,
   "metadata": {},
   "outputs": [
    {
     "data": {
      "text/plain": [
       "365"
      ]
     },
     "execution_count": 4,
     "metadata": {},
     "output_type": "execute_result"
    }
   ],
   "source": [
    "31*7 + 30*4 + 28"
   ]
  },
  {
   "cell_type": "markdown",
   "metadata": {},
   "source": [
    "Calculadoras viejas usualmente fallan en hacer: "
   ]
  },
  {
   "cell_type": "code",
   "execution_count": 5,
   "metadata": {},
   "outputs": [
    {
     "data": {
      "text/plain": [
       "11978571669969891796072783721689098736458938142546425857555362864628009582789845319680000000000000000"
      ]
     },
     "execution_count": 5,
     "metadata": {},
     "output_type": "execute_result"
    }
   ],
   "source": [
    "import math\n",
    "\n",
    "# 70! = 70*69*68....*1\n",
    "\n",
    "math.factorial(70)"
   ]
  },
  {
   "cell_type": "code",
   "execution_count": 7,
   "metadata": {},
   "outputs": [
    {
     "data": {
      "text/plain": [
       "1.1978571669969892e+100"
      ]
     },
     "execution_count": 7,
     "metadata": {},
     "output_type": "execute_result"
    }
   ],
   "source": [
    "float(math.factorial(70))"
   ]
  },
  {
   "cell_type": "markdown",
   "metadata": {},
   "source": [
    "Podemos hacer cosas de manera que se hagan mas eficiente. Solo por demostracion porque hablaremos de esto mas adelante, usaremos lo que se llama un **list comprenhension**."
   ]
  },
  {
   "cell_type": "code",
   "execution_count": 8,
   "metadata": {},
   "outputs": [
    {
     "name": "stdout",
     "output_type": "stream",
     "text": [
      "[2, 3, 5, 7, 11, 13, 17, 19, 23, 29, 31, 37, 41, 43, 47, 53, 59, 61, 67, 71, 73, 79, 83, 89, 97]\n"
     ]
    }
   ],
   "source": [
    "#los numeros primos!\n",
    "n = 100 \n",
    "primes = [prime for prime in range(2, n) if prime not in \n",
    "          [noprimes for i in range(2, int(n**0.5)) for noprimes in \n",
    "           range(i * 2, n, i)]]\n",
    "print(primes)"
   ]
  },
  {
   "cell_type": "markdown",
   "metadata": {},
   "source": [
    "Uno de los poderes de Python es que uno puede cargar \"paquetes\" e inmediatamente tener accesso a toda su funcionalidad. Por ejemplo podemos cargar paqueteria para saber la version de Python que tienes (mas detalles en el [link](https://docs.python.org/3/library/sys.html))"
   ]
  },
  {
   "cell_type": "code",
   "execution_count": 9,
   "metadata": {},
   "outputs": [
    {
     "name": "stdout",
     "output_type": "stream",
     "text": [
      "3.9.7 | packaged by conda-forge | (default, Sep 29 2021, 19:24:02) \n",
      "[Clang 11.1.0 ]\n"
     ]
    }
   ],
   "source": [
    "import sys\n",
    "print(sys.version)"
   ]
  },
  {
   "cell_type": "code",
   "execution_count": 10,
   "metadata": {},
   "outputs": [
    {
     "data": {
      "text/plain": [
       "sys.float_info(max=1.7976931348623157e+308, max_exp=1024, max_10_exp=308, min=2.2250738585072014e-308, min_exp=-1021, min_10_exp=-307, dig=15, mant_dig=53, epsilon=2.220446049250313e-16, radix=2, rounds=1)"
      ]
     },
     "execution_count": 10,
     "metadata": {},
     "output_type": "execute_result"
    }
   ],
   "source": [
    "sys.float_info"
   ]
  },
  {
   "cell_type": "markdown",
   "metadata": {},
   "source": [
    "# Sintaxis de Python I: Variables"
   ]
  },
  {
   "cell_type": "markdown",
   "metadata": {},
   "source": [
    "Bueno comencemos con algo simple"
   ]
  },
  {
   "cell_type": "code",
   "execution_count": 11,
   "metadata": {},
   "outputs": [
    {
     "name": "stdout",
     "output_type": "stream",
     "text": [
      "Hello Word\n"
     ]
    }
   ],
   "source": [
    "print(\"Hello Word\")  # todo lo que sigue del simbolo de numero es un comentario\n"
   ]
  },
  {
   "cell_type": "markdown",
   "metadata": {},
   "source": [
    "## Tipos de variables, nombres y palabras reservadas"
   ]
  },
  {
   "cell_type": "raw",
   "metadata": {},
   "source": [
    "var=8                # Entero     \n",
    "k=23434235234L       # Entero muy grande\n",
    "pi=3.14              # float\n",
    "z=1.5+0.5j           # Complejo\n",
    "hi=\"Hellow world\"    # Cadena de caracteres\n",
    "truth=True           # Logica\n",
    "\n",
    "# Asignacion por operacion\n",
    "area=pi\\*3.0\\*3.0"
   ]
  },
  {
   "cell_type": "markdown",
   "metadata": {},
   "source": [
    "Las variables pueden tener cualquier nombre pero hay algunas que estan reservadas por el sistema: \n",
    "\n",
    "<table> \n",
    "<tr>\n",
    "<td style=\"font-size:150%;\"> and       </td>\n",
    "<td style=\"font-size:150%;\"> as        </td>\n",
    "<td style=\"font-size:150%;\"> assert    </td>\n",
    "<td style=\"font-size:150%;\" > break    </td>\n",
    "<td style=\"font-size:150%;\"> class     </td>\n",
    "<td style=\"font-size:150%;\"> continue  </td>\n",
    "<td style=\"font-size:150%;\"> def       </td>\n",
    "</tr>\n",
    "<tr>\n",
    "<td style=\"font-size:150%;\"> del       </td>\n",
    "<td style=\"font-size:150%;\"> elif      </td>\n",
    "<td style=\"font-size:150%;\"> else      </td>\n",
    "<td style=\"font-size:150%;\"> except    </td>\n",
    "<td style=\"font-size:150%;\"> False     </td>\n",
    "<td style=\"font-size:150%;\"> finally   </td>\n",
    "<td style=\"font-size:150%;\"> for       </td>\n",
    "</tr>\n",
    "<tr>\n",
    "<td style=\"font-size:150%;\"> from      </td>\n",
    "<td style=\"font-size:150%;\"> global    </td>\n",
    "<td style=\"font-size:150%;\"> if        </td>\n",
    "<td style=\"font-size:150%;\"> import    </td>\n",
    "<td style=\"font-size:150%;\"> in        </td>\n",
    "<td style=\"font-size:150%;\"> is        </td>\n",
    "<td style=\"font-size:150%;\"> lambda    </td>\n",
    "</tr>\n",
    "<tr>\n",
    "<td style=\"font-size:150%;\"> None      </td>\n",
    "<td style=\"font-size:150%;\"> nonlocal  </td>\n",
    "<td style=\"font-size:150%;\"> not       </td>\n",
    "<td style=\"font-size:150%;\"> or        </td>\n",
    "<td style=\"font-size:150%;\"> pass      </td>\n",
    "<td style=\"font-size:150%;\"> print     </td>\n",
    "<td style=\"font-size:150%;\"> raise     </td>\n",
    "</tr>\n",
    "<tr>\n",
    "<td style=\"font-size:150%;\"> return    </td>\n",
    "<td style=\"font-size:150%;\"> True      </td>\n",
    "<td style=\"font-size:150%;\"> try       </td>\n",
    "<td style=\"font-size:150%;\"> while     </td>\n",
    "<td style=\"font-size:150%;\"> with      </td>\n",
    "<td style=\"font-size:150%;\"> yield     </td>\n",
    "<td style=\"font-size:150%;\">           </td>\n",
    "</tr>\n",
    "</table>\n",
    "\n",
    "Variables no pueden comenzar por un numero y no pueden incluir caracteres ilegales como  % & + - =, etc\n",
    "\n",
    "Nombres de variables en mayuscula son diferentes de aquellos en miniscula\n",
    "\n",
    "Ahora un tour de cosas simples"
   ]
  },
  {
   "cell_type": "code",
   "execution_count": 12,
   "metadata": {},
   "outputs": [
    {
     "name": "stdout",
     "output_type": "stream",
     "text": [
      "2.5 2.5 2.5\n",
      "2.5 3.4 3.4\n"
     ]
    }
   ],
   "source": [
    "a=2.5\n",
    "x=y=z=2.5; b=c=3.4\n",
    "print(x,y,z)\n",
    "print(a,b,c)"
   ]
  },
  {
   "cell_type": "code",
   "execution_count": 13,
   "metadata": {},
   "outputs": [
    {
     "name": "stdout",
     "output_type": "stream",
     "text": [
      "1 2 3\n"
     ]
    }
   ],
   "source": [
    "a,b,c=1,2,3\n",
    "print(a,b,c)"
   ]
  },
  {
   "cell_type": "code",
   "execution_count": 14,
   "metadata": {},
   "outputs": [
    {
     "name": "stdout",
     "output_type": "stream",
     "text": [
      "2 3\n"
     ]
    }
   ],
   "source": [
    "a,b=b,a+b\n",
    "print(a,b)"
   ]
  },
  {
   "cell_type": "markdown",
   "metadata": {},
   "source": [
    "## Tipos de datos basicos"
   ]
  },
  {
   "cell_type": "markdown",
   "metadata": {},
   "source": [
    "### Numeros"
   ]
  },
  {
   "cell_type": "markdown",
   "metadata": {},
   "source": [
    "Enteros y reales trabajan de la misma manera que en otros lenguajes "
   ]
  },
  {
   "cell_type": "code",
   "execution_count": 16,
   "metadata": {},
   "outputs": [
    {
     "name": "stdout",
     "output_type": "stream",
     "text": [
      "3 <class 'int'>\n",
      "3.0 <class 'float'>\n",
      "6.0\n"
     ]
    }
   ],
   "source": [
    "x = 3\n",
    "y = 3.\n",
    "print(x, type(x))\n",
    "print(y,type(y))\n",
    "print(x+y)"
   ]
  },
  {
   "cell_type": "code",
   "execution_count": 17,
   "metadata": {},
   "outputs": [
    {
     "name": "stdout",
     "output_type": "stream",
     "text": [
      "4\n",
      "2\n",
      "6\n",
      "9\n"
     ]
    }
   ],
   "source": [
    "print(x + 1)   # Addition;\n",
    "print(x - 1)   # Subtraction;\n",
    "print(x * 2)   # Multiplication;\n",
    "print(x ** 2)  # Exponentiation;"
   ]
  },
  {
   "cell_type": "code",
   "execution_count": 18,
   "metadata": {},
   "outputs": [
    {
     "name": "stdout",
     "output_type": "stream",
     "text": [
      "5\n",
      "10\n"
     ]
    }
   ],
   "source": [
    "x=x+1\n",
    "x += 1\n",
    "print(x)  # Prints \"4\"\n",
    "x *= 2\n",
    "print(x)  # Prints \"8\""
   ]
  },
  {
   "cell_type": "code",
   "execution_count": 19,
   "metadata": {},
   "outputs": [
    {
     "name": "stdout",
     "output_type": "stream",
     "text": [
      "<class 'float'>\n",
      "2.5 3.5 5.0 6.25\n"
     ]
    }
   ],
   "source": [
    "y = 2.5\n",
    "print(type(y)) # Prints \"<type 'float'>\"\n",
    "print(y, y + 1, y * 2, y ** 2) # Prints \"2.5 3.5 5.0 6.25\""
   ]
  },
  {
   "cell_type": "markdown",
   "metadata": {},
   "source": [
    "## Operaciones matematicas basicas\n",
    "\n",
    "* Con <font color=\"brown\">Python</font> podemos hacer las operaciones basicas:\n",
    "  \n",
    "Suma (<code><font color=brown>+</font></code>), resta\n",
    "(<code><font color=brown>-</font></code>), multiplicacion\n",
    "(<code><font color=brown>*</font></code>) y division (<code><font color=brown>/</font></code>).\n",
    "\n",
    "* Otras menos comunes:\n",
    "\n",
    "Exponenciacion (<code><font color=brown>**</font></code>), \n",
    "Division entera (<code><font color=brown>//</font></code>) o \n",
    "modulo de la division entera (<code><font color=brown>%</font></code>).\n",
    "\n",
    "\n",
    "### Precedencia de las operaciones  \n",
    "\n",
    "* PEDMAS\n",
    "    * **P**arentesis\n",
    "    * **E**xponentes\n",
    "    * **D**ivision and **M**ultiplicacion.\n",
    "    * **A**dicion and **S**ubstraccion\n",
    "* De Izquierda a derecha.\n",
    "\n",
    "Algunos ejemplos:"
   ]
  },
  {
   "cell_type": "code",
   "execution_count": 20,
   "metadata": {},
   "outputs": [
    {
     "name": "stdout",
     "output_type": "stream",
     "text": [
      "4\n",
      "1\n",
      "2.0\n"
     ]
    }
   ],
   "source": [
    "print((3-1)*2)\n",
    "print(3-1 *2)\n",
    "print(1/2*4)"
   ]
  },
  {
   "cell_type": "code",
   "execution_count": 22,
   "metadata": {},
   "outputs": [
    {
     "name": "stdout",
     "output_type": "stream",
     "text": [
      "2\n",
      "1\n"
     ]
    }
   ],
   "source": [
    "print(5//2)\n",
    "print(5%2)"
   ]
  },
  {
   "cell_type": "markdown",
   "metadata": {},
   "source": [
    "#### Logicas"
   ]
  },
  {
   "cell_type": "markdown",
   "metadata": {},
   "source": [
    "Python implementa todas las operaciones basicaes de tipo lopgico, pero usa palabras en ingles en fez de simbolos como (`&&`, `||`, etc.):"
   ]
  },
  {
   "cell_type": "code",
   "execution_count": 23,
   "metadata": {},
   "outputs": [
    {
     "name": "stdout",
     "output_type": "stream",
     "text": [
      "<class 'bool'>\n"
     ]
    }
   ],
   "source": [
    "t, f = True, False\n",
    "print(type(t)) # Prints \"<type 'bool'>\""
   ]
  },
  {
   "cell_type": "markdown",
   "metadata": {},
   "source": [
    "Miremos algunas de estas operaciones:"
   ]
  },
  {
   "cell_type": "code",
   "execution_count": 24,
   "metadata": {},
   "outputs": [
    {
     "name": "stdout",
     "output_type": "stream",
     "text": [
      "False\n",
      "True\n",
      "False\n",
      "True\n"
     ]
    }
   ],
   "source": [
    "print(t and f) # Logical AND;\n",
    "print(t or f)  # Logical OR;\n",
    "print(not t)   # Logical NOT;\n",
    "print(t != f)  # Logical XOR;"
   ]
  },
  {
   "cell_type": "code",
   "execution_count": 25,
   "metadata": {},
   "outputs": [
    {
     "name": "stdout",
     "output_type": "stream",
     "text": [
      "False\n",
      "True\n"
     ]
    }
   ],
   "source": [
    "a=10\n",
    "b=20\n",
    "print (a==b)\n",
    "print (a!=b)"
   ]
  },
  {
   "cell_type": "code",
   "execution_count": 27,
   "metadata": {},
   "outputs": [
    {
     "name": "stdout",
     "output_type": "stream",
     "text": [
      "False\n",
      "True\n",
      "False\n",
      "True\n"
     ]
    }
   ],
   "source": [
    "a=10\n",
    "b=20\n",
    "print (a>b)\n",
    "print (a<b)\n",
    "print (a>=b)\n",
    "#print (a=>b) # Error de sintaxis\n",
    "print (a<=b)"
   ]
  },
  {
   "cell_type": "markdown",
   "metadata": {},
   "source": [
    "#### Cadenas de caracteres (strings)"
   ]
  },
  {
   "cell_type": "code",
   "execution_count": 30,
   "metadata": {},
   "outputs": [
    {
     "name": "stdout",
     "output_type": "stream",
     "text": [
      "hello 5\n"
     ]
    }
   ],
   "source": [
    "hello = 'hello'   # Una cadena literal se defined por medios de (a) comillas sencillas\n",
    "world = \"world\"   # o dobles comillas; no importa.\n",
    "print(hello, len(hello))"
   ]
  },
  {
   "cell_type": "code",
   "execution_count": 31,
   "metadata": {},
   "outputs": [
    {
     "name": "stdout",
     "output_type": "stream",
     "text": [
      "hello world\n"
     ]
    }
   ],
   "source": [
    "hw = hello + ' ' + world  # Concatenar cadenas\n",
    "print(hw)  # imprimir \"hello world\""
   ]
  },
  {
   "cell_type": "code",
   "execution_count": 37,
   "metadata": {},
   "outputs": [
    {
     "name": "stdout",
     "output_type": "stream",
     "text": [
      "hello world 12\n",
      "hello world 12\n",
      "Nuevo ejemplo hello world 12\n",
      "hello world 12.00\n"
     ]
    }
   ],
   "source": [
    "hw12 = '%s %s %d' % (hello, world, 12)  # formateando la salida\n",
    "print(hw12)  # prints \"hello world 12\"\n",
    "\n",
    "hw12='{} {} {}'.format(hello, world, 12)\n",
    "print(hw12)\n",
    "print('Nuevo ejemplo {} {} {}'.format(hello, world, 12))\n",
    "\n",
    "hw12='{} {} {:.2f}'.format(hello, world, 12)\n",
    "print(hw12)"
   ]
  },
  {
   "cell_type": "markdown",
   "metadata": {},
   "source": [
    "Las cadenas tienen un monton de metodos implementados, por ejemplo "
   ]
  },
  {
   "cell_type": "code",
   "execution_count": 42,
   "metadata": {},
   "outputs": [
    {
     "name": "stdout",
     "output_type": "stream",
     "text": [
      "Monty python\n",
      "MONTY PYTHON\n",
      "monty python\n",
      ">|                            Monty python|<\n",
      ">|              Monty python              |<\n",
      "Mont(wye) p(wye)thon\n",
      ">|Monty Python|<\n"
     ]
    }
   ],
   "source": [
    "s = \"Monty python\"\n",
    "print(s.capitalize())  # Capitalize a string; prints \"Monty python\"\n",
    "print(s.upper())       # Convert a string to uppercase; prints \"MONTY PYTHON\"\n",
    "print(s.lower())       # Convert a string to lowercase; prints \"monty python\"\n",
    "print('>|'+s.rjust(40)+'|<')    # Right-justify a string, padding with spaces\n",
    "print('>|'+s.center(40)+'|<')   # Center a string, padding with spaces\n",
    "print(s.replace('y', '(wye)'))  # Replace all instances of one substring with another;\n",
    "                                # prints \"Mont(wye) P(wye)thon\"\n",
    "\n",
    "print('>|'+'      Monty Python    '.strip()+'|<')  # Strip leading and trailing whitespace"
   ]
  },
  {
   "cell_type": "code",
   "execution_count": 47,
   "metadata": {},
   "outputs": [
    {
     "name": "stdout",
     "output_type": "stream",
     "text": [
      "Pyth\n",
      "Mont\n",
      " Python\n",
      "ot y\n",
      "nohtyP ytnoM\n",
      "['a', 'b', 'c_d']\n",
      "my.My.my.Myname\n",
      "my.My.my.Mymy.My.my.Mymy.My.my.My\n"
     ]
    },
    {
     "data": {
      "text/plain": [
       "['Monty', 'Python']"
      ]
     },
     "execution_count": 47,
     "metadata": {},
     "output_type": "execute_result"
    }
   ],
   "source": [
    "#  strings I\n",
    "word = \"Monty Python\"\n",
    "part = word[6:10]\n",
    "print (part)\n",
    "part = word[:4]\n",
    "print(part)\n",
    "part = word[5:]\n",
    "print(part)\n",
    "part = word[1:8:2] # from 1 to 8 in spaces of 2\n",
    "print(part)\n",
    "rev = word [::-1]\n",
    "print(rev)\n",
    "text = 'a,b,c_d'\n",
    "text = text.split(',')\n",
    "print(text)\n",
    "\n",
    "c1=\"my.My.my.My\"\n",
    "c2=\"name\"\n",
    "c1+c2\n",
    "print(c1+c2)\n",
    "print(c1*3)\n",
    "c1.split(\".\")\n",
    "word.split()"
   ]
  },
  {
   "cell_type": "code",
   "execution_count": 48,
   "metadata": {},
   "outputs": [
    {
     "name": "stdout",
     "output_type": "stream",
     "text": [
      "3.0\n"
     ]
    }
   ],
   "source": [
    "print(6/2)"
   ]
  },
  {
   "cell_type": "markdown",
   "metadata": {},
   "source": [
    "Puedes encontrar toda la documentacion de \"strings: en la liga [Python 3.9 Language Documentation](https://docs.python.org/3.7/library/stdtypes.html#string-methods)."
   ]
  },
  {
   "cell_type": "markdown",
   "metadata": {},
   "source": [
    "### Imprimir (por ahora a pantalla)"
   ]
  },
  {
   "cell_type": "code",
   "execution_count": null,
   "metadata": {},
   "outputs": [],
   "source": [
    "print(\"Hellow word!\")\n",
    "print()\n",
    "print(7*3)"
   ]
  },
  {
   "cell_type": "code",
   "execution_count": null,
   "metadata": {},
   "outputs": [],
   "source": [
    "name = \"Elizabeth\"\n",
    "print(\"Your names is : \", name)\n",
    "print()\n",
    "grade = 19.5\n",
    "neval = 3\n",
    "print(\"Average : \", grade/neval),\n",
    "# array \n",
    "a = [1, 2, 3, 4] \n",
    "  \n",
    "# printing a element in same \n",
    "# line \n",
    "for i in range(4): \n",
    "    print(a[i], end =\" \")  "
   ]
  },
  {
   "cell_type": "markdown",
   "metadata": {},
   "source": [
    "### Imprimir con formato"
   ]
  },
  {
   "cell_type": "markdown",
   "metadata": {},
   "source": [
    "<table> \n",
    "<tr>\n",
    "<td style=\"font-size:150%;\"> %s     </td>\n",
    "<td style=\"font-size:150%;\"> &emsp;&emsp;&emsp;      </td>\n",
    "<td style=\"font-size:150%;\"> *<font color=green>string</font>*.    </td>\n",
    "</tr>\n",
    "<tr>\n",
    "<td style=\"font-size:150%;\"> %d  </td>\n",
    "<td style=\"font-size:150%;\">     </td>\n",
    "<td style=\"font-size:150%;\"> integer. </td>\n",
    "</tr>\n",
    "<tr>\n",
    "<td style=\"font-size:150%;\"> %0xd </td>\n",
    "<td style=\"font-size:150%;\">      </td>\n",
    "<td style=\"font-size:150%;\"> an integer with x zeros from the left. </td>\n",
    "</tr>\n",
    "<tr>\n",
    "<td style=\"font-size:150%;\"> %f </td>\n",
    "<td style=\"font-size:150%;\">    </td>\n",
    "<td style=\"font-size:150%;\"> decimal notation with six digits.  </td>\n",
    "</tr>\n",
    "<tr>\n",
    "<td style=\"font-size:150%;\"> %e    </td>\n",
    "<td style=\"font-size:150%;\">       </td>\n",
    "<td style=\"font-size:150%;\"> scientific notation (compact) with <code><font color=brown>e</font></code> in the exponent. </td>\n",
    "</tr>\n",
    " <tr>\n",
    "<td style=\"font-size:150%;\"> %E    </td>\n",
    "<td style=\"font-size:150%;\">       </td>\n",
    "<td style=\"font-size:150%;\"> scientific notation (compact) with <code><font color=brown>E</font></code> in the exponent. </td>\n",
    "</tr>\n",
    "<tr>\n",
    "<td style=\"font-size:150%;\"> %g    </td>\n",
    "<td style=\"font-size:150%;\">       </td>\n",
    "<td style=\"font-size:150%;\"> decimal or scientific notation with  <code><font color=brown>e</font></code> in the exponent. </td>\n",
    "</tr>\n",
    "<tr>\n",
    "<td style=\"font-size:150%;\"> %G    </td>\n",
    "<td style=\"font-size:150%;\">       </td>\n",
    "<td style=\"font-size:150%;\"> decimal or scientific notation with <code><font color=brown>E</font></code> in the exponent. </td>\n",
    "</tr>\n",
    "<tr>\n",
    "<td style=\"font-size:150%;\"> %xz    </td>\n",
    "<td style=\"font-size:150%;\">       </td>\n",
    "<td style=\"font-size:150%;\"> format z adjusted to the rigth in a field of width x. </td>\n",
    "</tr>\n",
    "<tr>\n",
    "<td style=\"font-size:150%;\"> %-xz    </td>\n",
    "<td style=\"font-size:150%;\">       </td>\n",
    "<td style=\"font-size:150%;\"> format z adjusted to the left in a field of width x. </td>\n",
    "</tr>\n",
    "<tr>\n",
    "<td style=\"font-size:150%;\"> %.yz    </td>\n",
    "<td style=\"font-size:150%;\">       </td>\n",
    "<td style=\"font-size:150%;\"> format z with y digits. </td>\n",
    "</tr>\n",
    "    <tr>\n",
    "<td style=\"font-size:150%;\"> %x.yz    </td>\n",
    "<td style=\"font-size:150%;\">       </td>\n",
    "<td style=\"font-size:150%;\"> format z with y digits in afield of width x . </td>\n",
    "</tr>\n",
    "    <tr>\n",
    "<td style=\"font-size:150%;\"> %%    </td>\n",
    "<td style=\"font-size:150%;\">       </td>\n",
    "<td style=\"font-size:150%;\"> percentage sign.</td>\n",
    "</tr>\n",
    "</table>"
   ]
  },
  {
   "cell_type": "code",
   "execution_count": null,
   "metadata": {},
   "outputs": [],
   "source": [
    "n = 15          # Int\n",
    "r = 3.14159     # Float\n",
    "s = \"Hiii\"      # String\n",
    "print(\"|%4d, %6.4f|\"% (n,r))                  \n",
    "print(\"%e, %g\" % (r,r))                          \n",
    "print(\"|%2s, %4s, %5s, %10s|\" % (s, s, s ,s))  "
   ]
  },
  {
   "cell_type": "markdown",
   "metadata": {},
   "source": [
    "# Sintaxis de Python II: Contenedors, bucles y condicionales "
   ]
  },
  {
   "cell_type": "markdown",
   "metadata": {},
   "source": [
    "Python incluye diferentes construcciones de contenedores: listas, diccionarios, conjuntos y tuplas."
   ]
  },
  {
   "cell_type": "markdown",
   "metadata": {},
   "source": [
    "## Listas"
   ]
  },
  {
   "cell_type": "markdown",
   "metadata": {},
   "source": [
    "Una lista es el equivalente de Python para un arreglo o vector, pero tu tamaño se puede modificar y puede contener elementos de diferentes tipos. "
   ]
  },
  {
   "cell_type": "code",
   "execution_count": 50,
   "metadata": {},
   "outputs": [
    {
     "name": "stdout",
     "output_type": "stream",
     "text": [
      "[3, 1, 2] 2\n",
      "2\n",
      "1\n"
     ]
    }
   ],
   "source": [
    "xs = [3, 1, 2]    # Crea una lista\n",
    "print(xs, xs[2])\n",
    "print(xs[-1])     # Indices negativos cuentan desde el final de la lista \n",
    "print(xs[-2])"
   ]
  },
  {
   "cell_type": "code",
   "execution_count": 54,
   "metadata": {},
   "outputs": [
    {
     "name": "stdout",
     "output_type": "stream",
     "text": [
      "[3, 1, 'spam']\n",
      "[3, 1, [1, 3]]\n"
     ]
    }
   ],
   "source": [
    "xs[2] = 'spam'     # Diferentes tipos\n",
    "print(xs)\n",
    "xs[2]=[1,3]\n",
    "print(xs)"
   ]
  },
  {
   "cell_type": "code",
   "execution_count": 55,
   "metadata": {},
   "outputs": [
    {
     "name": "stdout",
     "output_type": "stream",
     "text": [
      "[3, 1, [1, 3], 'eggs']\n"
     ]
    }
   ],
   "source": [
    "xs.append('eggs')  # Adiciona un elemento a la lista\n",
    "print(xs)  "
   ]
  },
  {
   "cell_type": "code",
   "execution_count": 56,
   "metadata": {},
   "outputs": [
    {
     "name": "stdout",
     "output_type": "stream",
     "text": [
      "eggs [3, 1, [1, 3]]\n"
     ]
    }
   ],
   "source": [
    "x = xs.pop()      # Aqui removemos el ultimo elemento y lo guardamos en otra variable\n",
    "print(x, xs) "
   ]
  },
  {
   "cell_type": "code",
   "execution_count": 57,
   "metadata": {},
   "outputs": [
    {
     "name": "stdout",
     "output_type": "stream",
     "text": [
      "rhombus\n",
      "triangle\n"
     ]
    }
   ],
   "source": [
    "words = [\"triangle\", [\"square\", \"rectangle\", \"rhombus\"], \"pentagon\"]\n",
    "print(words[1][2])\n",
    "print(words[0])"
   ]
  },
  {
   "cell_type": "markdown",
   "metadata": {},
   "source": [
    "Toda la documentacion la encuentras en [Python 3.9 documentation](https://docs.python.org/3.9/tutorial/datastructures.html#more-on-lists)."
   ]
  },
  {
   "cell_type": "markdown",
   "metadata": {},
   "source": [
    "### Accesando parte de la lista (slicing)"
   ]
  },
  {
   "cell_type": "code",
   "execution_count": 58,
   "metadata": {},
   "outputs": [
    {
     "name": "stdout",
     "output_type": "stream",
     "text": [
      "[0, 1, 2, 3, 4]\n",
      "[2, 3]\n",
      "[2, 3, 4]\n",
      "[0, 1]\n",
      "[0, 1, 2, 3, 4]\n",
      "[0, 1, 2, 3]\n",
      "[0, 1, 8, 9, 4]\n"
     ]
    }
   ],
   "source": [
    "nums = range(5)      # funcion que crea un vector iterando un entero\n",
    "lnums = list(nums)\n",
    "print(lnums)         # Imprime \"[0, 1, 2, 3, 4]\"\n",
    "print(lnums[2:4])    # Slice desde el 2 al 4 (exclusive); imprime \"[2, 3]\"\n",
    "print(lnums[2:])     # Slice desde 2 hasta el final; imprime \"[2, 3, 4]\"\n",
    "print(lnums[:2])     # Slice desde el comienzo hasta el 2 (exclusive); imprime \"[0, 1]\"\n",
    "print(lnums[:])      # Slice de toda la lista; imprime [\"0, 1, 2, 3, 4]\"\n",
    "print(lnums[:-1])    # Indices en Slice pueden ser negativos; imprime [\"0, 1, 2, 3]\"\n",
    "lnums[2:4] = [8, 9]  # Asigna una nueva sublista al slice\n",
    "print(lnums)         # Imprime \"[0, 1, 8, 9, 4]\""
   ]
  },
  {
   "cell_type": "markdown",
   "metadata": {},
   "source": [
    "### Bocles sobre listas"
   ]
  },
  {
   "cell_type": "code",
   "execution_count": 59,
   "metadata": {},
   "outputs": [
    {
     "name": "stdout",
     "output_type": "stream",
     "text": [
      "Tetrahedron\n",
      "Cube\n",
      "Octahedron\n",
      "Dodecahedron\n",
      "Icosahedron\n"
     ]
    }
   ],
   "source": [
    "platonic=['Tetrahedron', 'Cube', 'Octahedron', 'Dodecahedron', 'Icosahedron']\n",
    "for solid in platonic:\n",
    "    print(solid)"
   ]
  },
  {
   "cell_type": "markdown",
   "metadata": {},
   "source": [
    "Tambien podemos accesar el contenio y al indice al mismo tiempo"
   ]
  },
  {
   "cell_type": "code",
   "execution_count": 63,
   "metadata": {
    "scrolled": true
   },
   "outputs": [
    {
     "name": "stdout",
     "output_type": "stream",
     "text": [
      "#1: Tetrahedron\n",
      "#2: Cube\n",
      "#3: Octahedron\n",
      "#4: Dodecahedron\n",
      "#5: Icosahedron\n",
      "Tetrahedron Tetrahedron\n",
      "Tetrahedron Cube\n",
      "Tetrahedron Octahedron\n",
      "Tetrahedron Dodecahedron\n",
      "Tetrahedron Icosahedron\n",
      "Cube Tetrahedron\n",
      "Cube Cube\n",
      "Cube Octahedron\n",
      "Cube Dodecahedron\n",
      "Cube Icosahedron\n",
      "Octahedron Tetrahedron\n",
      "Octahedron Cube\n",
      "Octahedron Octahedron\n",
      "Octahedron Dodecahedron\n",
      "Octahedron Icosahedron\n",
      "Dodecahedron Tetrahedron\n",
      "Dodecahedron Cube\n",
      "Dodecahedron Octahedron\n",
      "Dodecahedron Dodecahedron\n",
      "Dodecahedron Icosahedron\n",
      "Icosahedron Tetrahedron\n",
      "Icosahedron Cube\n",
      "Icosahedron Octahedron\n",
      "Icosahedron Dodecahedron\n",
      "Icosahedron Icosahedron\n"
     ]
    }
   ],
   "source": [
    "platonic=['Tetrahedron', 'Cube', 'Octahedron', 'Dodecahedron', 'Icosahedron']\n",
    "for idx, solid in enumerate(platonic):\n",
    "    print('#%d: %s' % (idx + 1, solid))\n",
    "\n",
    "for cube in platonic:\n",
    "    for a in platonic:\n",
    "        print(cube,a)"
   ]
  },
  {
   "cell_type": "markdown",
   "metadata": {},
   "source": [
    "### Copiando listas:"
   ]
  },
  {
   "cell_type": "code",
   "execution_count": 64,
   "metadata": {},
   "outputs": [
    {
     "name": "stdout",
     "output_type": "stream",
     "text": [
      "['a'] ['a']\n",
      "['a', 'asd'] ['a', 'asd']\n"
     ]
    }
   ],
   "source": [
    "# Copia incorrecta\n",
    "L=[]\n",
    "M=L\n",
    " \n",
    "# si modifica una modifica ambas listas\n",
    "L.append('a')\n",
    "print(L, M)\n",
    "\n",
    "M.append('asd')\n",
    "print(L,M)"
   ]
  },
  {
   "cell_type": "code",
   "execution_count": 65,
   "metadata": {},
   "outputs": [
    {
     "name": "stdout",
     "output_type": "stream",
     "text": [
      "['a'] [] []\n"
     ]
    }
   ],
   "source": [
    "#Copia \"superficial\"\n",
    "\n",
    "L=[]\n",
    "M=L[:]         # usando slicing\n",
    "N=list(L)      # creando otra copia superficial\n",
    "\n",
    "# modifica solo a L\n",
    "L.append('a')\n",
    "print(L, M, N)"
   ]
  },
  {
   "cell_type": "markdown",
   "metadata": {},
   "source": [
    "### Copia superficial vs Copia profunda (Shallow vs Deep) "
   ]
  },
  {
   "cell_type": "markdown",
   "metadata": {},
   "source": [
    "Asignaciones en Python ** NO COPIAN LOS OBJETOS**, ellos solo referencian al lugar en memoria donde esta el objeto. Lo que puede implicar un problema. Por ejemplo"
   ]
  },
  {
   "cell_type": "code",
   "execution_count": 66,
   "metadata": {},
   "outputs": [],
   "source": [
    "lst1 = ['a','b',['ab','ba']]\n",
    "lst2 = lst1[:]"
   ]
  },
  {
   "cell_type": "code",
   "execution_count": 67,
   "metadata": {},
   "outputs": [
    {
     "name": "stdout",
     "output_type": "stream",
     "text": [
      "['a', 'b', ['cd', 'ba']]\n"
     ]
    }
   ],
   "source": [
    "lst2[2][0]='cd'\n",
    "print(lst1)"
   ]
  },
  {
   "cell_type": "code",
   "execution_count": null,
   "metadata": {},
   "outputs": [],
   "source": [
    "lst1 = ['a','b',['ab','ba']]\n",
    "lst2 = list(lst1)"
   ]
  },
  {
   "cell_type": "code",
   "execution_count": null,
   "metadata": {},
   "outputs": [],
   "source": [
    "lst2[2][0]='cd'\n",
    "print(lst1)"
   ]
  },
  {
   "cell_type": "markdown",
   "metadata": {},
   "source": [
    "Para hacer una copia real se puede usar uno de los modulos de la libreria estandard. Aunque librerias lo hablaremos mas adelante en detalle, pero aqui lo usaremos sin tanto detalle."
   ]
  },
  {
   "cell_type": "code",
   "execution_count": 68,
   "metadata": {},
   "outputs": [],
   "source": [
    "from copy import deepcopy\n",
    "\n",
    "lst1 = ['a','b',['ab','ba']]\n",
    "lst2 = deepcopy(lst1)"
   ]
  },
  {
   "cell_type": "code",
   "execution_count": 69,
   "metadata": {},
   "outputs": [
    {
     "name": "stdout",
     "output_type": "stream",
     "text": [
      "['a', 'b', ['ab', 'ba']]\n"
     ]
    }
   ],
   "source": [
    "lst2[2][0]='cd'\n",
    "print(lst1)"
   ]
  },
  {
   "cell_type": "markdown",
   "metadata": {},
   "source": [
    "#### Borrando listas:"
   ]
  },
  {
   "cell_type": "code",
   "execution_count": 70,
   "metadata": {},
   "outputs": [
    {
     "name": "stdout",
     "output_type": "stream",
     "text": [
      "['Tetrahedron', 'Cube', 'Octahedron', 'Dodecahedron', 'Icosahedron']\n",
      "The variable 'platonic' is not defined\n"
     ]
    }
   ],
   "source": [
    "platonic=['Tetrahedron', 'Cube', 'Octahedron', 'Dodecahedron', 'Icosahedron']\n",
    "print(platonic)\n",
    "del platonic\n",
    "\n",
    "try: platonic\n",
    "except NameError: print(\"The variable 'platonic' is not defined\")"
   ]
  },
  {
   "cell_type": "code",
   "execution_count": 72,
   "metadata": {},
   "outputs": [
    {
     "name": "stdout",
     "output_type": "stream",
     "text": [
      "['Tetrahedron', 'Octahedron', 'Dodecahedron', 'Icosahedron']\n",
      "['Tetrahedron', 'Octahedron', 'Dodecahedron']\n",
      "['Tetrahedron', 'Octahedron', 'Dodecahedron', 'Icosahedron']\n",
      "['Tetrahedron', 'Octahedron', 'Dodecahedron', 'Icosahedron', 'Circle', 2]\n",
      "['Circle', 2, 'Circle', 2]\n",
      "['Circle', 2, 'Circle', 2]\n",
      "[1, 2, 1, 2]\n",
      "[1, 2, 1, 2]\n"
     ]
    }
   ],
   "source": [
    "platonic=['Tetrahedron', 'Cube', 'Octahedron', 'Dodecahedron', 'Icosahedron']\n",
    "del platonic[1]\n",
    "print(platonic)\n",
    "del platonic[-1]                  #Delete last element \n",
    "print(platonic)\n",
    "\n",
    "platonic=['Tetrahedron', 'Cube', 'Octahedron', 'Dodecahedron', 'Icosahedron']\n",
    "platonic.remove(\"Cube\")\n",
    "print(platonic)\n",
    "\n",
    "newl=[\"Circle\", 2]\n",
    "print(platonic+newl) \n",
    "print(newl*2)\n",
    "print(2*newl)\n",
    "newl=[1,2]\n",
    "print(newl*2)\n",
    "print(2*newl)"
   ]
  },
  {
   "cell_type": "markdown",
   "metadata": {},
   "source": [
    "#### Ordenando listas:"
   ]
  },
  {
   "cell_type": "code",
   "execution_count": 73,
   "metadata": {},
   "outputs": [
    {
     "name": "stdout",
     "output_type": "stream",
     "text": [
      "['Cube', 'Dodecahedron', 'Icosahedron', 'Octahedron', 'Tetrahedron']\n",
      "[-1, 1, 2, 3, 10, 200, 999]\n"
     ]
    }
   ],
   "source": [
    "list1=['Tetrahedron', 'Cube', 'Octahedron', 'Dodecahedron', 'Icosahedron']\n",
    "list2=[1,200,3,10,2,999,-1]\n",
    "list1.sort()\n",
    "list2.sort()\n",
    "print(list1)\n",
    "print(list2)"
   ]
  },
  {
   "cell_type": "markdown",
   "metadata": {},
   "source": [
    "#### List comprehensions:"
   ]
  },
  {
   "cell_type": "markdown",
   "metadata": {},
   "source": [
    "Una de las cosas que hacemos muy frecuente es cambiar un tipo de datos entre otros. Por ejemplo"
   ]
  },
  {
   "cell_type": "code",
   "execution_count": 74,
   "metadata": {},
   "outputs": [
    {
     "name": "stdout",
     "output_type": "stream",
     "text": [
      "[0, 1, 4, 9, 16]\n"
     ]
    }
   ],
   "source": [
    "nums = [0, 1, 2, 3, 4]\n",
    "squares = []\n",
    "for x in nums:\n",
    "    squares.append(x ** 2)\n",
    "print(squares)"
   ]
  },
  {
   "cell_type": "markdown",
   "metadata": {},
   "source": [
    "Usando list comprehension:"
   ]
  },
  {
   "cell_type": "code",
   "execution_count": null,
   "metadata": {},
   "outputs": [],
   "source": [
    "nums = [0, 1, 2, 3, 4]\n",
    "squares = [x ** 2 for x in nums]\n",
    "print(squares)"
   ]
  },
  {
   "cell_type": "markdown",
   "metadata": {},
   "source": [
    "List comprehensions pueden tambien tener condicionales:"
   ]
  },
  {
   "cell_type": "code",
   "execution_count": 75,
   "metadata": {},
   "outputs": [
    {
     "name": "stdout",
     "output_type": "stream",
     "text": [
      "[0, 4, 16]\n"
     ]
    }
   ],
   "source": [
    "nums = [0, 1, 2, 3, 4]\n",
    "even_squares = [x ** 2 for x in nums if x % 2 == 0]\n",
    "print(even_squares)"
   ]
  },
  {
   "cell_type": "markdown",
   "metadata": {},
   "source": [
    "## Diccionarios"
   ]
  },
  {
   "cell_type": "markdown",
   "metadata": {},
   "source": [
    "Un diccionario guarda pares(key, value) los que se pueden usar asi:"
   ]
  },
  {
   "cell_type": "code",
   "execution_count": 76,
   "metadata": {},
   "outputs": [
    {
     "name": "stdout",
     "output_type": "stream",
     "text": [
      "6\n",
      "True\n"
     ]
    }
   ],
   "source": [
    "# Creando un diccionario\n",
    "rp = {'Tetrahedron': 4, 'Cube': 6, 'Octahedron': 8, 'Dodecahedron': 12, 'Icosahedron': 20}  \n",
    "print(rp['Cube'])              # Preguntar por una entrada del diccionario \n",
    "print('Icosahedron' in rp)     # Mirar si el diccionario tiene un \"key\" en particular "
   ]
  },
  {
   "cell_type": "code",
   "execution_count": 77,
   "metadata": {},
   "outputs": [
    {
     "name": "stdout",
     "output_type": "stream",
     "text": [
      "{'Tetrahedron': 4, 'Cube': 6, 'Octahedron': 8, 'Dodecahedron': 12, 'Icosahedron': 20, 'Circle': 0}\n"
     ]
    }
   ],
   "source": [
    "rp['Circle'] = 0         # Definir una nueva entrada dentro del diccionario\n",
    "print(rp)    "
   ]
  },
  {
   "cell_type": "code",
   "execution_count": 79,
   "metadata": {},
   "outputs": [
    {
     "data": {
      "text/plain": [
       "False"
      ]
     },
     "execution_count": 79,
     "metadata": {},
     "output_type": "execute_result"
    }
   ],
   "source": [
    "'Heptahedron' in rp"
   ]
  },
  {
   "cell_type": "code",
   "execution_count": 80,
   "metadata": {},
   "outputs": [
    {
     "name": "stdout",
     "output_type": "stream",
     "text": [
      "N/A\n",
      "6\n"
     ]
    }
   ],
   "source": [
    "print(rp.get('Hexahedron', 'N/A'))  # Pregunta por un elemento y da un default en caso que no este \n",
    "print(rp.get('Cube', 'N/A'))        # "
   ]
  },
  {
   "cell_type": "code",
   "execution_count": 81,
   "metadata": {},
   "outputs": [
    {
     "name": "stdout",
     "output_type": "stream",
     "text": [
      "N/A\n"
     ]
    }
   ],
   "source": [
    "del rp['Circle']        # Borra un elemento del diccionario\n",
    "print(rp.get('Circle', 'N/A')) # "
   ]
  },
  {
   "cell_type": "markdown",
   "metadata": {},
   "source": [
    "Todo acerca de diccionarios esta en  [Python 3.9 documentation](https://docs.python.org/3.9/library/stdtypes.html#dict)."
   ]
  },
  {
   "cell_type": "markdown",
   "metadata": {},
   "source": [
    "Es muy facil iterar sobre los keys del diccionario:"
   ]
  },
  {
   "cell_type": "code",
   "execution_count": 83,
   "metadata": {},
   "outputs": [
    {
     "name": "stdout",
     "output_type": "stream",
     "text": [
      "The tetrahedron has 4 faces\n",
      "The cube has 6 faces\n",
      "The octahedron has 8 faces\n",
      "The dodecahedron has 12 faces\n",
      "The icosahedron has 20 faces\n",
      "Tetrahedron 4\n",
      "Cube 6\n",
      "Octahedron 8\n",
      "Dodecahedron 12\n",
      "Icosahedron 20\n"
     ]
    }
   ],
   "source": [
    "rp = {'Tetrahedron': 4, 'Cube': 6, 'Octahedron': 8, 'Dodecahedron': 12, 'Icosahedron': 20}  \n",
    "for polyhedron in rp:\n",
    "    faces = rp[polyhedron]\n",
    "    print('The %s has %d faces' % (polyhedron.lower(), faces))\n",
    "\n",
    "for n in rp.keys():\n",
    "    print(n,rp[n])"
   ]
  },
  {
   "cell_type": "markdown",
   "metadata": {},
   "source": [
    "Para ver los keys, solo tienes que hacer\n",
    "```\n",
    "rp.keys()\n",
    "```\n",
    "Lo que te dara una lista que luego puedes usar.|"
   ]
  },
  {
   "cell_type": "code",
   "execution_count": 84,
   "metadata": {},
   "outputs": [
    {
     "name": "stdout",
     "output_type": "stream",
     "text": [
      "The Tetrahedron has 4 faces\n",
      "The Cube has 6 faces\n",
      "The Octahedron has 8 faces\n",
      "The Dodecahedron has 12 faces\n",
      "The Icosahedron has 20 faces\n"
     ]
    }
   ],
   "source": [
    "rp = {'Tetrahedron': 4, 'Cube': 6, 'Octahedron': 8, 'Dodecahedron': 12, 'Icosahedron': 20}  \n",
    "for polyhedron, faces in rp.items():\n",
    "    print('The %s has %d faces' % (polyhedron, faces))"
   ]
  },
  {
   "cell_type": "markdown",
   "metadata": {},
   "source": [
    "Dictionary comprehensions: Muy similar a los list comprehensions, pero te permite construir diccionarios. Por ejemplo:"
   ]
  },
  {
   "cell_type": "code",
   "execution_count": 86,
   "metadata": {},
   "outputs": [
    {
     "name": "stdout",
     "output_type": "stream",
     "text": [
      "{0: 0, 2: 4, 4: 16}\n",
      "4\n"
     ]
    }
   ],
   "source": [
    "nums = [0, 1, 2, 3, 4]\n",
    "even_num_to_square = {x: x ** 2 for x in nums if x % 2 == 0}\n",
    "print(even_num_to_square)\n",
    "print(even_num_to_square[2])"
   ]
  },
  {
   "cell_type": "markdown",
   "metadata": {},
   "source": [
    "## Conjuntos"
   ]
  },
  {
   "cell_type": "markdown",
   "metadata": {},
   "source": [
    "Un conjunto es una coleccion no ordenada de distintos elementos. Por ejemplo:"
   ]
  },
  {
   "cell_type": "code",
   "execution_count": null,
   "metadata": {},
   "outputs": [],
   "source": [
    "menu = {'spam', 'eggs'}\n",
    "print('spam' in menu)   # Mirar si elemento esta en conjunto\n",
    "print('ham' in menu)    # \n"
   ]
  },
  {
   "cell_type": "code",
   "execution_count": null,
   "metadata": {},
   "outputs": [],
   "source": [
    "menu.add('ham')        # Incluir un elemento mas\n",
    "print('ham' in menu)\n",
    "print(len(menu))       # Numero de elementos en el conjunto;"
   ]
  },
  {
   "cell_type": "code",
   "execution_count": null,
   "metadata": {},
   "outputs": [],
   "source": [
    "menu.add('bacon')       # Adicionar un elemento que ya este en el conjunto no hace nada \n",
    "print(menu)       \n",
    "menu.remove('ham')      # Remover un elemento del conjunto\n",
    "print(menu)       "
   ]
  },
  {
   "cell_type": "code",
   "execution_count": null,
   "metadata": {},
   "outputs": [],
   "source": [
    "setA = set([\"first\", \"second\", \"third\", \"first\"])\n",
    "print(\"SetA = \",setA)\n",
    "setB = set([\"second\", \"fourth\"])\n",
    "print(\"SetB=\",setB)\n",
    "\n",
    "print(setA & setB)                       # Interseccion\n",
    "print(setA | setB)                       # Union\n",
    "print(setA - setB)                       # Diferencia A-B\n",
    "print(setB - setA)                       # Diferencia B-A\n",
    "print(setA ^ setB)                       # Diferencia simetrica (estan en A y en B pero no en la interseccion)\n",
    "set(['fourth', 'first', 'third'])\n",
    "\n",
    "# Conjuntos que no se pueden cambiar luego de ser creados\n",
    "immutable_set = frozenset([\"a\", \"b\", \"a\"])   \n",
    "print(immutable_set)"
   ]
  },
  {
   "cell_type": "markdown",
   "metadata": {},
   "source": [
    "### Bocles sobre conjuntos \n",
    "\n",
    "Iterando sobre un conjunto tiene la misma sintaxis que una lista, pero como los conjuntos no son ordenados, no podemos asumir el orden en el que se visita un elemento:"
   ]
  },
  {
   "cell_type": "code",
   "execution_count": null,
   "metadata": {},
   "outputs": [],
   "source": [
    "animals = {'cat', 'dog', 'fish'}\n",
    "for idx, animal in enumerate(animals):\n",
    "    print('#%d: %s' % (idx + 1, animal))\n",
    "# Prints \"#1: fish\", \"#2: dog\", \"#3: cat\""
   ]
  },
  {
   "cell_type": "markdown",
   "metadata": {},
   "source": [
    "Set comprehensions: Como en listas y diccionarios, se pueden construir muy facilmente "
   ]
  },
  {
   "cell_type": "code",
   "execution_count": null,
   "metadata": {},
   "outputs": [],
   "source": [
    "from math import sqrt\n",
    "lc=[int(sqrt(x)) for x in range(30)]\n",
    "sc={int(sqrt(x)) for x in range(30)}\n",
    "\n",
    "print(lc)\n",
    "print(sc)"
   ]
  },
  {
   "cell_type": "code",
   "execution_count": null,
   "metadata": {},
   "outputs": [],
   "source": [
    "set(lc)"
   ]
  },
  {
   "cell_type": "markdown",
   "metadata": {},
   "source": [
    "## Tuplas"
   ]
  },
  {
   "cell_type": "markdown",
   "metadata": {},
   "source": [
    "Una tupla es una lista ordenada de valores que no se puede modificiar, se parecen mucho a las listas pero se pueden usar como \"keys\" en diccionarios o como elementos de un conjunto (listas no pueden).\n",
    "\n",
    "Algunas caracteristicas generales:\n",
    "\n",
    "\n",
    "1) Una <code><font color=brown>tupla</font></code> no puede modificarse luego de ser creada. \n",
    "\n",
    "2) Una tupla se define similar a una lista, solo que usa \"()\", en vez de \"[]\". \n",
    "\n",
    "3) Los elementos de una tupla tienen orden predefinido como en listas. \n",
    "\n",
    "4) Tuplas tienen su primer indice cero como listas, tal que  <code><font color=brown>t[0]</font></code> siempre existte.\n",
    "\n",
    "5) Indices negativos cuentan desde el final, como en listas. \n",
    "\n",
    "6) \"Slicing\" funciona como en listas solo que da tuplas.\n",
    "\n",
    "7) Agregar o ordenar no funciona en tuples pero \"in\" puede ser usad para ver si un elemento esta contenido. \n",
    "\n",
    "8) Tuplas son mas rapidas que listas. \n",
    "\n",
    "9) Tuplas se pueden convertir a listas <code><font color=brown>list(tuple)</font></code> y listas a tuplas <code><font color=brown>tuple(list)</font></code>\n"
   ]
  },
  {
   "cell_type": "code",
   "execution_count": null,
   "metadata": {},
   "outputs": [],
   "source": [
    "d = {(x, x + 1): x for x in range(10)}  # crea un diccionarion con keys de tuplas\n",
    "print(d)\n",
    "t = (5, 6)       # Create a tuple\n",
    "print(d[t])       \n",
    "print(d[(1, 2)])\n",
    "e = (1,2,'a','b')\n",
    "print(type(e))\n",
    "# AL mezclar tipos tendremos un problema si queremos mirar alguna funcion. CUIDADO!\n",
    "# print('MIN of Tuple=',min(e))\n",
    "\n",
    "e = (1,2,3,4)\n",
    "print('MIN of Tuple=',min(e))\n",
    "\n",
    "word = 'abc'\n",
    "L = list(word)\n",
    "lp=list(word)\n",
    "tp=tuple(word)\n",
    "print(lp,tp)"
   ]
  },
  {
   "cell_type": "markdown",
   "metadata": {},
   "source": [
    "## Conditionales"
   ]
  },
  {
   "cell_type": "markdown",
   "metadata": {},
   "source": [
    "* Conditionaes son expresiones que pueden ser True o False. Por ejemplo \n",
    "\n",
    "    * esta el usuario dando la palabra correcta?  \n",
    "    * es un numero mas grande que 100? \n",
    "\n",
    "* El resultado del condicional nos sirve para tomar acciones. \n"
   ]
  },
  {
   "cell_type": "markdown",
   "metadata": {},
   "source": [
    "### Boolean Operators"
   ]
  },
  {
   "cell_type": "code",
   "execution_count": null,
   "metadata": {},
   "outputs": [],
   "source": [
    "x = 125\n",
    "y = 251\n",
    "\n",
    "print(x == y)    # x equal to y\n",
    "print(x != y)    # x is not equal to y\n",
    "print(x >  y)    # x is larger than y\n",
    "print(x <  y)    # x is smaller than y\n",
    "print(x >= y)    # x is larger or equal than y\n",
    "print(x <= y)    # x is smaller or equal than y\n",
    "print(x == 125)  # x is equal to 125"
   ]
  },
  {
   "cell_type": "code",
   "execution_count": null,
   "metadata": {},
   "outputs": [],
   "source": [
    "passwd = \"nix\"\n",
    "num  = 10\n",
    "num1 = 20\n",
    "letter = \"a\"\n",
    "\n",
    "print(passwd == \"nix\")\n",
    "print(num >= 0)\n",
    "print(letter > \"L\")\n",
    "print(num/2 == (num1-num))\n",
    "print(num %5 != 0)"
   ]
  },
  {
   "cell_type": "code",
   "execution_count": null,
   "metadata": {},
   "outputs": [],
   "source": [
    "s1=\"A\"\n",
    "s2=\"Z\"\n",
    "\n",
    "print(s1>s2)\n",
    "print(s1.isupper())\n",
    "print(s1.lower()>s2)"
   ]
  },
  {
   "cell_type": "markdown",
   "metadata": {},
   "source": [
    "### Conditional (if...elif...else)"
   ]
  },
  {
   "cell_type": "code",
   "execution_count": null,
   "metadata": {},
   "outputs": [],
   "source": [
    "# Ejemplo con la construccion if\n",
    "if use_input:\n",
    "    num = input(\"Give me your age  \")\n",
    "else:\n",
    "    num = 20\n",
    "    \n",
    "if int(num) >= 18:\n",
    "   print(\"You have reach adulthood\")\n",
    "   print()      # Imprime una linea en blanco \n",
    "   print(\"Thanks\")\n",
    "print(\"Done\")\n",
    "\n",
    "# Example of if ... else\n",
    "if use_input:\n",
    "    x = int(input(\"Give me an integer: \"))\n",
    "else:\n",
    "    x = 7\n",
    "    \n",
    "if x% 2 == 0:\n",
    "   print(\"Number is even\")\n",
    "else:\n",
    "   print(\"Number is odd\")\n",
    "\n",
    "# Example of the compact form of  if...else\n",
    "if use_input:\n",
    "    num = int(input(\"Give me an integer: \"))\n",
    "else:\n",
    "    num = 7\n",
    "    \n",
    "evenless = \"even\" if (num % 2 == 0) else \"odd\"\n",
    "print(evenless)"
   ]
  },
  {
   "cell_type": "code",
   "execution_count": null,
   "metadata": {},
   "outputs": [],
   "source": [
    "# Ejemplo de if...elif...else\n",
    "if use_input:\n",
    "    x=float(input(\"Give me a number : \"))\n",
    "else:\n",
    "    x=-10\n",
    "    \n",
    "if x<0 :\n",
    "    print(x,\" is negative\")\n",
    "elif x==0 :\n",
    "    print(\"the number is zero\")\n",
    "else:\n",
    "    print(x,\" is positive\")"
   ]
  },
  {
   "cell_type": "code",
   "execution_count": null,
   "metadata": {},
   "outputs": [],
   "source": [
    "# Ejemplo de usar el \"pass\" \n",
    "\n",
    "if x<0:\n",
    "   print(\"x is negative\")\n",
    "else:\n",
    "   pass # I will not do anything "
   ]
  },
  {
   "cell_type": "markdown",
   "metadata": {},
   "source": [
    "### Bocle con condicional (while)"
   ]
  },
  {
   "cell_type": "code",
   "execution_count": null,
   "metadata": {},
   "outputs": [],
   "source": [
    "x=0\n",
    "while x < 10:\n",
    "     print(x)\n",
    "     x = x+1\n",
    "print(\"End\")"
   ]
  },
  {
   "cell_type": "code",
   "execution_count": null,
   "metadata": {},
   "outputs": [],
   "source": [
    "# Imprimir una tabla usando el \"tabular\" y usandop \"while\" \n",
    "x=1\n",
    "\n",
    "while x < 10:\n",
    "     print(x, \"\\t\", x*x)\n",
    "     x = x+1"
   ]
  },
  {
   "cell_type": "code",
   "execution_count": null,
   "metadata": {},
   "outputs": [],
   "source": [
    "# Comparasion entre usar \"while\" y \"for\" dentro de un string \n",
    "word = \"program of nothing\"\n",
    "index=0\n",
    "while index < len(word):\n",
    "    print(word[index], end =\"\") \n",
    "    index +=1\n",
    "print()\n",
    "for letter in word:\n",
    "      print(letter,end=\"\")"
   ]
  },
  {
   "cell_type": "code",
   "execution_count": null,
   "metadata": {},
   "outputs": [],
   "source": [
    "#Usando enumerate para listas\n",
    "\n",
    "colors=[\"red\", \"green\", \"blue\"]\n",
    "for c in colors:    \n",
    "    print(c,end=\" \")\n",
    "print() \n",
    "for i, col in enumerate(colors):\n",
    "    print(i,col) "
   ]
  },
  {
   "cell_type": "code",
   "execution_count": null,
   "metadata": {},
   "outputs": [],
   "source": [
    "#Recorrer varias listas de la misma dimension al mismo tiempo\n",
    "\n",
    "colors1 =[\"rojo\",\"verde\", \"azul\"]\n",
    "colors2 =[\"red\", \"green\", \"blue\"]\n",
    "for ce, ci in zip(colors1,colors2):    \n",
    "    print(\"Color\",ce,\"in spanish means\",ci,\"in english\")"
   ]
  },
  {
   "cell_type": "markdown",
   "metadata": {},
   "source": [
    "### Lista de numeros  (range)"
   ]
  },
  {
   "cell_type": "code",
   "execution_count": null,
   "metadata": {},
   "outputs": [],
   "source": [
    "print(list(range(10)))\n",
    "print(list(range(2,10)))\n",
    "print(list(range(0,11,2)))"
   ]
  },
  {
   "cell_type": "markdown",
   "metadata": {},
   "source": [
    "### Modificadores de bocles: usando break y continue "
   ]
  },
  {
   "cell_type": "code",
   "execution_count": null,
   "metadata": {},
   "outputs": [],
   "source": [
    "for n in range(1,10):\n",
    "    c=n*n\n",
    "    if c > 50:\n",
    "        print(n, \"to the square is \",c,\" > 50\")\n",
    "        print(\"STOP\")\n",
    "        break\n",
    "    else:\n",
    "        print(n,\" with square \",c)\n",
    "\n",
    "for i in range(-5,5,1):\n",
    "    if i == 0:\n",
    "        continue\n",
    "    else:\n",
    "        print(round(1/i,3))"
   ]
  },
  {
   "cell_type": "markdown",
   "metadata": {},
   "source": [
    "# Sintaxis de Python III: Funciones"
   ]
  },
  {
   "cell_type": "markdown",
   "metadata": {},
   "source": [
    "Una funcion define un conjunto de instruccion o un pedazo de codigo con un nombre asociado que ejecuta una tarea especicia y que puede ser reutilizado.\n",
    "\n",
    "Puede tener argumentos o no y puede o no regresar valores al lugar donde fue llamada.\n",
    "\n",
    "Las funciones puede ser parte de las funciones creadas dentro de Python, como un archivo externo o puede ser creada por el usuario."
   ]
  },
  {
   "cell_type": "markdown",
   "metadata": {},
   "source": [
    "## Funciones naturales dentro del lenguaje\n",
    "\n",
    "El interpretador de Python tiene construidas un conjunto de funciones que siempre estas disponibles.\n",
    "\n",
    "Para ver el detalle de esetas funciones vaya a  https://docs.python.org/3.9/library/functions.html\n",
    "\n",
    "Las funciones son:"
   ]
  },
  {
   "cell_type": "markdown",
   "metadata": {},
   "source": [
    "<table>\n",
    "<colgroup>\n",
    "<col style=\"width: 21%\">\n",
    "<col style=\"width: 18%\">\n",
    "<col style=\"width: 20%\">\n",
    "<col style=\"width: 20%\">\n",
    "<col style=\"width: 22%\">\n",
    "</colgroup>\n",
    "<thead>\n",
    "<tr class=\"row-odd\"><th class=\"head\"></th>\n",
    "<th class=\"head\"></th>\n",
    "<th class=\"head\"><p>Built-in Functions</p></th>\n",
    "<th class=\"head\"></th>\n",
    "<th class=\"head\"></th>\n",
    "</tr>\n",
    "</thead>\n",
    "<tbody>\n",
    "<tr class=\"row-even\"><td><p><a class=\"reference internal\" href=\"https://docs.python.org/3.7/library/functions.html#abs\" title=\"abs\"><code class=\"xref py py-func docutils literal notranslate\"><span class=\"pre\">abs()</span></code></a></p></td>\n",
    "<td><p><a class=\"reference internal\" href=\"https://docs.python.org/3.7/library/functions.html#delattr\" title=\"delattr\"><code class=\"xref py py-func docutils literal notranslate\"><span class=\"pre\">delattr()</span></code></a></p></td>\n",
    "<td><p><a class=\"reference internal\" href=\"https://docs.python.org/3.7/library/functions.html#hash\" title=\"hash\"><code class=\"xref py py-func docutils literal notranslate\"><span class=\"pre\">hash()</span></code></a></p></td>\n",
    "<td><p><a class=\"reference internal\" href=\"https://docs.python.org/3.7/library/functions.html#func-memoryview\"><code class=\"docutils literal notranslate\"><span class=\"pre\">memoryview()</span></code></a></p></td>\n",
    "<td><p><a class=\"reference internal\" href=\"https://docs.python.org/3.7/library/functions.html#func-set\"><code class=\"docutils literal notranslate\"><span class=\"pre\">set()</span></code></a></p></td>\n",
    "</tr>\n",
    "<tr class=\"row-odd\"><td><p><a class=\"reference internal\" href=\"https://docs.python.org/3.7/library/functions.html#all\" title=\"all\"><code class=\"xref py py-func docutils literal notranslate\"><span class=\"pre\">all()</span></code></a></p></td>\n",
    "<td><p><a class=\"reference internal\" href=\"https://docs.python.org/3.7/library/functions.html#func-dict\"><code class=\"docutils literal notranslate\"><span class=\"pre\">dict()</span></code></a></p></td>\n",
    "<td><p><a class=\"reference internal\" href=\"https://docs.python.org/3.7/library/functions.html#help\" title=\"help\"><code class=\"xref py py-func docutils literal notranslate\"><span class=\"pre\">help()</span></code></a></p></td>\n",
    "<td><p><a class=\"reference internal\" href=\"https://docs.python.org/3.7/library/functions.html#min\" title=\"min\"><code class=\"xref py py-func docutils literal notranslate\"><span class=\"pre\">min()</span></code></a></p></td>\n",
    "<td><p><a class=\"reference internal\" href=\"https://docs.python.org/3.7/library/functions.html#setattr\" title=\"setattr\"><code class=\"xref py py-func docutils literal notranslate\"><span class=\"pre\">setattr()</span></code></a></p></td>\n",
    "</tr>\n",
    "<tr class=\"row-even\"><td><p><a class=\"reference internal\" href=\"#any\" title=\"any\"><code class=\"xref py py-func docutils literal notranslate\"><span class=\"pre\">any()</span></code></a></p></td>\n",
    "<td><p><a class=\"reference internal\" href=\"https://docs.python.org/3.7/library/functions.html#dir\" title=\"dir\"><code class=\"xref py py-func docutils literal notranslate\"><span class=\"pre\">dir()</span></code></a></p></td>\n",
    "<td><p><a class=\"reference internal\" href=\"https://docs.python.org/3.7/library/functions.html#hex\" title=\"hex\"><code class=\"xref py py-func docutils literal notranslate\"><span class=\"pre\">hex()</span></code></a></p></td>\n",
    "<td><p><a class=\"reference internal\" href=\"https://docs.python.org/3.7/library/functions.html#next\" title=\"next\"><code class=\"xref py py-func docutils literal notranslate\"><span class=\"pre\">next()</span></code></a></p></td>\n",
    "<td><p><a class=\"reference internal\" href=\"https://docs.python.org/3.7/library/functions.html#slice\" title=\"slice\"><code class=\"xref py py-func docutils literal notranslate\"><span class=\"pre\">slice()</span></code></a></p></td>\n",
    "</tr>\n",
    "<tr class=\"row-odd\"><td><p><a class=\"reference internal\" href=\"#ascii\" title=\"ascii\"><code class=\"xref py py-func docutils literal notranslate\"><span class=\"pre\">ascii()</span></code></a></p></td>\n",
    "<td><p><a class=\"reference internal\" href=\"https://docs.python.org/3.7/library/functions.html#divmod\" title=\"divmod\"><code class=\"xref py py-func docutils literal notranslate\"><span class=\"pre\">divmod()</span></code></a></p></td>\n",
    "<td><p><a class=\"reference internal\" href=\"https://docs.python.org/3.7/library/functions.html#id\" title=\"id\"><code class=\"xref py py-func docutils literal notranslate\"><span class=\"pre\">id()</span></code></a></p></td>\n",
    "<td><p><a class=\"reference internal\" href=\"https://docs.python.org/3.7/library/functions.html#object\" title=\"object\"><code class=\"xref py py-func docutils literal notranslate\"><span class=\"pre\">object()</span></code></a></p></td>\n",
    "<td><p><a class=\"reference internal\" href=\"https://docs.python.org/3.7/library/functions.html#sorted\" title=\"sorted\"><code class=\"xref py py-func docutils literal notranslate\"><span class=\"pre\">sorted()</span></code></a></p></td>\n",
    "</tr>\n",
    "<tr class=\"row-even\"><td><p><a class=\"reference internal\" href=\"#bin\" title=\"bin\"><code class=\"xref py py-func docutils literal notranslate\"><span class=\"pre\">bin()</span></code></a></p></td>\n",
    "<td><p><a class=\"reference internal\" href=\"https://docs.python.org/3.7/library/functions.html#enumerate\" title=\"enumerate\"><code class=\"xref py py-func docutils literal notranslate\"><span class=\"pre\">enumerate()</span></code></a></p></td>\n",
    "<td><p><a class=\"reference internal\" href=\"https://docs.python.org/3.7/library/functions.html#input\" title=\"input\"><code class=\"xref py py-func docutils literal notranslate\"><span class=\"pre\">input()</span></code></a></p></td>\n",
    "<td><p><a class=\"reference internal\" href=\"https://docs.python.org/3.7/library/functions.html#oct\" title=\"oct\"><code class=\"xref py py-func docutils literal notranslate\"><span class=\"pre\">oct()</span></code></a></p></td>\n",
    "<td><p><a class=\"reference internal\" href=\"https://docs.python.org/3.7/library/functions.html#staticmethod\" title=\"staticmethod\"><code class=\"xref py py-func docutils literal notranslate\"><span class=\"pre\">staticmethod()</span></code></a></p></td>\n",
    "</tr>\n",
    "<tr class=\"row-odd\"><td><p><a class=\"reference internal\" href=\"#bool\" title=\"bool\"><code class=\"xref py py-func docutils literal notranslate\"><span class=\"pre\">bool()</span></code></a></p></td>\n",
    "<td><p><a class=\"reference internal\" href=\"https://docs.python.org/3.7/library/functions.html#eval\" title=\"eval\"><code class=\"xref py py-func docutils literal notranslate\"><span class=\"pre\">eval()</span></code></a></p></td>\n",
    "<td><p><a class=\"reference internal\" href=\"https://docs.python.org/3.7/library/functions.html#int\" title=\"int\"><code class=\"xref py py-func docutils literal notranslate\"><span class=\"pre\">int()</span></code></a></p></td>\n",
    "<td><p><a class=\"reference internal\" href=\"https://docs.python.org/3.7/library/functions.html#open\" title=\"open\"><code class=\"xref py py-func docutils literal notranslate\"><span class=\"pre\">open()</span></code></a></p></td>\n",
    "<td><p><a class=\"reference internal\" href=\"https://docs.python.org/3.7/library/functions.html#func-str\"><code class=\"docutils literal notranslate\"><span class=\"pre\">str()</span></code></a></p></td>\n",
    "</tr>\n",
    "<tr class=\"row-even\"><td><p><a class=\"reference internal\" href=\"#breakpoint\" title=\"breakpoint\"><code class=\"xref py py-func docutils literal notranslate\"><span class=\"pre\">breakpoint()</span></code></a></p></td>\n",
    "<td><p><a class=\"reference internal\" href=\"https://docs.python.org/3.7/library/functions.html#exec\" title=\"exec\"><code class=\"xref py py-func docutils literal notranslate\"><span class=\"pre\">exec()</span></code></a></p></td>\n",
    "<td><p><a class=\"reference internal\" href=\"https://docs.python.org/3.7/library/functions.html#isinstance\" title=\"isinstance\"><code class=\"xref py py-func docutils literal notranslate\"><span class=\"pre\">isinstance()</span></code></a></p></td>\n",
    "<td><p><a class=\"reference internal\" href=\"https://docs.python.org/3.7/library/functions.html#ord\" title=\"ord\"><code class=\"xref py py-func docutils literal notranslate\"><span class=\"pre\">ord()</span></code></a></p></td>\n",
    "<td><p><a class=\"reference internal\" href=\"https://docs.python.org/3.7/library/functions.html#sum\" title=\"sum\"><code class=\"xref py py-func docutils literal notranslate\"><span class=\"pre\">sum()</span></code></a></p></td>\n",
    "</tr>\n",
    "<tr class=\"row-odd\"><td><p><a class=\"reference internal\" href=\"#func-bytearray\"><code class=\"docutils literal notranslate\"><span class=\"pre\">bytearray()</span></code></a></p></td>\n",
    "<td><p><a class=\"reference internal\" href=\"https://docs.python.org/3.7/library/functions.html#filter\" title=\"filter\"><code class=\"xref py py-func docutils literal notranslate\"><span class=\"pre\">filter()</span></code></a></p></td>\n",
    "<td><p><a class=\"reference internal\" href=\"https://docs.python.org/3.7/library/functions.html#issubclass\" title=\"issubclass\"><code class=\"xref py py-func docutils literal notranslate\"><span class=\"pre\">issubclass()</span></code></a></p></td>\n",
    "<td><p><a class=\"reference internal\" href=\"https://docs.python.org/3.7/library/functions.html#pow\" title=\"pow\"><code class=\"xref py py-func docutils literal notranslate\"><span class=\"pre\">pow()</span></code></a></p></td>\n",
    "<td><p><a class=\"reference internal\" href=\"https://docs.python.org/3.7/library/functions.html#super\" title=\"super\"><code class=\"xref py py-func docutils literal notranslate\"><span class=\"pre\">super()</span></code></a></p></td>\n",
    "</tr>\n",
    "<tr class=\"row-even\"><td><p><a class=\"reference internal\" href=\"#func-bytes\"><code class=\"docutils literal notranslate\"><span class=\"pre\">bytes()</span></code></a></p></td>\n",
    "<td><p><a class=\"reference internal\" href=\"https://docs.python.org/3.7/library/functions.html#float\" title=\"float\"><code class=\"xref py py-func docutils literal notranslate\"><span class=\"pre\">float()</span></code></a></p></td>\n",
    "<td><p><a class=\"reference internal\" href=\"https://docs.python.org/3.7/library/functions.htmlhttps://docs.python.org/3.7/library/functions.html#iter\" title=\"iter\"><code class=\"xref py py-func docutils literal notranslate\"><span class=\"pre\">iter()</span></code></a></p></td>\n",
    "<td><p><a class=\"reference internal\" href=\"https://docs.python.org/3.7/library/functions.html#print\" title=\"print\"><code class=\"xref py py-func docutils literal notranslate\"><span class=\"pre\">print()</span></code></a></p></td>\n",
    "<td><p><a class=\"reference internal\" href=\"https://docs.python.org/3.7/library/functions.html#func-tuple\"><code class=\"docutils literal notranslate\"><span class=\"pre\">tuple()</span></code></a></p></td>\n",
    "</tr>\n",
    "<tr class=\"row-odd\"><td><p><a class=\"reference internal\" href=\"#callable\" title=\"callable\"><code class=\"xref py py-func docutils literal notranslate\"><span class=\"pre\">callable()</span></code></a></p></td>\n",
    "<td><p><a class=\"reference internal\" href=\"https://docs.python.org/3.7/library/functions.html#format\" title=\"format\"><code class=\"xref py py-func docutils literal notranslate\"><span class=\"pre\">format()</span></code></a></p></td>\n",
    "<td><p><a class=\"reference internal\" href=\"https://docs.python.org/3.7/library/functions.html#len\" title=\"len\"><code class=\"xref py py-func docutils literal notranslate\"><span class=\"pre\">len()</span></code></a></p></td>\n",
    "<td><p><a class=\"reference internal\" href=\"https://docs.python.org/3.7/library/functions.html#property\" title=\"property\"><code class=\"xref py py-func docutils literal notranslate\"><span class=\"pre\">property()</span></code></a></p></td>\n",
    "<td><p><a class=\"reference internal\" href=\"https://docs.python.org/3.7/library/functions.html#type\" title=\"type\"><code class=\"xref py py-func docutils literal notranslate\"><span class=\"pre\">type()</span></code></a></p></td>\n",
    "</tr>\n",
    "<tr class=\"row-even\"><td><p><a class=\"reference internal\" href=\"#chr\" title=\"chr\"><code class=\"xref py py-func docutils literal notranslate\"><span class=\"pre\">chr()</span></code></a></p></td>\n",
    "<td><p><a class=\"reference internal\" href=\"https://docs.python.org/3.7/library/functions.html#func-frozenset\"><code class=\"docutils literal notranslate\"><span class=\"pre\">frozenset()</span></code></a></p></td>\n",
    "<td><p><a class=\"reference internal\" href=\"https://docs.python.org/3.7/library/functions.html#func-list\"><code class=\"docutils literal notranslate\"><span class=\"pre\">list()</span></code></a></p></td>\n",
    "<td><p><a class=\"reference internal\" href=\"https://docs.python.org/3.7/library/functions.html#func-range\"><code class=\"docutils literal notranslate\"><span class=\"pre\">range()</span></code></a></p></td>\n",
    "<td><p><a class=\"reference internal\" href=\"https://docs.python.org/3.7/library/functions.html#vars\" title=\"vars\"><code class=\"xref py py-func docutils literal notranslate\"><span class=\"pre\">vars()</span></code></a></p></td>\n",
    "</tr>\n",
    "<tr class=\"row-odd\"><td><p><a class=\"reference internal\" href=\"#classmethod\" title=\"classmethod\"><code class=\"xref py py-func docutils literal notranslate\"><span class=\"pre\">classmethod()</span></code></a></p></td>\n",
    "<td><p><a class=\"reference internal\" href=\"https://docs.python.org/3.7/library/functions.html#getattr\" title=\"getattr\"><code class=\"xref py py-func docutils literal notranslate\"><span class=\"pre\">getattr()</span></code></a></p></td>\n",
    "<td><p><a class=\"reference internal\" href=\"https://docs.python.org/3.7/library/functions.html#locals\" title=\"locals\"><code class=\"xref py py-func docutils literal notranslate\"><span class=\"pre\">locals()</span></code></a></p></td>\n",
    "<td><p><a class=\"reference internal\" href=\"https://docs.python.org/3.7/library/functions.html#repr\" title=\"repr\"><code class=\"xref py py-func docutils literal notranslate\"><span class=\"pre\">repr()</span></code></a></p></td>\n",
    "<td><p><a class=\"reference internal\" href=\"https://docs.python.org/3.7/library/functions.html#zip\" title=\"zip\"><code class=\"xref py py-func docutils literal notranslate\"><span class=\"pre\">zip()</span></code></a></p></td>\n",
    "</tr>\n",
    "<tr class=\"row-even\"><td><p><a class=\"reference internal\" href=\"#compile\" title=\"compile\"><code class=\"xref py py-func docutils literal notranslate\"><span class=\"pre\">compile()</span></code></a></p></td>\n",
    "<td><p><a class=\"reference internal\" href=\"https://docs.python.org/3.7/library/functions.html#globals\" title=\"globals\"><code class=\"xref py py-func docutils literal notranslate\"><span class=\"pre\">globals()</span></code></a></p></td>\n",
    "<td><p><a class=\"reference internal\" href=\"https://docs.python.org/3.7/library/functions.html#map\" title=\"map\"><code class=\"xref py py-func docutils literal notranslate\"><span class=\"pre\">map()</span></code></a></p></td>\n",
    "<td><p><a class=\"reference internal\" href=\"#reversed\" title=\"reversed\"><code class=\"xref py py-func docutils literal notranslate\"><span class=\"pre\">reversed()</span></code></a></p></td>\n",
    "<td><p><a class=\"reference internal\" href=\"#__import__\" title=\"__import__\"><code class=\"xref py py-func docutils literal notranslate\"><span class=\"pre\">__import__()</span></code></a></p></td>\n",
    "</tr>\n",
    "<tr class=\"row-odd\"><td><p><a class=\"reference internal\" href=\"#complex\" title=\"complex\"><code class=\"xref py py-func docutils literal notranslate\"><span class=\"pre\">complex()</span></code></a></p></td>\n",
    "<td><p><a class=\"reference internal\" href=\"https://docs.python.org/3.7/library/functions.html#hasattr\" title=\"hasattr\"><code class=\"xref py py-func docutils literal notranslate\"><span class=\"pre\">hasattr()</span></code></a></p></td>\n",
    "<td><p><a class=\"reference internal\" href=\"https://docs.python.org/3.7/library/functions.html#max\" title=\"max\"><code class=\"xref py py-func docutils literal notranslate\"><span class=\"pre\">max()</span></code></a></p></td>\n",
    "<td><p><a class=\"reference internal\" href=\"https://docs.python.org/3.7/library/functions.html#round\" title=\"round\"><code class=\"xref py py-func docutils literal notranslate\"><span class=\"pre\">round()</span></code></a></p></td>\n",
    "</tbody>\n",
    "</table>"
   ]
  },
  {
   "cell_type": "markdown",
   "metadata": {},
   "source": [
    "### Modulos desde una libreria estandar\n",
    "\n",
    "Aunque vamos a discutir varios de estos en los siguentes notebooks, vamos a usar dos de ellos para demonstrar como se llaman y como se usan (si usas ipython o jupyter, basta con importar la libreria y usar el <tab> para que el sistema despliegue cuales son las opciones)."
   ]
  },
  {
   "cell_type": "code",
   "execution_count": null,
   "metadata": {},
   "outputs": [],
   "source": [
    "import math\n",
    "\n",
    "\n",
    "math.sqrt(2)"
   ]
  },
  {
   "cell_type": "code",
   "execution_count": null,
   "metadata": {},
   "outputs": [],
   "source": [
    "math.log10(10000)"
   ]
  },
  {
   "cell_type": "code",
   "execution_count": null,
   "metadata": {},
   "outputs": [],
   "source": [
    "math.hypot(3,4)"
   ]
  },
  {
   "cell_type": "code",
   "execution_count": null,
   "metadata": {},
   "outputs": [],
   "source": [
    "import calendar\n",
    "\n",
    "calendar.prcal(2019)\n",
    "calendar.prmonth(2019, 8)"
   ]
  },
  {
   "cell_type": "markdown",
   "metadata": {},
   "source": [
    "### Funciones desde modulos externos \n",
    "\n",
    "\n",
    "Son funciones que vienen desde modulos (que es un metodo para tener varias funciones). Para poder usar estas funciones primero se tiene que importar el modulo, lo que se hace como\n",
    "\n",
    "    import module_name\n",
    "\n",
    "Una vez que es importado, podemos usar las funciones contenidas en ese modulo usando \n",
    "\n",
    "    module_name.existing_funtion(expected_input_variables)\n",
    "\n",
    "Algunos de estos modulos pueden tener nombres muy largos y complicados, por lo tanto podemos definir un \"alias\"\n",
    "\n",
    "    import module_name as mn\n",
    "\n",
    "y por lo tanto para poderla usar solo tenemos que hacer \n",
    "\n",
    "    mn.existing_funtion(expected_input_variables)\n",
    "\n",
    "si uno solo quiere importar unas funciones del modulo, entonces podemos hacer \n",
    "\n",
    "    from stuff import f, g\n",
    "    print f(\"a\"), g(1,2)\n",
    "\n",
    "Aunque tambien podemos importar todas las funciones dentro de ese modulo\n",
    "\n",
    "    from stuff import *\n",
    "    print f(\"a\"), g(1,2)\n",
    "\n",
    "Combinando nombres de funciones con alias, podemos hacer\n",
    "\n",
    "    from stuff import f as F\n",
    "    from stuff import g as G\n",
    "    print F(\"a\"), G(1,2)"
   ]
  },
  {
   "cell_type": "code",
   "execution_count": null,
   "metadata": {},
   "outputs": [],
   "source": [
    "import math\n",
    "\n",
    "def myroot(num):\n",
    "    if num<0:\n",
    "         print(\"Ingrese un numero positivo\")\n",
    "         return\n",
    "    print(math.sqrt(num))\n",
    "\n",
    "# main\n",
    "myroot(9)\n",
    "myroot(-8)\n",
    "myroot(2)"
   ]
  },
  {
   "cell_type": "code",
   "execution_count": null,
   "metadata": {},
   "outputs": [],
   "source": [
    "def addthem(x,y):\n",
    "   return x+y\n",
    "\n",
    "# main\n",
    "add = addthem(5,6) # La llamada a la funcion\n",
    "print(add)"
   ]
  },
  {
   "cell_type": "markdown",
   "metadata": {},
   "source": [
    "Tambien se puede declarar funciones con parametro opcionales. Tenga en cuenta que cuando se usan parametros opcionales (los que definen porque se crea con un default), ellos tienen que se los ultimos de la lista."
   ]
  },
  {
   "cell_type": "code",
   "execution_count": null,
   "metadata": {},
   "outputs": [],
   "source": [
    "def operations(x,y,z=None):\n",
    "    if (z==None):\n",
    "        sum = x+y\n",
    "        rest = x-y\n",
    "        prod= x*y\n",
    "        div = x/y \n",
    "    else:\n",
    "        sum = z+x+y\n",
    "        rest = x-y-z\n",
    "        prod= x*y*z\n",
    "        div = x/y/z \n",
    "    return sum,rest,prod,div\n",
    "\n",
    "# main\n",
    "print(operations(5,6))\n",
    "a,b,c,d = operations(8,4)\n",
    "print(a,b,c,d)\n",
    "a,b,c,d = operations(8,4,5)\n",
    "print(a,b,c,d)"
   ]
  },
  {
   "cell_type": "markdown",
   "metadata": {},
   "source": [
    "Este metodo es tan poderoso que podemos pasar una funcion a una valiable y luego pasar esto a otro funcion (este metodo se suele llamar programacion funcional). "
   ]
  },
  {
   "cell_type": "code",
   "execution_count": null,
   "metadata": {},
   "outputs": [],
   "source": [
    "def operations(x,y,z=None,flag=False):\n",
    "    if (flag == True):\n",
    "        print(\"Flag is true\")\n",
    "    if (z==None):\n",
    "        sum = x+y\n",
    "        rest = x-y\n",
    "        prod= x*y\n",
    "        div = x/y \n",
    "    else:\n",
    "        sum = z+x+y\n",
    "        rest = x-y-z\n",
    "        prod= x*y*z\n",
    "        div = x/y/z \n",
    "    return sum,rest,prod,div\n",
    "print(operations(5,6,flag=True))"
   ]
  },
  {
   "cell_type": "code",
   "execution_count": null,
   "metadata": {},
   "outputs": [],
   "source": []
  }
 ],
 "metadata": {
  "kernelspec": {
   "display_name": "Python 3 (ipykernel)",
   "language": "python",
   "name": "python3"
  },
  "language_info": {
   "codemirror_mode": {
    "name": "ipython",
    "version": 3
   },
   "file_extension": ".py",
   "mimetype": "text/x-python",
   "name": "python",
   "nbconvert_exporter": "python",
   "pygments_lexer": "ipython3",
   "version": "3.9.7"
  }
 },
 "nbformat": 4,
 "nbformat_minor": 2
}
