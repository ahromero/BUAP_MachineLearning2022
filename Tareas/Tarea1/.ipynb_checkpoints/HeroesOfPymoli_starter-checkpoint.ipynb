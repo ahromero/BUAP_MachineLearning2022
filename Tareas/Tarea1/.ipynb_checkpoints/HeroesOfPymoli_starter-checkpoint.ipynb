{
 "cells": [
  {
   "cell_type": "markdown",
   "metadata": {},
   "source": [
    "# Tarea 1"
   ]
  },
  {
   "cell_type": "markdown",
   "metadata": {},
   "source": [
    "### NOMBRE ESTUDIANTE:  Mi HW"
   ]
  },
  {
   "cell_type": "markdown",
   "metadata": {},
   "source": [
    "### CODIGO ESTUDIANTE"
   ]
  },
  {
   "cell_type": "markdown",
   "metadata": {},
   "source": [
    "Use este mismo Jupyter Notebook pero cambiele de nombre a que sea:\n",
    "\n",
    "Tarea1_ML_Nombre_Apellido.ipynb"
   ]
  },
  {
   "cell_type": "markdown",
   "metadata": {},
   "source": [
    "### Introduccion"
   ]
  },
  {
   "cell_type": "markdown",
   "metadata": {},
   "source": [
    "Gracias al apoyo de esta clase, usted cada de conseguir su primer empleo. Usted es el jefe de la seccion de analisis de datos de una pequeña compañia de juegos. Y su primera tarea es analizar la informacion que ha guardado la compañia del uso de su uego **Heroes de Pymoli**.\n",
    "\n",
    "Este juego es gratis pero el negocio esta en que el juego \"aconseja\" comprar cosas adicionales para mejorar la experiencia del jugador. Lo quiere la compañia es que se cree un reporte que divida la informacion y de la empresa una idea mas profunda del comportamiento de los datos."
   ]
  },
  {
   "cell_type": "markdown",
   "metadata": {},
   "source": [
    "La tarea tiene varias partes y ustedes tienen que responder cada una (usen una celda para cada pregunta o usen una celda para cada seccion, como les parezca mejor):\n",
    "\n",
    "1. Leer usando pandas el archivo de datos Resources/purchase_data.csv\n",
    "2. Mirar si hay datos faltantes o hay filas repetidas.\n",
    "3. Imprima el titulo de cada columna. Le va a servir para lo que sigue."
   ]
  },
  {
   "cell_type": "code",
   "execution_count": 22,
   "metadata": {},
   "outputs": [
    {
     "name": "stdout",
     "output_type": "stream",
     "text": [
      "Titulo de cada columna =  Index(['Purchase ID', 'SN', 'Age', 'Gender', 'Item ID', 'Item Name', 'Price'], dtype='object')\n",
      "Datos NO faltantes= Purchase ID    780\n",
      "SN             780\n",
      "Age            780\n",
      "Gender         780\n",
      "Item ID        780\n",
      "Item Name      780\n",
      "Price          780\n",
      "dtype: int64\n",
      "    --------  Duplicados\n",
      "0      False\n",
      "1      False\n",
      "2      False\n",
      "3      False\n",
      "4      False\n",
      "       ...  \n",
      "775    False\n",
      "776    False\n",
      "777    False\n",
      "778    False\n",
      "779    False\n",
      "Length: 780, dtype: bool\n",
      "Numero de duplicados =  0\n"
     ]
    }
   ],
   "source": [
    "# Dependencias and e inicio\n",
    "import pandas as pd\n",
    "import numpy as np\n",
    "\n",
    "# nombre del archivo de datos\n",
    "file_to_load = \"Resources/purchase_data.csv\"\n",
    "\n",
    "# lealo y guardelo como pandas data frame\n",
    "purchase_data = pd.read_csv(file_to_load)\n",
    "\n",
    "#print(purchase_data.head)\n",
    "print(\"Titulo de cada columna = \",purchase_data.keys())\n",
    "\n",
    "\n",
    "print(\"Datos NO faltantes=\",purchase_data.notna().sum())\n",
    "\n",
    "print(\"    --------  Duplicados\")\n",
    "print(purchase_data.duplicated())\n",
    "print(\"Numero de duplicados = \",purchase_data.duplicated().sum())"
   ]
  },
  {
   "cell_type": "markdown",
   "metadata": {},
   "source": [
    "Informacion de los articulos\n",
    "\n",
    "4. Encontrar el numero total de jugadores\n",
    "5. Encontrar el numero total de articulos DIFERENTES que se han comprado\n",
    "6. Cual es el promedio de precios de los articulos que son diferentes\n",
    "7. Cual ha sido la ganancia total de ventas"
   ]
  },
  {
   "cell_type": "code",
   "execution_count": 24,
   "metadata": {},
   "outputs": [
    {
     "name": "stdout",
     "output_type": "stream",
     "text": [
      "   Total Players\n",
      "0            576\n"
     ]
    },
    {
     "data": {
      "text/html": [
       "<style type=\"text/css\">\n",
       "</style>\n",
       "<table id=\"T_f1697\">\n",
       "  <thead>\n",
       "    <tr>\n",
       "      <th class=\"blank level0\" >&nbsp;</th>\n",
       "      <th id=\"T_f1697_level0_col0\" class=\"col_heading level0 col0\" >Number of Unique Items</th>\n",
       "      <th id=\"T_f1697_level0_col1\" class=\"col_heading level0 col1\" >Average Price</th>\n",
       "      <th id=\"T_f1697_level0_col2\" class=\"col_heading level0 col2\" >Number of Purchases</th>\n",
       "      <th id=\"T_f1697_level0_col3\" class=\"col_heading level0 col3\" >Total Revenue</th>\n",
       "    </tr>\n",
       "  </thead>\n",
       "  <tbody>\n",
       "    <tr>\n",
       "      <th id=\"T_f1697_level0_row0\" class=\"row_heading level0 row0\" >0</th>\n",
       "      <td id=\"T_f1697_row0_col0\" class=\"data row0 col0\" >183</td>\n",
       "      <td id=\"T_f1697_row0_col1\" class=\"data row0 col1\" >$3.05</td>\n",
       "      <td id=\"T_f1697_row0_col2\" class=\"data row0 col2\" >780</td>\n",
       "      <td id=\"T_f1697_row0_col3\" class=\"data row0 col3\" >$2,379.77</td>\n",
       "    </tr>\n",
       "  </tbody>\n",
       "</table>\n"
      ],
      "text/plain": [
       "<pandas.io.formats.style.Styler at 0x1186fe370>"
      ]
     },
     "execution_count": 24,
     "metadata": {},
     "output_type": "execute_result"
    }
   ],
   "source": [
    "# total players.\n",
    "total_players = len(purchase_data[\"SN\"].value_counts())\n",
    "\n",
    "# Create a data frame with total players named player count\n",
    "player_count = pd.DataFrame({\"Total Players\":[total_players]})\n",
    "print(player_count)\n",
    "\n",
    "# Calculations for unique items, average price, purchase count, and revenue\n",
    "number_of_unique_items = len((purchase_data[\"Item ID\"]).unique())\n",
    "average_price = (purchase_data[\"Price\"]).mean()\n",
    "number_of_purchases = (purchase_data[\"Purchase ID\"]).count()\n",
    "total_revenue = (purchase_data[\"Price\"]).sum()\n",
    "\n",
    "# Create data frame with obtained values\n",
    "summary_df = pd.DataFrame({\"Number of Unique Items\":[number_of_unique_items],\n",
    "                           \"Average Price\":[average_price], \n",
    "                           \"Number of Purchases\": [number_of_purchases], \n",
    "                           \"Total Revenue\": [total_revenue]})\n",
    "\n",
    "# Format with currency style - Using US style to report amounts\n",
    "summary_df.style.format({'Average Price':\"${:,.2f}\",\n",
    "                         'Total Revenue': '${:,.2f}'})"
   ]
  },
  {
   "cell_type": "markdown",
   "metadata": {},
   "source": [
    "Informacion demografica\n",
    "\n",
    "8. Cuente cuantos son los jugadores que son hombres\n",
    "9. Cual es el porcentaje de hombres y de mujeres dentro de la base de datos\n",
    "10. Cuantos son los jugadores que no dieron informacion sobre su sexo.\n",
    "11. Haga un histograma de la distribucion de edades"
   ]
  },
  {
   "cell_type": "code",
   "execution_count": 25,
   "metadata": {},
   "outputs": [
    {
     "data": {
      "text/html": [
       "<style type=\"text/css\">\n",
       "</style>\n",
       "<table id=\"T_a9ab4\">\n",
       "  <thead>\n",
       "    <tr>\n",
       "      <th class=\"blank level0\" >&nbsp;</th>\n",
       "      <th id=\"T_a9ab4_level0_col0\" class=\"col_heading level0 col0\" >Percentage of Players</th>\n",
       "      <th id=\"T_a9ab4_level0_col1\" class=\"col_heading level0 col1\" >Total Count</th>\n",
       "    </tr>\n",
       "  </thead>\n",
       "  <tbody>\n",
       "    <tr>\n",
       "      <th id=\"T_a9ab4_level0_row0\" class=\"row_heading level0 row0\" >Male</th>\n",
       "      <td id=\"T_a9ab4_row0_col0\" class=\"data row0 col0\" >84.03</td>\n",
       "      <td id=\"T_a9ab4_row0_col1\" class=\"data row0 col1\" >484</td>\n",
       "    </tr>\n",
       "    <tr>\n",
       "      <th id=\"T_a9ab4_level0_row1\" class=\"row_heading level0 row1\" >Female</th>\n",
       "      <td id=\"T_a9ab4_row1_col0\" class=\"data row1 col0\" >14.06</td>\n",
       "      <td id=\"T_a9ab4_row1_col1\" class=\"data row1 col1\" >81</td>\n",
       "    </tr>\n",
       "    <tr>\n",
       "      <th id=\"T_a9ab4_level0_row2\" class=\"row_heading level0 row2\" >Other / Non-Disclosed</th>\n",
       "      <td id=\"T_a9ab4_row2_col0\" class=\"data row2 col0\" >1.91</td>\n",
       "      <td id=\"T_a9ab4_row2_col1\" class=\"data row2 col1\" >11</td>\n",
       "    </tr>\n",
       "  </tbody>\n",
       "</table>\n"
      ],
      "text/plain": [
       "<pandas.io.formats.style.Styler at 0x11f0d2e20>"
      ]
     },
     "execution_count": 25,
     "metadata": {},
     "output_type": "execute_result"
    }
   ],
   "source": [
    "\n",
    "# Group purchase_data by Gender\n",
    "gender_stats = purchase_data.groupby(\"Gender\")\n",
    "\n",
    "# Count the total of screen names \"SN\" by gender\n",
    "total_count_gender = gender_stats.nunique()[\"SN\"]\n",
    "\n",
    "# Total count by gender and divivde by total players \n",
    "percentage_of_players = total_count_gender / total_players * 100\n",
    "\n",
    "# Create data frame with obtained values\n",
    "gender_demographics = pd.DataFrame({\"Percentage of Players\": percentage_of_players, \"Total Count\": total_count_gender})\n",
    "\n",
    "# Format the data frame with no index name in the corner\n",
    "gender_demographics.index.name = None\n",
    "\n",
    "# Format the values sorted by total count in descending order, and two decimal places for the percentage\n",
    "gender_demographics.sort_values([\"Total Count\"], ascending = False).style.format({\"Percentage of Players\":\"{:.2f}\"})\n",
    "\n"
   ]
  },
  {
   "cell_type": "markdown",
   "metadata": {},
   "source": [
    "Analisis de compra\n",
    "\n",
    "12. Cuantos articulos compraron los hombres y cuantos las mujeres?\n",
    "13. Cuanto gastaron en promedio los hombres y cuando en promedio las mujeres?"
   ]
  },
  {
   "cell_type": "code",
   "execution_count": 26,
   "metadata": {},
   "outputs": [
    {
     "data": {
      "text/html": [
       "<style type=\"text/css\">\n",
       "</style>\n",
       "<table id=\"T_3f99c\">\n",
       "  <thead>\n",
       "    <tr>\n",
       "      <th class=\"blank level0\" >&nbsp;</th>\n",
       "      <th id=\"T_3f99c_level0_col0\" class=\"col_heading level0 col0\" >Purchase Count</th>\n",
       "      <th id=\"T_3f99c_level0_col1\" class=\"col_heading level0 col1\" >Average Purchase Price</th>\n",
       "      <th id=\"T_3f99c_level0_col2\" class=\"col_heading level0 col2\" >Average Purchase Value</th>\n",
       "      <th id=\"T_3f99c_level0_col3\" class=\"col_heading level0 col3\" >Avg Purchase Total per Person</th>\n",
       "    </tr>\n",
       "    <tr>\n",
       "      <th class=\"index_name level0\" >Gender</th>\n",
       "      <th class=\"blank col0\" >&nbsp;</th>\n",
       "      <th class=\"blank col1\" >&nbsp;</th>\n",
       "      <th class=\"blank col2\" >&nbsp;</th>\n",
       "      <th class=\"blank col3\" >&nbsp;</th>\n",
       "    </tr>\n",
       "  </thead>\n",
       "  <tbody>\n",
       "    <tr>\n",
       "      <th id=\"T_3f99c_level0_row0\" class=\"row_heading level0 row0\" >Female</th>\n",
       "      <td id=\"T_3f99c_row0_col0\" class=\"data row0 col0\" >113</td>\n",
       "      <td id=\"T_3f99c_row0_col1\" class=\"data row0 col1\" >$3.20</td>\n",
       "      <td id=\"T_3f99c_row0_col2\" class=\"data row0 col2\" >$361.94</td>\n",
       "      <td id=\"T_3f99c_row0_col3\" class=\"data row0 col3\" >$4.47</td>\n",
       "    </tr>\n",
       "    <tr>\n",
       "      <th id=\"T_3f99c_level0_row1\" class=\"row_heading level0 row1\" >Male</th>\n",
       "      <td id=\"T_3f99c_row1_col0\" class=\"data row1 col0\" >652</td>\n",
       "      <td id=\"T_3f99c_row1_col1\" class=\"data row1 col1\" >$3.02</td>\n",
       "      <td id=\"T_3f99c_row1_col2\" class=\"data row1 col2\" >$1,967.64</td>\n",
       "      <td id=\"T_3f99c_row1_col3\" class=\"data row1 col3\" >$4.07</td>\n",
       "    </tr>\n",
       "    <tr>\n",
       "      <th id=\"T_3f99c_level0_row2\" class=\"row_heading level0 row2\" >Other / Non-Disclosed</th>\n",
       "      <td id=\"T_3f99c_row2_col0\" class=\"data row2 col0\" >15</td>\n",
       "      <td id=\"T_3f99c_row2_col1\" class=\"data row2 col1\" >$3.35</td>\n",
       "      <td id=\"T_3f99c_row2_col2\" class=\"data row2 col2\" >$50.19</td>\n",
       "      <td id=\"T_3f99c_row2_col3\" class=\"data row2 col3\" >$4.56</td>\n",
       "    </tr>\n",
       "  </tbody>\n",
       "</table>\n"
      ],
      "text/plain": [
       "<pandas.io.formats.style.Styler at 0x11861daf0>"
      ]
     },
     "execution_count": 26,
     "metadata": {},
     "output_type": "execute_result"
    }
   ],
   "source": [
    "# Count the total purchases by gender \n",
    "purchase_count = gender_stats[\"Purchase ID\"].count()\n",
    "\n",
    "# Average purchase prices by gender\n",
    "avg_purchase_price = gender_stats[\"Price\"].mean()\n",
    "\n",
    "# Average purchase total by gender \n",
    "avg_purchase_total = gender_stats[\"Price\"].sum()\n",
    "\n",
    "# Average purchase total by gender divivded by purchase count by unique shoppers\n",
    "avg_purchase_per_person = avg_purchase_total/total_count_gender\n",
    "\n",
    "# Create data frame with obtained values \n",
    "gender_demographics = pd.DataFrame({\"Purchase Count\": purchase_count, \n",
    "                                    \"Average Purchase Price\": avg_purchase_price,\n",
    "                                    \"Average Purchase Value\":avg_purchase_total,\n",
    "                                    \"Avg Purchase Total per Person\": avg_purchase_per_person})\n",
    "\n",
    "# Provide index in top left as \"Gender\"\n",
    "gender_demographics.index.name = \"Gender\"\n",
    "\n",
    "# Format with currency style\n",
    "gender_demographics.style.format({\"Average Purchase Value\":\"${:,.2f}\",\n",
    "                                  \"Average Purchase Price\":\"${:,.2f}\",\n",
    "                                  \"Avg Purchase Total per Person\":\"${:,.2f}\"})"
   ]
  },
  {
   "cell_type": "markdown",
   "metadata": {},
   "source": [
    "Informacion demografica por edad\n",
    "\n",
    "En esta seccion, divida la informacion en \"contenedores\" de 4 años. (Es decir <10, 10-14,15-18, etc)\n",
    "\n",
    "12. Cuanto se gastaron por edad\n",
    "13. Cuanto fue el promedio que se gastaron por edad\n",
    "14. Cual fue el gasto total por edad\n",
    "15. Que grupo fue el que mas gasto y cuales son los articulos que mas se compraro para los que mas gastaron.\n",
    "16. Hata un histograma de cuantas veces se compraron los diferentes articulos.\n",
    "17. Identifique cuales son los articulos que das mas dinero a la empresa, identificando el nombre del articulo, el ID, cuantas veces se compro y el precio del articulo."
   ]
  },
  {
   "cell_type": "code",
   "execution_count": 27,
   "metadata": {},
   "outputs": [
    {
     "data": {
      "text/html": [
       "<style type=\"text/css\">\n",
       "</style>\n",
       "<table id=\"T_924c1\">\n",
       "  <thead>\n",
       "    <tr>\n",
       "      <th class=\"blank level0\" >&nbsp;</th>\n",
       "      <th id=\"T_924c1_level0_col0\" class=\"col_heading level0 col0\" >Percentage of Players</th>\n",
       "      <th id=\"T_924c1_level0_col1\" class=\"col_heading level0 col1\" >Total Count</th>\n",
       "    </tr>\n",
       "  </thead>\n",
       "  <tbody>\n",
       "    <tr>\n",
       "      <th id=\"T_924c1_level0_row0\" class=\"row_heading level0 row0\" ><10</th>\n",
       "      <td id=\"T_924c1_row0_col0\" class=\"data row0 col0\" >2.95</td>\n",
       "      <td id=\"T_924c1_row0_col1\" class=\"data row0 col1\" >17</td>\n",
       "    </tr>\n",
       "    <tr>\n",
       "      <th id=\"T_924c1_level0_row1\" class=\"row_heading level0 row1\" >10-14</th>\n",
       "      <td id=\"T_924c1_row1_col0\" class=\"data row1 col0\" >3.82</td>\n",
       "      <td id=\"T_924c1_row1_col1\" class=\"data row1 col1\" >22</td>\n",
       "    </tr>\n",
       "    <tr>\n",
       "      <th id=\"T_924c1_level0_row2\" class=\"row_heading level0 row2\" >15-19</th>\n",
       "      <td id=\"T_924c1_row2_col0\" class=\"data row2 col0\" >18.58</td>\n",
       "      <td id=\"T_924c1_row2_col1\" class=\"data row2 col1\" >107</td>\n",
       "    </tr>\n",
       "    <tr>\n",
       "      <th id=\"T_924c1_level0_row3\" class=\"row_heading level0 row3\" >20-24</th>\n",
       "      <td id=\"T_924c1_row3_col0\" class=\"data row3 col0\" >44.79</td>\n",
       "      <td id=\"T_924c1_row3_col1\" class=\"data row3 col1\" >258</td>\n",
       "    </tr>\n",
       "    <tr>\n",
       "      <th id=\"T_924c1_level0_row4\" class=\"row_heading level0 row4\" >25-29</th>\n",
       "      <td id=\"T_924c1_row4_col0\" class=\"data row4 col0\" >13.37</td>\n",
       "      <td id=\"T_924c1_row4_col1\" class=\"data row4 col1\" >77</td>\n",
       "    </tr>\n",
       "    <tr>\n",
       "      <th id=\"T_924c1_level0_row5\" class=\"row_heading level0 row5\" >30-34</th>\n",
       "      <td id=\"T_924c1_row5_col0\" class=\"data row5 col0\" >9.03</td>\n",
       "      <td id=\"T_924c1_row5_col1\" class=\"data row5 col1\" >52</td>\n",
       "    </tr>\n",
       "    <tr>\n",
       "      <th id=\"T_924c1_level0_row6\" class=\"row_heading level0 row6\" >35-39</th>\n",
       "      <td id=\"T_924c1_row6_col0\" class=\"data row6 col0\" >5.38</td>\n",
       "      <td id=\"T_924c1_row6_col1\" class=\"data row6 col1\" >31</td>\n",
       "    </tr>\n",
       "    <tr>\n",
       "      <th id=\"T_924c1_level0_row7\" class=\"row_heading level0 row7\" >40+</th>\n",
       "      <td id=\"T_924c1_row7_col0\" class=\"data row7 col0\" >2.08</td>\n",
       "      <td id=\"T_924c1_row7_col1\" class=\"data row7 col1\" >12</td>\n",
       "    </tr>\n",
       "  </tbody>\n",
       "</table>\n"
      ],
      "text/plain": [
       "<pandas.io.formats.style.Styler at 0x11f0d2700>"
      ]
     },
     "execution_count": 27,
     "metadata": {},
     "output_type": "execute_result"
    }
   ],
   "source": [
    "# Establish bins for ages\n",
    "age_bins = [0, 9.90, 14.90, 19.90, 24.90, 29.90, 34.90, 39.90, 99999]\n",
    "group_names = [\"<10\", \"10-14\", \"15-19\", \"20-24\", \"25-29\", \"30-34\", \"35-39\", \"40+\"]\n",
    "\n",
    "# Segment and sort age values into bins established above\n",
    "purchase_data[\"Age Group\"] = pd.cut(purchase_data[\"Age\"],age_bins, labels=group_names)\n",
    "purchase_data\n",
    "\n",
    "# Create new data frame with the added \"Age Group\" and group it\n",
    "age_grouped = purchase_data.groupby(\"Age Group\")\n",
    "\n",
    "# Count total players by age category\n",
    "total_count_age = age_grouped[\"SN\"].nunique()\n",
    "\n",
    "# Calculate percentages by age category \n",
    "percentage_by_age = (total_count_age/total_players) * 100\n",
    "\n",
    "# Create data frame with obtained values\n",
    "age_demographics = pd.DataFrame({\"Percentage of Players\": percentage_by_age, \"Total Count\": total_count_age})\n",
    "\n",
    "# Format the data frame with no index name in the corner\n",
    "age_demographics.index.name = None\n",
    "\n",
    "# Format percentage with two decimal places \n",
    "age_demographics.style.format({\"Percentage of Players\":\"{:,.2f}\"})"
   ]
  },
  {
   "cell_type": "code",
   "execution_count": 28,
   "metadata": {},
   "outputs": [
    {
     "data": {
      "text/html": [
       "<style type=\"text/css\">\n",
       "</style>\n",
       "<table id=\"T_33f7a\">\n",
       "  <thead>\n",
       "    <tr>\n",
       "      <th class=\"blank level0\" >&nbsp;</th>\n",
       "      <th id=\"T_33f7a_level0_col0\" class=\"col_heading level0 col0\" >Purchase Count</th>\n",
       "      <th id=\"T_33f7a_level0_col1\" class=\"col_heading level0 col1\" >Average Purchase Price</th>\n",
       "      <th id=\"T_33f7a_level0_col2\" class=\"col_heading level0 col2\" >Total Purchase Value</th>\n",
       "      <th id=\"T_33f7a_level0_col3\" class=\"col_heading level0 col3\" >Average Purchase Total per Person</th>\n",
       "    </tr>\n",
       "  </thead>\n",
       "  <tbody>\n",
       "    <tr>\n",
       "      <th id=\"T_33f7a_level0_row0\" class=\"row_heading level0 row0\" ><10</th>\n",
       "      <td id=\"T_33f7a_row0_col0\" class=\"data row0 col0\" >23</td>\n",
       "      <td id=\"T_33f7a_row0_col1\" class=\"data row0 col1\" >$3.35</td>\n",
       "      <td id=\"T_33f7a_row0_col2\" class=\"data row0 col2\" >$77.13</td>\n",
       "      <td id=\"T_33f7a_row0_col3\" class=\"data row0 col3\" >$4.54</td>\n",
       "    </tr>\n",
       "    <tr>\n",
       "      <th id=\"T_33f7a_level0_row1\" class=\"row_heading level0 row1\" >10-14</th>\n",
       "      <td id=\"T_33f7a_row1_col0\" class=\"data row1 col0\" >28</td>\n",
       "      <td id=\"T_33f7a_row1_col1\" class=\"data row1 col1\" >$2.96</td>\n",
       "      <td id=\"T_33f7a_row1_col2\" class=\"data row1 col2\" >$82.78</td>\n",
       "      <td id=\"T_33f7a_row1_col3\" class=\"data row1 col3\" >$3.76</td>\n",
       "    </tr>\n",
       "    <tr>\n",
       "      <th id=\"T_33f7a_level0_row2\" class=\"row_heading level0 row2\" >15-19</th>\n",
       "      <td id=\"T_33f7a_row2_col0\" class=\"data row2 col0\" >136</td>\n",
       "      <td id=\"T_33f7a_row2_col1\" class=\"data row2 col1\" >$3.04</td>\n",
       "      <td id=\"T_33f7a_row2_col2\" class=\"data row2 col2\" >$412.89</td>\n",
       "      <td id=\"T_33f7a_row2_col3\" class=\"data row2 col3\" >$3.86</td>\n",
       "    </tr>\n",
       "    <tr>\n",
       "      <th id=\"T_33f7a_level0_row3\" class=\"row_heading level0 row3\" >20-24</th>\n",
       "      <td id=\"T_33f7a_row3_col0\" class=\"data row3 col0\" >365</td>\n",
       "      <td id=\"T_33f7a_row3_col1\" class=\"data row3 col1\" >$3.05</td>\n",
       "      <td id=\"T_33f7a_row3_col2\" class=\"data row3 col2\" >$1,114.06</td>\n",
       "      <td id=\"T_33f7a_row3_col3\" class=\"data row3 col3\" >$4.32</td>\n",
       "    </tr>\n",
       "    <tr>\n",
       "      <th id=\"T_33f7a_level0_row4\" class=\"row_heading level0 row4\" >25-29</th>\n",
       "      <td id=\"T_33f7a_row4_col0\" class=\"data row4 col0\" >101</td>\n",
       "      <td id=\"T_33f7a_row4_col1\" class=\"data row4 col1\" >$2.90</td>\n",
       "      <td id=\"T_33f7a_row4_col2\" class=\"data row4 col2\" >$293.00</td>\n",
       "      <td id=\"T_33f7a_row4_col3\" class=\"data row4 col3\" >$3.81</td>\n",
       "    </tr>\n",
       "    <tr>\n",
       "      <th id=\"T_33f7a_level0_row5\" class=\"row_heading level0 row5\" >30-34</th>\n",
       "      <td id=\"T_33f7a_row5_col0\" class=\"data row5 col0\" >73</td>\n",
       "      <td id=\"T_33f7a_row5_col1\" class=\"data row5 col1\" >$2.93</td>\n",
       "      <td id=\"T_33f7a_row5_col2\" class=\"data row5 col2\" >$214.00</td>\n",
       "      <td id=\"T_33f7a_row5_col3\" class=\"data row5 col3\" >$4.12</td>\n",
       "    </tr>\n",
       "    <tr>\n",
       "      <th id=\"T_33f7a_level0_row6\" class=\"row_heading level0 row6\" >35-39</th>\n",
       "      <td id=\"T_33f7a_row6_col0\" class=\"data row6 col0\" >41</td>\n",
       "      <td id=\"T_33f7a_row6_col1\" class=\"data row6 col1\" >$3.60</td>\n",
       "      <td id=\"T_33f7a_row6_col2\" class=\"data row6 col2\" >$147.67</td>\n",
       "      <td id=\"T_33f7a_row6_col3\" class=\"data row6 col3\" >$4.76</td>\n",
       "    </tr>\n",
       "    <tr>\n",
       "      <th id=\"T_33f7a_level0_row7\" class=\"row_heading level0 row7\" >40+</th>\n",
       "      <td id=\"T_33f7a_row7_col0\" class=\"data row7 col0\" >13</td>\n",
       "      <td id=\"T_33f7a_row7_col1\" class=\"data row7 col1\" >$2.94</td>\n",
       "      <td id=\"T_33f7a_row7_col2\" class=\"data row7 col2\" >$38.24</td>\n",
       "      <td id=\"T_33f7a_row7_col3\" class=\"data row7 col3\" >$3.19</td>\n",
       "    </tr>\n",
       "  </tbody>\n",
       "</table>\n"
      ],
      "text/plain": [
       "<pandas.io.formats.style.Styler at 0x12847acd0>"
      ]
     },
     "execution_count": 28,
     "metadata": {},
     "output_type": "execute_result"
    }
   ],
   "source": [
    "# Count purchases by age group\n",
    "purchase_count_age = age_grouped[\"Purchase ID\"].count()\n",
    "\n",
    "# Obtain average purchase price by age group \n",
    "avg_purchase_price_age = age_grouped[\"Price\"].mean()\n",
    "\n",
    "# Calculate total purchase value by age group \n",
    "total_purchase_value = age_grouped[\"Price\"].sum()\n",
    "\n",
    "# Calculate the average purchase per person in the age group \n",
    "avg_purchase_per_person_age = total_purchase_value/total_count_age\n",
    "\n",
    "# Create data frame with obtained values\n",
    "age_demographics = pd.DataFrame({\"Purchase Count\": purchase_count_age,\n",
    "                                 \"Average Purchase Price\": avg_purchase_price_age,\n",
    "                                 \"Total Purchase Value\":total_purchase_value,\n",
    "                                 \"Average Purchase Total per Person\": avg_purchase_per_person_age})\n",
    "\n",
    "# Format the data frame with no index name in the corner\n",
    "age_demographics.index.name = None\n",
    "\n",
    "# Format with currency style\n",
    "age_demographics.style.format({\"Average Purchase Price\":\"${:,.2f}\",\n",
    "                               \"Total Purchase Value\":\"${:,.2f}\",\n",
    "                               \"Average Purchase Total per Person\":\"${:,.2f}\"})"
   ]
  },
  {
   "cell_type": "code",
   "execution_count": 29,
   "metadata": {},
   "outputs": [
    {
     "data": {
      "text/html": [
       "<style type=\"text/css\">\n",
       "</style>\n",
       "<table id=\"T_a27d9\">\n",
       "  <thead>\n",
       "    <tr>\n",
       "      <th class=\"blank level0\" >&nbsp;</th>\n",
       "      <th id=\"T_a27d9_level0_col0\" class=\"col_heading level0 col0\" >Purchase Count</th>\n",
       "      <th id=\"T_a27d9_level0_col1\" class=\"col_heading level0 col1\" >Average Purchase Price</th>\n",
       "      <th id=\"T_a27d9_level0_col2\" class=\"col_heading level0 col2\" >Total Purchase Value</th>\n",
       "    </tr>\n",
       "    <tr>\n",
       "      <th class=\"index_name level0\" >SN</th>\n",
       "      <th class=\"blank col0\" >&nbsp;</th>\n",
       "      <th class=\"blank col1\" >&nbsp;</th>\n",
       "      <th class=\"blank col2\" >&nbsp;</th>\n",
       "    </tr>\n",
       "  </thead>\n",
       "  <tbody>\n",
       "    <tr>\n",
       "      <th id=\"T_a27d9_level0_row0\" class=\"row_heading level0 row0\" >Lisosia93</th>\n",
       "      <td id=\"T_a27d9_row0_col0\" class=\"data row0 col0\" >5</td>\n",
       "      <td id=\"T_a27d9_row0_col1\" class=\"data row0 col1\" >$3.79</td>\n",
       "      <td id=\"T_a27d9_row0_col2\" class=\"data row0 col2\" >$18.96</td>\n",
       "    </tr>\n",
       "    <tr>\n",
       "      <th id=\"T_a27d9_level0_row1\" class=\"row_heading level0 row1\" >Idastidru52</th>\n",
       "      <td id=\"T_a27d9_row1_col0\" class=\"data row1 col0\" >4</td>\n",
       "      <td id=\"T_a27d9_row1_col1\" class=\"data row1 col1\" >$3.86</td>\n",
       "      <td id=\"T_a27d9_row1_col2\" class=\"data row1 col2\" >$15.45</td>\n",
       "    </tr>\n",
       "    <tr>\n",
       "      <th id=\"T_a27d9_level0_row2\" class=\"row_heading level0 row2\" >Chamjask73</th>\n",
       "      <td id=\"T_a27d9_row2_col0\" class=\"data row2 col0\" >3</td>\n",
       "      <td id=\"T_a27d9_row2_col1\" class=\"data row2 col1\" >$4.61</td>\n",
       "      <td id=\"T_a27d9_row2_col2\" class=\"data row2 col2\" >$13.83</td>\n",
       "    </tr>\n",
       "    <tr>\n",
       "      <th id=\"T_a27d9_level0_row3\" class=\"row_heading level0 row3\" >Iral74</th>\n",
       "      <td id=\"T_a27d9_row3_col0\" class=\"data row3 col0\" >4</td>\n",
       "      <td id=\"T_a27d9_row3_col1\" class=\"data row3 col1\" >$3.41</td>\n",
       "      <td id=\"T_a27d9_row3_col2\" class=\"data row3 col2\" >$13.62</td>\n",
       "    </tr>\n",
       "    <tr>\n",
       "      <th id=\"T_a27d9_level0_row4\" class=\"row_heading level0 row4\" >Iskadarya95</th>\n",
       "      <td id=\"T_a27d9_row4_col0\" class=\"data row4 col0\" >3</td>\n",
       "      <td id=\"T_a27d9_row4_col1\" class=\"data row4 col1\" >$4.37</td>\n",
       "      <td id=\"T_a27d9_row4_col2\" class=\"data row4 col2\" >$13.10</td>\n",
       "    </tr>\n",
       "  </tbody>\n",
       "</table>\n"
      ],
      "text/plain": [
       "<pandas.io.formats.style.Styler at 0x118813250>"
      ]
     },
     "execution_count": 29,
     "metadata": {},
     "output_type": "execute_result"
    }
   ],
   "source": [
    "# Group purchase data by screen names\n",
    "spender_stats = purchase_data.groupby(\"SN\")\n",
    "\n",
    "# Count the total purchases by name\n",
    "purchase_count_spender = spender_stats[\"Purchase ID\"].count()\n",
    "\n",
    "# Calculate the average purchase by name \n",
    "avg_purchase_price_spender = spender_stats[\"Price\"].mean()\n",
    "\n",
    "# Calculate purchase total \n",
    "purchase_total_spender = spender_stats[\"Price\"].sum()\n",
    "\n",
    "# Create data frame with obtained values\n",
    "top_spenders = pd.DataFrame({\"Purchase Count\": purchase_count_spender,\n",
    "                             \"Average Purchase Price\": avg_purchase_price_spender,\n",
    "                             \"Total Purchase Value\":purchase_total_spender})\n",
    "\n",
    "# Sort in descending order to obtain top 5 spender names \n",
    "formatted_spenders = top_spenders.sort_values([\"Total Purchase Value\"], ascending=False).head()\n",
    "\n",
    "# Format with currency style\n",
    "formatted_spenders.style.format({\"Average Purchase Total\":\"${:,.2f}\",\n",
    "                                 \"Average Purchase Price\":\"${:,.2f}\", \n",
    "                                 \"Total Purchase Value\":\"${:,.2f}\"})"
   ]
  },
  {
   "cell_type": "code",
   "execution_count": 30,
   "metadata": {},
   "outputs": [
    {
     "data": {
      "text/html": [
       "<style type=\"text/css\">\n",
       "</style>\n",
       "<table id=\"T_400c7\">\n",
       "  <thead>\n",
       "    <tr>\n",
       "      <th class=\"blank\" >&nbsp;</th>\n",
       "      <th class=\"blank level0\" >&nbsp;</th>\n",
       "      <th id=\"T_400c7_level0_col0\" class=\"col_heading level0 col0\" >Purchase Count</th>\n",
       "      <th id=\"T_400c7_level0_col1\" class=\"col_heading level0 col1\" >Item Price</th>\n",
       "      <th id=\"T_400c7_level0_col2\" class=\"col_heading level0 col2\" >Total Purchase Value</th>\n",
       "    </tr>\n",
       "    <tr>\n",
       "      <th class=\"index_name level0\" >Item ID</th>\n",
       "      <th class=\"index_name level1\" >Item Name</th>\n",
       "      <th class=\"blank col0\" >&nbsp;</th>\n",
       "      <th class=\"blank col1\" >&nbsp;</th>\n",
       "      <th class=\"blank col2\" >&nbsp;</th>\n",
       "    </tr>\n",
       "  </thead>\n",
       "  <tbody>\n",
       "    <tr>\n",
       "      <th id=\"T_400c7_level0_row0\" class=\"row_heading level0 row0\" >178</th>\n",
       "      <th id=\"T_400c7_level1_row0\" class=\"row_heading level1 row0\" >Oathbreaker, Last Hope of the Breaking Storm</th>\n",
       "      <td id=\"T_400c7_row0_col0\" class=\"data row0 col0\" >12</td>\n",
       "      <td id=\"T_400c7_row0_col1\" class=\"data row0 col1\" >$4.23</td>\n",
       "      <td id=\"T_400c7_row0_col2\" class=\"data row0 col2\" >$50.76</td>\n",
       "    </tr>\n",
       "    <tr>\n",
       "      <th id=\"T_400c7_level0_row1\" class=\"row_heading level0 row1\" >145</th>\n",
       "      <th id=\"T_400c7_level1_row1\" class=\"row_heading level1 row1\" >Fiery Glass Crusader</th>\n",
       "      <td id=\"T_400c7_row1_col0\" class=\"data row1 col0\" >9</td>\n",
       "      <td id=\"T_400c7_row1_col1\" class=\"data row1 col1\" >$4.58</td>\n",
       "      <td id=\"T_400c7_row1_col2\" class=\"data row1 col2\" >$41.22</td>\n",
       "    </tr>\n",
       "    <tr>\n",
       "      <th id=\"T_400c7_level0_row2\" class=\"row_heading level0 row2\" >108</th>\n",
       "      <th id=\"T_400c7_level1_row2\" class=\"row_heading level1 row2\" >Extraction, Quickblade Of Trembling Hands</th>\n",
       "      <td id=\"T_400c7_row2_col0\" class=\"data row2 col0\" >9</td>\n",
       "      <td id=\"T_400c7_row2_col1\" class=\"data row2 col1\" >$3.53</td>\n",
       "      <td id=\"T_400c7_row2_col2\" class=\"data row2 col2\" >$31.77</td>\n",
       "    </tr>\n",
       "    <tr>\n",
       "      <th id=\"T_400c7_level0_row3\" class=\"row_heading level0 row3\" >82</th>\n",
       "      <th id=\"T_400c7_level1_row3\" class=\"row_heading level1 row3\" >Nirvana</th>\n",
       "      <td id=\"T_400c7_row3_col0\" class=\"data row3 col0\" >9</td>\n",
       "      <td id=\"T_400c7_row3_col1\" class=\"data row3 col1\" >$4.90</td>\n",
       "      <td id=\"T_400c7_row3_col2\" class=\"data row3 col2\" >$44.10</td>\n",
       "    </tr>\n",
       "    <tr>\n",
       "      <th id=\"T_400c7_level0_row4\" class=\"row_heading level0 row4\" >19</th>\n",
       "      <th id=\"T_400c7_level1_row4\" class=\"row_heading level1 row4\" >Pursuit, Cudgel of Necromancy</th>\n",
       "      <td id=\"T_400c7_row4_col0\" class=\"data row4 col0\" >8</td>\n",
       "      <td id=\"T_400c7_row4_col1\" class=\"data row4 col1\" >$1.02</td>\n",
       "      <td id=\"T_400c7_row4_col2\" class=\"data row4 col2\" >$8.16</td>\n",
       "    </tr>\n",
       "  </tbody>\n",
       "</table>\n"
      ],
      "text/plain": [
       "<pandas.io.formats.style.Styler at 0x1283e4f70>"
      ]
     },
     "execution_count": 30,
     "metadata": {},
     "output_type": "execute_result"
    }
   ],
   "source": [
    "# Create new data frame with items related information \n",
    "items = purchase_data[[\"Item ID\", \"Item Name\", \"Price\"]]\n",
    "\n",
    "# Group the item data by item id and item name \n",
    "item_stats = items.groupby([\"Item ID\",\"Item Name\"])\n",
    "\n",
    "# Count the number of times an item has been purchased \n",
    "purchase_count_item = item_stats[\"Price\"].count()\n",
    "\n",
    "# Calcualte the purchase value per item \n",
    "purchase_value = (item_stats[\"Price\"].sum()) \n",
    "\n",
    "# Find individual item price\n",
    "item_price = purchase_value/purchase_count_item\n",
    "\n",
    "# Create data frame with obtained values\n",
    "most_popular_items = pd.DataFrame({\"Purchase Count\": purchase_count_item, \n",
    "                                   \"Item Price\": item_price,\n",
    "                                   \"Total Purchase Value\":purchase_value})\n",
    "\n",
    "# Sort in descending order to obtain top spender names and provide top 5 item names\n",
    "popular_formatted = most_popular_items.sort_values([\"Purchase Count\"], ascending=False).head()\n",
    "\n",
    "# Format with currency style\n",
    "popular_formatted.style.format({\"Item Price\":\"${:,.2f}\",\n",
    "                                \"Total Purchase Value\":\"${:,.2f}\"})"
   ]
  },
  {
   "cell_type": "code",
   "execution_count": 31,
   "metadata": {},
   "outputs": [
    {
     "data": {
      "text/html": [
       "<style type=\"text/css\">\n",
       "</style>\n",
       "<table id=\"T_73231\">\n",
       "  <thead>\n",
       "    <tr>\n",
       "      <th class=\"blank\" >&nbsp;</th>\n",
       "      <th class=\"blank level0\" >&nbsp;</th>\n",
       "      <th id=\"T_73231_level0_col0\" class=\"col_heading level0 col0\" >Purchase Count</th>\n",
       "      <th id=\"T_73231_level0_col1\" class=\"col_heading level0 col1\" >Item Price</th>\n",
       "      <th id=\"T_73231_level0_col2\" class=\"col_heading level0 col2\" >Total Purchase Value</th>\n",
       "    </tr>\n",
       "    <tr>\n",
       "      <th class=\"index_name level0\" >Item ID</th>\n",
       "      <th class=\"index_name level1\" >Item Name</th>\n",
       "      <th class=\"blank col0\" >&nbsp;</th>\n",
       "      <th class=\"blank col1\" >&nbsp;</th>\n",
       "      <th class=\"blank col2\" >&nbsp;</th>\n",
       "    </tr>\n",
       "  </thead>\n",
       "  <tbody>\n",
       "    <tr>\n",
       "      <th id=\"T_73231_level0_row0\" class=\"row_heading level0 row0\" >178</th>\n",
       "      <th id=\"T_73231_level1_row0\" class=\"row_heading level1 row0\" >Oathbreaker, Last Hope of the Breaking Storm</th>\n",
       "      <td id=\"T_73231_row0_col0\" class=\"data row0 col0\" >12</td>\n",
       "      <td id=\"T_73231_row0_col1\" class=\"data row0 col1\" >$4.23</td>\n",
       "      <td id=\"T_73231_row0_col2\" class=\"data row0 col2\" >$50.76</td>\n",
       "    </tr>\n",
       "    <tr>\n",
       "      <th id=\"T_73231_level0_row1\" class=\"row_heading level0 row1\" >82</th>\n",
       "      <th id=\"T_73231_level1_row1\" class=\"row_heading level1 row1\" >Nirvana</th>\n",
       "      <td id=\"T_73231_row1_col0\" class=\"data row1 col0\" >9</td>\n",
       "      <td id=\"T_73231_row1_col1\" class=\"data row1 col1\" >$4.90</td>\n",
       "      <td id=\"T_73231_row1_col2\" class=\"data row1 col2\" >$44.10</td>\n",
       "    </tr>\n",
       "    <tr>\n",
       "      <th id=\"T_73231_level0_row2\" class=\"row_heading level0 row2\" >145</th>\n",
       "      <th id=\"T_73231_level1_row2\" class=\"row_heading level1 row2\" >Fiery Glass Crusader</th>\n",
       "      <td id=\"T_73231_row2_col0\" class=\"data row2 col0\" >9</td>\n",
       "      <td id=\"T_73231_row2_col1\" class=\"data row2 col1\" >$4.58</td>\n",
       "      <td id=\"T_73231_row2_col2\" class=\"data row2 col2\" >$41.22</td>\n",
       "    </tr>\n",
       "    <tr>\n",
       "      <th id=\"T_73231_level0_row3\" class=\"row_heading level0 row3\" >92</th>\n",
       "      <th id=\"T_73231_level1_row3\" class=\"row_heading level1 row3\" >Final Critic</th>\n",
       "      <td id=\"T_73231_row3_col0\" class=\"data row3 col0\" >8</td>\n",
       "      <td id=\"T_73231_row3_col1\" class=\"data row3 col1\" >$4.88</td>\n",
       "      <td id=\"T_73231_row3_col2\" class=\"data row3 col2\" >$39.04</td>\n",
       "    </tr>\n",
       "    <tr>\n",
       "      <th id=\"T_73231_level0_row4\" class=\"row_heading level0 row4\" >103</th>\n",
       "      <th id=\"T_73231_level1_row4\" class=\"row_heading level1 row4\" >Singed Scalpel</th>\n",
       "      <td id=\"T_73231_row4_col0\" class=\"data row4 col0\" >8</td>\n",
       "      <td id=\"T_73231_row4_col1\" class=\"data row4 col1\" >$4.35</td>\n",
       "      <td id=\"T_73231_row4_col2\" class=\"data row4 col2\" >$34.80</td>\n",
       "    </tr>\n",
       "  </tbody>\n",
       "</table>\n"
      ],
      "text/plain": [
       "<pandas.io.formats.style.Styler at 0x1194ed910>"
      ]
     },
     "execution_count": 31,
     "metadata": {},
     "output_type": "execute_result"
    }
   ],
   "source": [
    "# Take the most_popular items data frame and change the sorting to find highest total purchase value\n",
    "popular_formatted = most_popular_items.sort_values([\"Total Purchase Value\"],\n",
    "                                                   ascending=False).head()\n",
    "# Format with currency style\n",
    "popular_formatted.style.format({\"Item Price\":\"${:,.2f}\",\n",
    "                                \"Total Purchase Value\":\"${:,.2f}\"})"
   ]
  },
  {
   "cell_type": "code",
   "execution_count": null,
   "metadata": {},
   "outputs": [],
   "source": []
  }
 ],
 "metadata": {
  "anaconda-cloud": {},
  "kernel_info": {
   "name": "python3"
  },
  "kernelspec": {
   "display_name": "Python 3 (ipykernel)",
   "language": "python",
   "name": "python3"
  },
  "language_info": {
   "codemirror_mode": {
    "name": "ipython",
    "version": 3
   },
   "file_extension": ".py",
   "mimetype": "text/x-python",
   "name": "python",
   "nbconvert_exporter": "python",
   "pygments_lexer": "ipython3",
   "version": "3.9.7"
  },
  "nteract": {
   "version": "0.2.0"
  }
 },
 "nbformat": 4,
 "nbformat_minor": 2
}
