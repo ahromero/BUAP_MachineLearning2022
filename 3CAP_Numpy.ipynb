{
 "cells": [
  {
   "cell_type": "markdown",
   "metadata": {},
   "source": [
    "# Machine Learning practico con la ayuda de Python\n",
    "# Capitulo 3: Numpy\n",
    "\n",
    "## Aldo Humberto Romero \n",
    "\n",
    "### BUAP, Marzo, 2022"
   ]
  },
  {
   "cell_type": "markdown",
   "metadata": {},
   "source": [
    "## Configuracion"
   ]
  },
  {
   "cell_type": "code",
   "execution_count": 1,
   "metadata": {},
   "outputs": [],
   "source": [
    "%load_ext watermark"
   ]
  },
  {
   "cell_type": "code",
   "execution_count": 2,
   "metadata": {},
   "outputs": [
    {
     "name": "stdout",
     "output_type": "stream",
     "text": [
      "2020-05-30T13:38:24-04:00\n",
      "\n",
      "CPython 3.7.7\n",
      "IPython 7.13.0\n",
      "\n",
      "compiler   : Clang 4.0.1 (tags/RELEASE_401/final)\n",
      "system     : Darwin\n",
      "release    : 19.5.0\n",
      "machine    : x86_64\n",
      "processor  : i386\n",
      "CPU cores  : 8\n",
      "interpreter: 64bit\n"
     ]
    }
   ],
   "source": [
    "%watermark"
   ]
  },
  {
   "cell_type": "code",
   "execution_count": 3,
   "metadata": {},
   "outputs": [
    {
     "name": "stdout",
     "output_type": "stream",
     "text": [
      "numpy 1.18.1\n",
      "\n"
     ]
    }
   ],
   "source": [
    "import numpy\n",
    "%watermark -iv"
   ]
  },
  {
   "cell_type": "markdown",
   "metadata": {},
   "source": [
    "## Numpy"
   ]
  },
  {
   "cell_type": "markdown",
   "metadata": {},
   "source": [
    "Numpy es el corazon de las librerias de computacion cientifica de Python. Provee un arreglo multidimensional de alto rendimiento, ademas provee las herramientas para trabajar con estos arreglos.\n",
    "\n",
    "Caracteristicas interesantes de Numpy:\n",
    "\n",
    " * **numpy** esta escriba en C y esta basada en los paquetes de operacion algebraica BLAS y LAPACK. \n",
    " * **numpy** Es bastante mas rapida que otras librerias de Python que tambien trabajan con arreglos, especialmente cuando la comparamos con otras estructuras como listas, diccionarios, etc. \n",
    " * **numpy** es la libreria base de muchas otras librerias en computacion cientifica y en ciencia de datos. \n",
    " * **numpy** cuyo objecto fundamental es `numpy.ndarray` ejecuta todas las operaciones fundamentales como reformateo, ordenamiento, indexamiento, etc.\n"
   ]
  },
  {
   "cell_type": "markdown",
   "metadata": {},
   "source": [
    "Para usar Numpy, lo primero que tenemos que hacer es importar el paquete Numpy."
   ]
  },
  {
   "cell_type": "code",
   "execution_count": 2,
   "metadata": {},
   "outputs": [],
   "source": [
    "import numpy as np"
   ]
  },
  {
   "cell_type": "markdown",
   "metadata": {},
   "source": [
    "### Arreglos"
   ]
  },
  {
   "cell_type": "markdown",
   "metadata": {},
   "source": [
    "Un arreglo de Numpy es in a cuadricula de valores, todos del mismo tipo es indexados por tuplas de enteros no negativos. El numero de dimensiones corresponde al rango del arreglo, la forma del arreglo es una tupla de enteros que nos da el tamaño de arreglo a lo largo de cada dimension."
   ]
  },
  {
   "cell_type": "markdown",
   "metadata": {},
   "source": [
    "Podemos inicializar los arreglos de Numpy a partir de listas de Python y accesar sus elementos usando parentesis cuadrados. "
   ]
  },
  {
   "cell_type": "code",
   "execution_count": 2,
   "metadata": {},
   "outputs": [
    {
     "name": "stdout",
     "output_type": "stream",
     "text": [
      "<class 'numpy.ndarray'> (3,) 1 2 3\n",
      "[5 2 3]\n"
     ]
    }
   ],
   "source": [
    "a = np.array([1, 2, 3])  # Crea un arreglo de dimension 1\n",
    "print(type(a), a.shape, a[0], a[1], a[2])\n",
    "a[0] = 5                 # Cambia un elemento del arreglo\n",
    "print(a)                  "
   ]
  },
  {
   "cell_type": "code",
   "execution_count": 3,
   "metadata": {},
   "outputs": [
    {
     "name": "stdout",
     "output_type": "stream",
     "text": [
      "(2, 3)\n",
      "[[1 2 3]\n",
      " [4 5 6]]\n"
     ]
    }
   ],
   "source": [
    "b = np.array([[1,2,3],[4,5,6]])   # Crea un arreglo de rango 2\n",
    "print(b.shape)\n",
    "print(b)"
   ]
  },
  {
   "cell_type": "code",
   "execution_count": 7,
   "metadata": {},
   "outputs": [
    {
     "name": "stdout",
     "output_type": "stream",
     "text": [
      "(2, 3)\n",
      "1 2 4\n"
     ]
    }
   ],
   "source": [
    "print(b.shape)                   \n",
    "print(b[0, 0], b[0, 1], b[1, 0])"
   ]
  },
  {
   "cell_type": "markdown",
   "metadata": {},
   "source": [
    "Numpy nos da una seria de funciones que podemos usar para crear arreglos"
   ]
  },
  {
   "cell_type": "code",
   "execution_count": 3,
   "metadata": {},
   "outputs": [
    {
     "name": "stdout",
     "output_type": "stream",
     "text": [
      "[[[0. 0.]\n",
      "  [0. 0.]]\n",
      "\n",
      " [[0. 0.]\n",
      "  [0. 0.]]]\n"
     ]
    }
   ],
   "source": [
    "a = np.zeros((2,2,2))  \n",
    "print(a)"
   ]
  },
  {
   "cell_type": "code",
   "execution_count": 4,
   "metadata": {},
   "outputs": [
    {
     "name": "stdout",
     "output_type": "stream",
     "text": [
      "[[1. 1.]]\n",
      "[1. 1.]\n"
     ]
    }
   ],
   "source": [
    "b = np.ones((1,2))   \n",
    "print(b)\n",
    "print(b[0])"
   ]
  },
  {
   "cell_type": "code",
   "execution_count": 10,
   "metadata": {},
   "outputs": [
    {
     "name": "stdout",
     "output_type": "stream",
     "text": [
      "[[7 7]\n",
      " [7 7]]\n"
     ]
    }
   ],
   "source": [
    "c = np.full((2,2), 7) \n",
    "print(c) "
   ]
  },
  {
   "cell_type": "code",
   "execution_count": 11,
   "metadata": {},
   "outputs": [
    {
     "name": "stdout",
     "output_type": "stream",
     "text": [
      "[[1. 0.]\n",
      " [0. 1.]]\n"
     ]
    }
   ],
   "source": [
    "d = np.eye(2)       \n",
    "print(d)"
   ]
  },
  {
   "cell_type": "code",
   "execution_count": 6,
   "metadata": {},
   "outputs": [
    {
     "name": "stdout",
     "output_type": "stream",
     "text": [
      "[1, 2, 3, 1, 2, 3, 1, 2, 3, 1, 2, 3]\n",
      "(12,)\n",
      "[1 1 1 1 2 2 2 2 3 3 3 3]\n",
      "[1 2 3 1 2 3 1 2 3 1 2 3]\n"
     ]
    }
   ],
   "source": [
    "print(4*[1,2,3])\n",
    "d=np.repeat([1,2,3],4) # Crea una matrix 1x12 donde cada elemento esta repetido 4 veces\n",
    "print(d.shape)\n",
    "d1=np.array([1,2,3]*4) # Crea una matrix 1x12 donde cada vector es repetido 4 veces \n",
    "print(d)\n",
    "print(d1)"
   ]
  },
  {
   "cell_type": "code",
   "execution_count": 4,
   "metadata": {},
   "outputs": [
    {
     "name": "stdout",
     "output_type": "stream",
     "text": [
      "[[1. 1.]\n",
      " [1. 1.]\n",
      " [1. 1.]]\n",
      "[[1. 1.]\n",
      " [1. 1.]\n",
      " [1. 1.]\n",
      " [2. 2.]\n",
      " [2. 2.]\n",
      " [2. 2.]]\n",
      "[[1. 1. 2. 2.]\n",
      " [1. 1. 2. 2.]\n",
      " [1. 1. 2. 2.]]\n"
     ]
    }
   ],
   "source": [
    "d=np.ones((3,2)) \n",
    "print(d)\n",
    "d1=np.vstack([d,2*d]) #  Crea una matrix apilando dos matrices \n",
    "print(d1)\n",
    "d1=np.hstack([d,2*d]) # Crea una matrix a partir de dos (o mas), una al lado de la otra\n",
    "print(d1)"
   ]
  },
  {
   "cell_type": "code",
   "execution_count": 5,
   "metadata": {},
   "outputs": [
    {
     "name": "stdout",
     "output_type": "stream",
     "text": [
      "[[0.53173605 0.189926  ]\n",
      " [0.81992109 0.50664288]]\n"
     ]
    }
   ],
   "source": [
    "e = np.random.random((2,2)) # Matrix llena de valores aleatorios\n",
    "print(e)"
   ]
  },
  {
   "cell_type": "markdown",
   "metadata": {},
   "source": [
    "### Indexamiento del arreglo"
   ]
  },
  {
   "cell_type": "code",
   "execution_count": 13,
   "metadata": {},
   "outputs": [
    {
     "name": "stdout",
     "output_type": "stream",
     "text": [
      "[[ 1  2  3  4]\n",
      " [ 5  6  7  8]\n",
      " [ 9 10 11 12]]\n",
      "[[2 3]\n",
      " [6 7]]\n",
      "[[1 3]\n",
      " [5 7]]\n",
      "[ 9 11]\n"
     ]
    }
   ],
   "source": [
    "import numpy as np\n",
    "\n",
    "\n",
    "a = np.array([[1,2,3,4], [5,6,7,8], [9,10,11,12]])\n",
    "print(a)\n",
    "\n",
    "# Cortamos la matriz para crear un subareglo de las dos primeras filas y las columnas 1 y 2\n",
    "# [[2 3]\n",
    "#  [6 7]]\n",
    "b = a[:2, 1:3]\n",
    "print(b)\n",
    "b = a[:2, 0:3:2]  \n",
    "print(b)\n",
    "print(a[-1,::2]) "
   ]
  },
  {
   "cell_type": "markdown",
   "metadata": {},
   "source": [
    "Cambiando el \"slice\" no cambia el arreglo original"
   ]
  },
  {
   "cell_type": "code",
   "execution_count": 14,
   "metadata": {},
   "outputs": [
    {
     "name": "stdout",
     "output_type": "stream",
     "text": [
      "2\n",
      "2\n",
      "[[77  3]\n",
      " [ 5  7]]\n"
     ]
    }
   ],
   "source": [
    "print(a[0, 1])  \n",
    "b[0, 0] = 77    # b[0, 0] is the same piece of data as a[0, 1]\n",
    "print(a[0, 1]) \n",
    "print(b)"
   ]
  },
  {
   "cell_type": "markdown",
   "metadata": {},
   "source": [
    "Podemos mezclar la manera como indexamos usando enteros o \"slice\". "
   ]
  },
  {
   "cell_type": "code",
   "execution_count": 15,
   "metadata": {},
   "outputs": [
    {
     "name": "stdout",
     "output_type": "stream",
     "text": [
      "[[ 1  2  3  4]\n",
      " [ 5  6  7  8]\n",
      " [ 9 10 11 12]]\n"
     ]
    }
   ],
   "source": [
    "# Create the following rank 2 array with shape (3, 4)\n",
    "a = np.array([[1,2,3,4], [5,6,7,8], [9,10,11,12]])\n",
    "print(a)"
   ]
  },
  {
   "cell_type": "code",
   "execution_count": 16,
   "metadata": {},
   "outputs": [
    {
     "name": "stdout",
     "output_type": "stream",
     "text": [
      "[5 6 7 8] (4,)\n",
      "[[5 6 7 8]] (1, 4)\n",
      "[[5 6 7 8]] (1, 4)\n"
     ]
    }
   ],
   "source": [
    "row_r1 = a[1, :]    # Rango 1 de la segunda fila \n",
    "row_r2 = a[1:2, :]  # Rango 2 de la sebunda fila\n",
    "row_r3 = a[[1], :]  \n",
    "print(row_r1, row_r1.shape) \n",
    "print(row_r2, row_r2.shape)\n",
    "print(row_r3, row_r3.shape)"
   ]
  },
  {
   "cell_type": "code",
   "execution_count": 17,
   "metadata": {},
   "outputs": [
    {
     "name": "stdout",
     "output_type": "stream",
     "text": [
      "[ 2  6 10] (3,)\n",
      "\n",
      "[[ 2]\n",
      " [ 6]\n",
      " [10]] (3, 1)\n"
     ]
    }
   ],
   "source": [
    "# Para columnas\n",
    "col_r1 = a[:, 1]\n",
    "col_r2 = a[:, 1:2]\n",
    "print(col_r1, col_r1.shape)\n",
    "print()\n",
    "print(col_r2, col_r2.shape)"
   ]
  },
  {
   "cell_type": "code",
   "execution_count": 18,
   "metadata": {},
   "outputs": [
    {
     "name": "stdout",
     "output_type": "stream",
     "text": [
      "[1 4 5]\n",
      "[1 4 5]\n"
     ]
    }
   ],
   "source": [
    "# Ahora hagamos combinaciones interesantes\n",
    "\n",
    "a = np.array([[1,2], [3, 4], [5, 6]])\n",
    "\n",
    "# lo de abajo es equivalente a un vector con a[0,0],a[1,1],a[2,0]\n",
    "\n",
    "print(a[[0, 1, 2], [0, 1, 0]])\n",
    "\n",
    "print(np.array([a[0, 0], a[1, 1], a[2, 0]]))"
   ]
  },
  {
   "cell_type": "code",
   "execution_count": 8,
   "metadata": {},
   "outputs": [
    {
     "name": "stdout",
     "output_type": "stream",
     "text": [
      "[[ 1  2  3]\n",
      " [ 4  5  6]\n",
      " [ 7  8  9]\n",
      " [10 11 12]]\n"
     ]
    }
   ],
   "source": [
    "# Definamos una matrix pero hagamos algo diferente\n",
    "a = np.array([[1,2,3], [4,5,6], [7,8,9], [10, 11, 12]])\n",
    "print(a)"
   ]
  },
  {
   "cell_type": "code",
   "execution_count": 9,
   "metadata": {},
   "outputs": [
    {
     "name": "stdout",
     "output_type": "stream",
     "text": [
      "[0 1 2 3]\n",
      "[ 1  6  7 11]\n"
     ]
    }
   ],
   "source": [
    "# Arreglo de indices\n",
    "b = np.array([0, 2, 0, 1])\n",
    "\n",
    "# Seleccion un elemento de cada fila usando los indices de b \n",
    "print(np.arange(4))\n",
    "print(a[np.arange(4), b])  # Prints \"[ 1  6  7 11]\""
   ]
  },
  {
   "cell_type": "markdown",
   "metadata": {},
   "source": [
    "Indexamiento usando valores booleanos o de logica. Usado cuando queremos seleccionar elementso que satisfacen alguna condicion. "
   ]
  },
  {
   "cell_type": "code",
   "execution_count": 10,
   "metadata": {},
   "outputs": [
    {
     "name": "stdout",
     "output_type": "stream",
     "text": [
      "<class 'numpy.ndarray'>\n",
      "[[False False]\n",
      " [ True  True]\n",
      " [ True  True]]\n"
     ]
    }
   ],
   "source": [
    "import numpy as np\n",
    "\n",
    "a = np.array([[1,2], [3, 4], [5, 6]])\n",
    "\n",
    "bool_idx = (a > 2)  # Encuentra todos los elementos con eset condicion \n",
    "\n",
    "print(type(bool_idx))\n",
    "\n",
    "print(bool_idx)"
   ]
  },
  {
   "cell_type": "code",
   "execution_count": 20,
   "metadata": {},
   "outputs": [
    {
     "name": "stdout",
     "output_type": "stream",
     "text": [
      "[3 4 5 6]\n",
      "[3 4 5 6]\n"
     ]
    }
   ],
   "source": [
    "# Podemos ahora usar este arreglo para construir un arreglo de rango 1 que consiste\n",
    "# de los elementos de a que son \"ciertos\" a esta condicion\n",
    "print(a[bool_idx])\n",
    "\n",
    "#O usando tambien:\n",
    "print(a[a > 2])"
   ]
  },
  {
   "cell_type": "markdown",
   "metadata": {},
   "source": [
    "### Tipos de Datos"
   ]
  },
  {
   "cell_type": "markdown",
   "metadata": {},
   "source": [
    "Cada arreglo de Numpy es una grid de elementios del mismo tipo> numpy trata de encontrar el tipo de datos que le daran al final al tipo de arreglo, pero los metodos para crear arreglos tambien nos permiten definir el tipo"
   ]
  },
  {
   "cell_type": "code",
   "execution_count": 8,
   "metadata": {},
   "outputs": [
    {
     "name": "stdout",
     "output_type": "stream",
     "text": [
      "<class 'numpy.ndarray'>\n",
      "int64 float64 <U21 int64 float64\n"
     ]
    }
   ],
   "source": [
    "x = np.array([1, 2])  # Numpy escoge el tipo de datos\n",
    "y = np.array([1., 2])  # \n",
    "p = np.array(['a',1])\n",
    "z = np.array([1, 2], dtype=np.int64)  # Forzamos el tipo de datos \n",
    "w = np.array([1, 2], dtype=np.float64)  # Forzamos el tipo de datos \n",
    "\n",
    "print(type(x))\n",
    "print(x.dtype, y.dtype, p.dtype, z.dtype, w.dtype)"
   ]
  },
  {
   "cell_type": "markdown",
   "metadata": {},
   "source": [
    "Puedes leer mas acerca de los tipos de datos en [documentation](http://docs.scipy.org/doc/numpy/reference/arrays.dtypes.html)."
   ]
  },
  {
   "cell_type": "markdown",
   "metadata": {},
   "source": [
    "### Matematica de los arreglos"
   ]
  },
  {
   "cell_type": "markdown",
   "metadata": {},
   "source": [
    "Funciones matematicas basicas en arreglos Numpy operan en los elementos de los arreglos y puedes hacerse con \"operadores\" o con funciones. "
   ]
  },
  {
   "cell_type": "code",
   "execution_count": 22,
   "metadata": {},
   "outputs": [
    {
     "name": "stdout",
     "output_type": "stream",
     "text": [
      "[[ 6.  8.]\n",
      " [10. 12.]]\n",
      "[[ 6.  8.]\n",
      " [10. 12.]]\n"
     ]
    }
   ],
   "source": [
    "x = np.array([[1,2],[3,4]], dtype=np.float64)\n",
    "y = np.array([[5,6],[7,8]], dtype=np.float64)\n",
    "\n",
    "# Suma element por elemento \n",
    "print(x + y)\n",
    "print(np.add(x, y))"
   ]
  },
  {
   "cell_type": "code",
   "execution_count": 23,
   "metadata": {},
   "outputs": [
    {
     "name": "stdout",
     "output_type": "stream",
     "text": [
      "[[-4. -4.]\n",
      " [-4. -4.]]\n",
      "[[-4. -4.]\n",
      " [-4. -4.]]\n"
     ]
    }
   ],
   "source": [
    "# Diferencia\n",
    "print(x - y)\n",
    "print(np.subtract(x, y))"
   ]
  },
  {
   "cell_type": "code",
   "execution_count": 24,
   "metadata": {},
   "outputs": [
    {
     "name": "stdout",
     "output_type": "stream",
     "text": [
      "[[ 5. 12.]\n",
      " [21. 32.]]\n",
      "[[ 5. 12.]\n",
      " [21. 32.]]\n"
     ]
    }
   ],
   "source": [
    "# Producto\n",
    "print(x * y)\n",
    "print(np.multiply(x, y))"
   ]
  },
  {
   "cell_type": "code",
   "execution_count": 25,
   "metadata": {},
   "outputs": [
    {
     "name": "stdout",
     "output_type": "stream",
     "text": [
      "[[0.2        0.33333333]\n",
      " [0.42857143 0.5       ]]\n",
      "[[0.2        0.33333333]\n",
      " [0.42857143 0.5       ]]\n"
     ]
    }
   ],
   "source": [
    "# Division\n",
    "# [[ 0.2         0.33333333]\n",
    "#  [ 0.42857143  0.5       ]]\n",
    "print(x / y)\n",
    "print(np.divide(x, y))"
   ]
  },
  {
   "cell_type": "code",
   "execution_count": 26,
   "metadata": {},
   "outputs": [
    {
     "name": "stdout",
     "output_type": "stream",
     "text": [
      "[[1.         1.41421356]\n",
      " [1.73205081 2.        ]]\n"
     ]
    }
   ],
   "source": [
    "# Raiz cuadrada\n",
    "# [[ 1.          1.41421356]\n",
    "#  [ 1.73205081  2.        ]]\n",
    "print(np.sqrt(x))"
   ]
  },
  {
   "cell_type": "code",
   "execution_count": 18,
   "metadata": {},
   "outputs": [
    {
     "name": "stdout",
     "output_type": "stream",
     "text": [
      "(2,) (2,)\n",
      "219\n",
      "219\n"
     ]
    }
   ],
   "source": [
    "x = np.array([[1,2],[3,4]])\n",
    "y = np.array([[5,6],[7,8]])\n",
    "\n",
    "v = np.array([9,10])\n",
    "w = np.array([11, 12])\n",
    "\n",
    "# Producto punto o producto interior \n",
    "print(v.shape,w.shape)\n",
    "print(v.dot(w))\n",
    "print(np.dot(v, w))"
   ]
  },
  {
   "cell_type": "code",
   "execution_count": 19,
   "metadata": {},
   "outputs": [
    {
     "name": "stdout",
     "output_type": "stream",
     "text": [
      "(2, 2) (2,)\n",
      "[29 67]\n",
      "[39 58]\n",
      "[29 67]\n",
      "[39 58]\n"
     ]
    }
   ],
   "source": [
    "# Multiplicacion \n",
    "print(x.shape,v.shape)\n",
    "print(x.dot(v))\n",
    "print(v.dot(x))\n",
    "print(np.dot(x, v))\n",
    "print(np.dot(x.T, v)) # con la traspuesta de x"
   ]
  },
  {
   "cell_type": "code",
   "execution_count": 33,
   "metadata": {},
   "outputs": [
    {
     "name": "stdout",
     "output_type": "stream",
     "text": [
      "[[19 22]\n",
      " [43 50]]\n",
      "[[19 22]\n",
      " [43 50]]\n"
     ]
    }
   ],
   "source": [
    "# Producto Matriz / matriz product\n",
    "# [[19 22]\n",
    "#  [43 50]]\n",
    "print(x.dot(y))\n",
    "print(np.dot(x, y))"
   ]
  },
  {
   "cell_type": "code",
   "execution_count": 31,
   "metadata": {},
   "outputs": [
    {
     "name": "stdout",
     "output_type": "stream",
     "text": [
      "int64\n",
      "float32\n"
     ]
    }
   ],
   "source": [
    "print(x.dtype)\n",
    "x=x.astype('f')\n",
    "print(x.dtype)"
   ]
  },
  {
   "cell_type": "markdown",
   "metadata": {},
   "source": [
    "Numpy nos da un gran numero de funciones para operar en arreglos, uno de ellos es la `sum`"
   ]
  },
  {
   "cell_type": "code",
   "execution_count": 32,
   "metadata": {
    "scrolled": true
   },
   "outputs": [
    {
     "name": "stdout",
     "output_type": "stream",
     "text": [
      "10\n",
      "[4 6]\n",
      "[3 7]\n"
     ]
    }
   ],
   "source": [
    "x = np.array([[1,2],[3,4]])\n",
    "\n",
    "print(np.sum(x))  # Suma de todos los elementos\n",
    "print(np.sum(x, axis=0))  # suma de las columnas; imprime \"[4 6]\"\n",
    "print(np.sum(x, axis=1))  # suma de las filas; imprime \"[3 7]\""
   ]
  },
  {
   "cell_type": "code",
   "execution_count": 11,
   "metadata": {},
   "outputs": [
    {
     "name": "stdout",
     "output_type": "stream",
     "text": [
      "[[-1  2]\n",
      " [ 3 -4]]\n",
      "0.0\n",
      "2.7386127875258306\n",
      "0\n",
      "Min =  -4 3\n",
      "3 2\n",
      "[[ 1  4]\n",
      " [ 9 16]]\n"
     ]
    }
   ],
   "source": [
    "x = np.array([[-1,2],[3,-4]])\n",
    "print(x)\n",
    "print(x.mean())\n",
    "print(x.std())\n",
    "print(x.sum())\n",
    "print('Min = ',x.min(),x.argmin())\n",
    "print(x.max(),x.argmax())\n",
    "print(x**2)"
   ]
  },
  {
   "cell_type": "markdown",
   "metadata": {},
   "source": [
    "La lista de las funciones matematicas la encuentra aqui [documentation](http://docs.scipy.org/doc/numpy/reference/routines.math.html).\n",
    "\n",
    "Ademas de las funciones matematicas, nosotros tambien podemos o cambiar su \"forma\" or  manipular su contenido, por ejemplo su transpuesta es x.T"
   ]
  },
  {
   "cell_type": "code",
   "execution_count": 34,
   "metadata": {},
   "outputs": [
    {
     "name": "stdout",
     "output_type": "stream",
     "text": [
      "[[1 2]\n",
      " [3 4]]\n",
      "[[1 3]\n",
      " [2 4]]\n"
     ]
    }
   ],
   "source": [
    "print(x)\n",
    "print(x.T)"
   ]
  },
  {
   "cell_type": "code",
   "execution_count": 35,
   "metadata": {},
   "outputs": [
    {
     "name": "stdout",
     "output_type": "stream",
     "text": [
      "[[1 2 3]]\n",
      "[[1]\n",
      " [2]\n",
      " [3]]\n"
     ]
    }
   ],
   "source": [
    "v = np.array([[1,2,3]])\n",
    "print(v) \n",
    "print(v.T)"
   ]
  },
  {
   "cell_type": "markdown",
   "metadata": {},
   "source": [
    "Podemos crear arreglos que este distribuidos uniformement. Una donde espeficamos el comienzo, el final y tamaño de la estapa o definiendo el minimo, el maximo y el numero de numeros que se desean en ese intervalo."
   ]
  },
  {
   "cell_type": "code",
   "execution_count": 36,
   "metadata": {},
   "outputs": [
    {
     "name": "stdout",
     "output_type": "stream",
     "text": [
      "[0 2 4 6 8]\n",
      "[ 0.          1.42857143  2.85714286  4.28571429  5.71428571  7.14285714\n",
      "  8.57142857 10.        ]\n"
     ]
    }
   ],
   "source": [
    "a=np.arange(0,10,2)\n",
    "print(a)\n",
    "b=np.linspace(0,10,8)\n",
    "print(b)"
   ]
  },
  {
   "cell_type": "markdown",
   "metadata": {},
   "source": [
    "#### Copiando arreglos"
   ]
  },
  {
   "cell_type": "code",
   "execution_count": 37,
   "metadata": {},
   "outputs": [
    {
     "name": "stdout",
     "output_type": "stream",
     "text": [
      "[[ 0  1  2  3  4]\n",
      " [ 5  6  7  8  9]\n",
      " [10 11 12 13 14]\n",
      " [15 16 17 18 19]]\n",
      "[[ 0  1  2  3  4]\n",
      " [ 5  6  7  8 30]\n",
      " [30 30 30 30 30]\n",
      " [30 30 30 30 30]]\n",
      "[[0 1]\n",
      " [5 6]]\n",
      "[[ 0  0  2  3  4]\n",
      " [ 0  0  7  8 30]\n",
      " [30 30 30 30 30]\n",
      " [30 30 30 30 30]]\n",
      "[[0 0]\n",
      " [0 0]]\n",
      "[[ 0  1  2  3  4]\n",
      " [ 5  6  7  8  9]\n",
      " [10 11 12 13 14]\n",
      " [15 16 17 18 19]]\n",
      "[[0 0]\n",
      " [0 0]]\n"
     ]
    }
   ],
   "source": [
    "a=np.arange(20)\n",
    "a.resize((4,5))\n",
    "print(a)\n",
    "a[a>8]=30   # Poniendo el maximo del arreglo a 30 \n",
    "print(a)\n",
    "\n",
    "# copiamos un \"slice\" de a en r\n",
    "r=a[:2,:2]\n",
    "print(r)\n",
    "#Asignamos 0 a todos los elementos de r \n",
    "r[:]=0\n",
    "# Veamos que cambio\n",
    "print(a)\n",
    "print(r)\n",
    "#  Si queremos copiar el arreglo original \n",
    "a=np.arange(20)\n",
    "a.resize((4,5))\n",
    "r=a[:2,:2].copy()\n",
    "r[:]=0\n",
    "print(a)\n",
    "print(r)"
   ]
  },
  {
   "cell_type": "markdown",
   "metadata": {},
   "source": [
    "#### Iterando sobre el arreglo"
   ]
  },
  {
   "cell_type": "code",
   "execution_count": 12,
   "metadata": {},
   "outputs": [
    {
     "name": "stdout",
     "output_type": "stream",
     "text": [
      "[[19  6  3 12  8]\n",
      " [12  1  5  3  4]\n",
      " [16  3 10 17  6]\n",
      " [18  1 18 10 15]]\n",
      "[19  6  3 12  8]\n",
      "[12  1  5  3  4]\n",
      "[16  3 10 17  6]\n",
      "[18  1 18 10 15]\n",
      "0 [19  6  3 12  8]\n",
      "1 [12  1  5  3  4]\n",
      "2 [16  3 10 17  6]\n",
      "3 [18  1 18 10 15]\n",
      "0 0 19\n",
      "0 1 6\n",
      "0 2 3\n",
      "0 3 12\n",
      "0 4 8\n",
      "1 0 12\n",
      "1 1 1\n",
      "1 2 5\n",
      "1 3 3\n",
      "1 4 4\n",
      "2 0 16\n",
      "2 1 3\n",
      "2 2 10\n",
      "2 3 17\n",
      "2 4 6\n",
      "3 0 18\n",
      "3 1 1\n",
      "3 2 18\n",
      "3 3 10\n",
      "3 4 15\n"
     ]
    }
   ],
   "source": [
    "x=np.random.randint(1,20,(4,5))\n",
    "print(x)\n",
    "for i in x:\n",
    "    print(i)\n",
    "for i,r in enumerate(x):\n",
    "    print(i,r)\n",
    "for i in range(4):\n",
    "    for j in range(5):\n",
    "        print(i,j,x[i,j])"
   ]
  },
  {
   "cell_type": "code",
   "execution_count": 39,
   "metadata": {},
   "outputs": [
    {
     "name": "stdout",
     "output_type": "stream",
     "text": [
      "[[17  9 17  5 15]\n",
      " [ 3  5 10 13  4]\n",
      " [ 5 11 11  7 14]\n",
      " [ 4 15 14 15  5]]\n",
      "[34 24 24 13 26]\n",
      "[16 12 26 31 11]\n",
      "[17 14 26  9 18]\n",
      "[22 30 26 33 22]\n"
     ]
    }
   ],
   "source": [
    "y=np.random.randint(1,20,(4,5))\n",
    "print(y)\n",
    "\n",
    "for i,j in zip(x,y):\n",
    "    print(i+j)"
   ]
  },
  {
   "cell_type": "markdown",
   "metadata": {},
   "source": [
    "## Vectorizacion"
   ]
  },
  {
   "cell_type": "code",
   "execution_count": 40,
   "metadata": {},
   "outputs": [
    {
     "name": "stdout",
     "output_type": "stream",
     "text": [
      "Result = 249933.4008241569\n",
      "Vectorized = 0.6468296051025391 ms\n",
      "Result = 249933.4008241592\n",
      "Non Vectorized = 201.1120319366455 ms\n"
     ]
    }
   ],
   "source": [
    "import time \n",
    "x=np.random.rand(1000000)\n",
    "y=np.random.rand(1000000)\n",
    "\n",
    "tic=time.time()\n",
    "z=np.dot(x,y)\n",
    "toc=time.time()\n",
    "print('Result =',z)\n",
    "\n",
    "print(\"Vectorized = \"+str(1000*(toc-tic))+\" ms\")\n",
    "\n",
    "z=0.0\n",
    "tic=time.time()\n",
    "for i in range(1000000):\n",
    "    z += x[i]*y[i]\n",
    "toc=time.time()\n",
    "print('Result =',z)\n",
    "\n",
    "print(\"Non Vectorized = \"+str(1000*(toc-tic))+\" ms\")"
   ]
  },
  {
   "cell_type": "markdown",
   "metadata": {},
   "source": [
    "CPI y GPU tiene lo que llaman SIMD (single instructions, multiple data) y Numpy toma ventaja de esto. En GPU es inclusive mejor. Lo importante para tener en mente es que uno debe evitar \"loops\" or bocles tanto como sea posible."
   ]
  },
  {
   "cell_type": "code",
   "execution_count": 41,
   "metadata": {},
   "outputs": [
    {
     "name": "stdout",
     "output_type": "stream",
     "text": [
      "Vectorized = 2.8328895568847656 ms\n",
      "Vectorized = 0.053882598876953125 ms\n"
     ]
    }
   ],
   "source": [
    "# Multiplicacion Vector-Matrix\n",
    "\n",
    "import time \n",
    "\n",
    "x=np.random.rand(1000)\n",
    "y=np.random.rand(1000,1000)\n",
    "\n",
    "tic=time.time()\n",
    "z=np.dot(x,y)\n",
    "toc=time.time()\n",
    "\n",
    "\n",
    "print(\"Vectorized = \"+str(1000*(toc-tic))+\" ms\")\n",
    "\n",
    "#Exponential over a vector\n",
    "\n",
    "tic=time.time()\n",
    "z=np.exp(x)\n",
    "toc=time.time()\n",
    "\n",
    "print(\"Vectorized = \"+str(1000*(toc-tic))+\" ms\")\n"
   ]
  },
  {
   "cell_type": "markdown",
   "metadata": {},
   "source": [
    "Numpy tiene muchas diferentes funciones que pueden ser usados en vectorizacion, operaciones como log, abs, maxmium, operaciones por elemento (v**2), etc. "
   ]
  },
  {
   "cell_type": "markdown",
   "metadata": {},
   "source": [
    "### Broadcasting"
   ]
  },
  {
   "cell_type": "code",
   "execution_count": 13,
   "metadata": {},
   "outputs": [
    {
     "name": "stdout",
     "output_type": "stream",
     "text": [
      "[[12.   0.   8.   5. ]\n",
      " [ 4.8  3.2  1.4  2.5]\n",
      " [ 1.2  8.   1.2  3.2]]\n",
      "[18.  11.2 10.6 10.7]\n",
      "(4,)\n",
      "(1, 4)\n",
      "[[66.66666667  0.         75.47169811 46.72897196]\n",
      " [26.66666667 28.57142857 13.20754717 23.36448598]\n",
      " [ 6.66666667 71.42857143 11.32075472 29.90654206]]\n",
      "[[66.66666667  0.         75.47169811 46.72897196]\n",
      " [26.66666667 28.57142857 13.20754717 23.36448598]\n",
      " [ 6.66666667 71.42857143 11.32075472 29.90654206]]\n"
     ]
    }
   ],
   "source": [
    "A=np.array([[12.0,0.0,8.0,5.0],[4.8,3.2,1.4,2.5],[1.2,8.0,1.2,3.2]])\n",
    "print(A)\n",
    "sum_columns=np.sum(A,axis=0)\n",
    "print(sum_columns)\n",
    "print(sum_columns.shape)\n",
    "\n",
    "# Divida cada columna por la suma de toda la columna \n",
    "# Aqui, el \"braodcasting\" lo que hace es dividir la matrix A, pero cada columna se divide por numero diferente\n",
    "\n",
    "d=sum_columns.reshape(1,4)\n",
    "print(d.shape)\n",
    "percentage=100*A/sum_columns.reshape(1,4)\n",
    "\n",
    "print(percentage)\n",
    "\n",
    "percentage=100*A/sum_columns\n",
    "\n",
    "print(percentage)"
   ]
  },
  {
   "cell_type": "markdown",
   "metadata": {},
   "source": [
    "Broadcasting es un mecanismo poderoso que permite a numpy a trabajar con arreglos de diferentes tamaños y realizar operaciones aritmeticas. Por ejemplo, frecuentemente tenemos un arreglo pequeño y uno mas grande y lo que queremos es usar el arreglo pequeño varias veces para hacer alguna operacion en el arreglo mas grande.\n",
    "\n",
    "Por ejemplo, sumar un vector constante a cada columan de una matrix"
   ]
  },
  {
   "cell_type": "code",
   "execution_count": 43,
   "metadata": {},
   "outputs": [
    {
     "name": "stdout",
     "output_type": "stream",
     "text": [
      "(4, 3)\n",
      "(3,)\n",
      "[[ 2  2  4]\n",
      " [ 5  5  7]\n",
      " [ 8  8 10]\n",
      " [11 11 13]]\n"
     ]
    }
   ],
   "source": [
    "#\n",
    "x = np.array([[1,2,3], [4,5,6], [7,8,9], [10, 11, 12]])\n",
    "print(x.shape)\n",
    "v = np.array([1, 0, 1])\n",
    "print(v.shape)\n",
    "y = np.empty_like(x)   # Create an empty matrix with the same shape as x\n",
    "\n",
    "# Add the vector v to each row of the matrix x with an explicit loop\n",
    "for i in range(4):\n",
    "    y[i, :] = x[i, :] + v\n",
    "\n",
    "print(y)"
   ]
  },
  {
   "cell_type": "markdown",
   "metadata": {},
   "source": [
    "Esto va bien, aunque viene a ser lento si el tamaño de la matrix `x` es muy grande. Una manera es \"generar\" una matrix donde pegamos copias del vector `v` y luego hacer la suma elemento por elemento. \n",
    "\n",
    "EN realidad Python hace esto por su cuenta: "
   ]
  },
  {
   "cell_type": "code",
   "execution_count": 40,
   "metadata": {},
   "outputs": [
    {
     "name": "stdout",
     "output_type": "stream",
     "text": [
      "[[ 2  2  4]\n",
      " [ 5  5  7]\n",
      " [ 8  8 10]\n",
      " [11 11 13]]\n"
     ]
    }
   ],
   "source": [
    "import numpy as np\n",
    "\n",
    "# We will add the vector v to each row of the matrix x,\n",
    "# storing the result in the matrix y\n",
    "x = np.array([[1,2,3], [4,5,6], [7,8,9], [10, 11, 12]])\n",
    "v = np.array([1, 0, 1])\n",
    "y = x + v  # Add v to each row of x using broadcasting\n",
    "print(y)"
   ]
  },
  {
   "cell_type": "markdown",
   "metadata": {},
   "source": [
    "Si te parece complicado, te recomienda leer [documentacion](http://docs.scipy.org/doc/numpy/user/basics.broadcasting.html) or tutoriales [tutorial_1](https://machinelearningmastery.com/broadcasting-with-numpy-arrays/), [tutorial_2](https://www.geeksforgeeks.org/python-broadcasting-with-numpy-arrays/).\n",
    "\n",
    "Las funciones que soportan estas operaciones lo pueden encontrar en la [documentacion](http://docs.scipy.org/doc/numpy/reference/ufuncs.html#available-ufuncs).\n",
    "\n",
    "Por ejemplo:"
   ]
  },
  {
   "cell_type": "code",
   "execution_count": 44,
   "metadata": {},
   "outputs": [
    {
     "name": "stdout",
     "output_type": "stream",
     "text": [
      "[1 2 3]\n",
      "[4 5]\n",
      "[[ 4  5]\n",
      " [ 8 10]\n",
      " [12 15]]\n"
     ]
    }
   ],
   "source": [
    "# Calcular el \"outer product\" de vectores \n",
    "v = np.array([1,2,3])  # v tiene dimension (3,)\n",
    "w = np.array([4,5])    # w tiene dimension (2,)\n",
    "\n",
    "print(v)\n",
    "print(w)\n",
    "\n",
    "# para calcular este prouecto, primero redimensionamos v a un vector columna de (3,1)\n",
    "# y luego lo \"broadcast\" con w, para tener un vector de dimension (3,2)\n",
    "\n",
    "\n",
    "print(np.reshape(v, (3, 1)) * w)"
   ]
  },
  {
   "cell_type": "code",
   "execution_count": 45,
   "metadata": {},
   "outputs": [
    {
     "name": "stdout",
     "output_type": "stream",
     "text": [
      "[[2 4 6]\n",
      " [5 7 9]]\n"
     ]
    }
   ],
   "source": [
    "# sumar un vector a una matrix\n",
    "\n",
    "x = np.array([[1,2,3], [4,5,6]])\n",
    "\n",
    "print(x + v)"
   ]
  },
  {
   "cell_type": "code",
   "execution_count": 47,
   "metadata": {},
   "outputs": [
    {
     "name": "stdout",
     "output_type": "stream",
     "text": [
      "(2, 3)\n",
      "(2,)\n",
      "[[ 5  6  7]\n",
      " [ 9 10 11]]\n"
     ]
    }
   ],
   "source": [
    "# Sumar un vector a cada columna de una matrix \n",
    "# x tiene dimension (2, 3) y w tiene dimension (2,).\n",
    "# si transponemos x, tiene la dimension (3, 2) y luego hacer el broadcast\n",
    "\n",
    "print(x.shape)\n",
    "print(w.shape)\n",
    "print((x.T + w).T)"
   ]
  },
  {
   "cell_type": "markdown",
   "metadata": {},
   "source": [
    "Broadcasting typically makes your code more concise and faster, so you should strive to use it where possible."
   ]
  },
  {
   "cell_type": "markdown",
   "metadata": {},
   "source": [
    "Antes de terminar, veamos algunos detalles acerca de vectores que no es trivial en Python"
   ]
  },
  {
   "cell_type": "code",
   "execution_count": 48,
   "metadata": {},
   "outputs": [
    {
     "name": "stdout",
     "output_type": "stream",
     "text": [
      "[0.94436879 0.84305321 0.69188816 0.9439572  0.52102152 0.21170585\n",
      " 0.73420167 0.88725629]\n",
      "(8,)\n"
     ]
    }
   ],
   "source": [
    "a=np.random.rand(8)\n",
    "print(a)\n",
    "print(a.shape)"
   ]
  },
  {
   "cell_type": "markdown",
   "metadata": {},
   "source": [
    "Como ven, la dimension no es (8,1) o (1,8) pero es (8,), este vector es de rango uno pero no se considera ni columna ni fila. Veamos los efectos"
   ]
  },
  {
   "cell_type": "code",
   "execution_count": 49,
   "metadata": {},
   "outputs": [
    {
     "name": "stdout",
     "output_type": "stream",
     "text": [
      "4.614894158993276\n",
      "4.614894158993276\n"
     ]
    }
   ],
   "source": [
    "print(np.dot(a,a.T))\n",
    "print(np.dot(a,a))"
   ]
  },
  {
   "cell_type": "markdown",
   "metadata": {},
   "source": [
    "Compare a"
   ]
  },
  {
   "cell_type": "code",
   "execution_count": 50,
   "metadata": {},
   "outputs": [
    {
     "name": "stdout",
     "output_type": "stream",
     "text": [
      "[[0.89933975]\n",
      " [0.03814989]\n",
      " [0.8525365 ]\n",
      " [0.7195104 ]\n",
      " [0.95942891]\n",
      " [0.23438204]\n",
      " [0.22728905]\n",
      " [0.69590371]]\n",
      "[[0.80881199 0.03430971 0.76671996 0.64708431 0.86285256 0.21078908\n",
      "  0.20441008 0.62585387]\n",
      " [0.03430971 0.00145541 0.03252417 0.02744924 0.03660211 0.00894165\n",
      "  0.00867105 0.02654865]\n",
      " [0.76671996 0.03252417 0.72681848 0.61340888 0.81794816 0.19981924\n",
      "  0.19377221 0.59328331]\n",
      " [0.64708431 0.02744924 0.61340888 0.51769522 0.69031908 0.16864031\n",
      "  0.16353684 0.50070996]\n",
      " [0.86285256 0.03660211 0.81794816 0.69031908 0.92050384 0.2248729\n",
      "  0.21806769 0.66767014]\n",
      " [0.21078908 0.00894165 0.19981924 0.16864031 0.2248729  0.05493494\n",
      "  0.05327247 0.16310733]\n",
      " [0.20441008 0.00867105 0.19377221 0.16353684 0.21806769 0.05327247\n",
      "  0.05166031 0.15817129]\n",
      " [0.62585387 0.02654865 0.59328331 0.50070996 0.66767014 0.16310733\n",
      "  0.15817129 0.48428197]]\n",
      "(8, 1)\n"
     ]
    },
    {
     "ename": "ValueError",
     "evalue": "shapes (8,1) and (8,1) not aligned: 1 (dim 1) != 8 (dim 0)",
     "output_type": "error",
     "traceback": [
      "\u001b[0;31m---------------------------------------------------------------------------\u001b[0m",
      "\u001b[0;31mValueError\u001b[0m                                Traceback (most recent call last)",
      "Input \u001b[0;32mIn [50]\u001b[0m, in \u001b[0;36m<module>\u001b[0;34m\u001b[0m\n\u001b[1;32m      4\u001b[0m \u001b[38;5;28mprint\u001b[39m(np\u001b[38;5;241m.\u001b[39mdot(a,a\u001b[38;5;241m.\u001b[39mT))\n\u001b[1;32m      5\u001b[0m \u001b[38;5;28mprint\u001b[39m(a\u001b[38;5;241m.\u001b[39mshape)\n\u001b[0;32m----> 6\u001b[0m \u001b[38;5;28mprint\u001b[39m(\u001b[43mnp\u001b[49m\u001b[38;5;241;43m.\u001b[39;49m\u001b[43mdot\u001b[49m\u001b[43m(\u001b[49m\u001b[43ma\u001b[49m\u001b[43m,\u001b[49m\u001b[43ma\u001b[49m\u001b[43m)\u001b[49m)\n\u001b[1;32m      7\u001b[0m \u001b[38;5;28mprint\u001b[39m(np\u001b[38;5;241m.\u001b[39mdot(a\u001b[38;5;241m.\u001b[39mT,a))\n",
      "File \u001b[0;32m<__array_function__ internals>:5\u001b[0m, in \u001b[0;36mdot\u001b[0;34m(*args, **kwargs)\u001b[0m\n",
      "\u001b[0;31mValueError\u001b[0m: shapes (8,1) and (8,1) not aligned: 1 (dim 1) != 8 (dim 0)"
     ]
    }
   ],
   "source": [
    "a=np.random.rand(8,1)\n",
    "print(a)\n",
    "\n",
    "print(np.dot(a,a.T))\n",
    "print(a.shape)\n",
    "print(np.dot(a,a))\n",
    "print(np.dot(a.T,a))\n"
   ]
  },
  {
   "cell_type": "markdown",
   "metadata": {},
   "source": [
    "Por lo tanto, a menos que sepas lo que estes haciendo, siempre es mejor tener claridad sobre la forma del vector, mantengala (8,1) por ejemplo. Para mirar si es la dimensionalidad puedes usar\n",
    "\n",
    "```\n",
    "assert(a.shape==(8,1))\n",
    "```\n",
    "y puedes cambiar las dimensiones usando\n",
    "\n",
    "```\n",
    "a.reshape((1,8))\n",
    "```"
   ]
  },
  {
   "cell_type": "code",
   "execution_count": null,
   "metadata": {},
   "outputs": [],
   "source": []
  }
 ],
 "metadata": {
  "kernelspec": {
   "display_name": "Python 3 (ipykernel)",
   "language": "python",
   "name": "python3"
  },
  "language_info": {
   "codemirror_mode": {
    "name": "ipython",
    "version": 3
   },
   "file_extension": ".py",
   "mimetype": "text/x-python",
   "name": "python",
   "nbconvert_exporter": "python",
   "pygments_lexer": "ipython3",
   "version": "3.9.7"
  }
 },
 "nbformat": 4,
 "nbformat_minor": 2
}
