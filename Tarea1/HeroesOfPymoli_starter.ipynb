{
 "cells": [
  {
   "cell_type": "markdown",
   "metadata": {},
   "source": [
    "# Tarea 1"
   ]
  },
  {
   "cell_type": "markdown",
   "metadata": {},
   "source": [
    "### NOMBRE ESTUDIANTE: "
   ]
  },
  {
   "cell_type": "markdown",
   "metadata": {},
   "source": [
    "### CODIGO ESTUDIANTE"
   ]
  },
  {
   "cell_type": "markdown",
   "metadata": {},
   "source": [
    "Use este mismo Jupyter Notebook pero cambiele de nombre a que sea:\n",
    "\n",
    "Tarea1_ML_Nombre_Apellido.ipynb"
   ]
  },
  {
   "cell_type": "markdown",
   "metadata": {},
   "source": [
    "### Introduccion"
   ]
  },
  {
   "cell_type": "markdown",
   "metadata": {},
   "source": [
    "Gracias al apoyo de esta clase, usted cada de conseguir su primer empleo. Usted es el jefe de la seccion de analisis de datos de una pequeña compañia de juegos. Y su primera tarea es analizar la informacion que ha guardado la compañia del uso de su uego **Heroes de Pymoli**.\n",
    "\n",
    "Este juego es gratis pero el negocio esta en que el juego \"aconseja\" comprar cosas adicionales para mejorar la experiencia del jugador. Lo quiere la compañia es que se cree un reporte que divida la informacion y de la empresa una idea mas profunda del comportamiento de los datos."
   ]
  },
  {
   "cell_type": "markdown",
   "metadata": {},
   "source": [
    "La tarea tiene varias partes y ustedes tienen que responder cada una (usen una celda para cada pregunta o usen una celda para cada seccion, como les parezca mejor):\n",
    "\n",
    "1. Leer usando pandas el archivo de datos Resources/purchase_data.csv\n",
    "2. Mirar si hay datos faltantes o hay filas repetidas.\n",
    "3. Imprima el titulo de cada columna. Le va a servir para lo que sigue."
   ]
  },
  {
   "cell_type": "code",
   "execution_count": 1,
   "metadata": {},
   "outputs": [],
   "source": [
    "# Mi solucion\n",
    "import ... as ...\n",
    "\n",
    "do this..\n",
    "\n",
    "do that..\n",
    "\n",
    "print()\n",
    "\n",
    "plot()"
   ]
  },
  {
   "cell_type": "markdown",
   "metadata": {},
   "source": [
    "Informacion de los articulos\n",
    "\n",
    "4. Encontrar el numero total de jugadores\n",
    "5. Encontrar el numero total de articulos DIFERENTES que se han comprado\n",
    "6. Cual es el promedio de precios de los articulos que son diferentes\n",
    "7. Cual ha sido la ganancia total de ventas"
   ]
  },
  {
   "cell_type": "code",
   "execution_count": null,
   "metadata": {},
   "outputs": [],
   "source": [
    "# Mi solucion\n",
    "\n",
    "total=...\n",
    "diferentes=...\n",
    "suma..\n"
   ]
  },
  {
   "cell_type": "markdown",
   "metadata": {},
   "source": [
    "Informacion demografica\n",
    "\n",
    "8. Cuente cuantos son los jugadores que son hombres\n",
    "9. Cual es el porcentaje de hombres y de mujeres dentro de la base de datos\n",
    "10. Cuantos son los jugadores que no dieron informacion sobre su sexo.\n",
    "11. Haga un histograma de la distribucion de edades"
   ]
  },
  {
   "cell_type": "code",
   "execution_count": null,
   "metadata": {},
   "outputs": [],
   "source": [
    "# Mi solucion\n",
    "\n",
    "jugadores=..\n"
   ]
  },
  {
   "cell_type": "markdown",
   "metadata": {},
   "source": [
    "Analisis de compra\n",
    "\n",
    "12. Cuantos articulos compraron los hombres y cuantos las mujeres?\n",
    "13. Cuanto gastaron en promedio los hombres y cuando en promedio las mujeres?"
   ]
  },
  {
   "cell_type": "code",
   "execution_count": null,
   "metadata": {},
   "outputs": [],
   "source": [
    "# Mi solucion"
   ]
  },
  {
   "cell_type": "markdown",
   "metadata": {},
   "source": [
    "Informacion demografica por edad\n",
    "\n",
    "En esta seccion, divida la informacion en \"contenedores\" de 4 años. (Es decir <10, 10-14,15-18, etc)\n",
    "\n",
    "12. Cuanto se gastaron por edad\n",
    "13. Cuanto fue el promedio que se gastaron por edad\n",
    "14. Cual fue el gasto total por edad\n",
    "15. Que grupo fue el que mas gasto y cuales son los articulos que mas se compraro para los que mas gastaron.\n",
    "16. Hata un histograma de cuantas veces se compraron los diferentes articulos.\n",
    "17. Identifique cuales son los articulos que das mas dinero a la empresa, identificando el nombre del articulo, el ID, cuantas veces se compro y el precio del articulo."
   ]
  },
  {
   "cell_type": "code",
   "execution_count": null,
   "metadata": {},
   "outputs": [],
   "source": [
    "# Mi solucion"
   ]
  }
 ],
 "metadata": {
  "anaconda-cloud": {},
  "kernel_info": {
   "name": "python3"
  },
  "kernelspec": {
   "display_name": "Python 3 (ipykernel)",
   "language": "python",
   "name": "python3"
  },
  "language_info": {
   "codemirror_mode": {
    "name": "ipython",
    "version": 3
   },
   "file_extension": ".py",
   "mimetype": "text/x-python",
   "name": "python",
   "nbconvert_exporter": "python",
   "pygments_lexer": "ipython3",
   "version": "3.9.7"
  },
  "nteract": {
   "version": "0.2.0"
  }
 },
 "nbformat": 4,
 "nbformat_minor": 2
}
